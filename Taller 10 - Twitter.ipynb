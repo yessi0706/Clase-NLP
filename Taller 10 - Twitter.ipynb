{
 "cells": [
  {
   "cell_type": "markdown",
   "metadata": {},
   "source": [
    "<img src='https://encrypted-tbn0.gstatic.com/images?q=tbn%3AANd9GcQ-VfNtOyJbsaxu43Kztf_cv1mgBG6ZIQZEVw&usqp=CAU'>\n",
    "\n",
    "# Procesamiento de Lenguage Natural\n",
    "\n",
    "## Taller #10: Twitter\n",
    "`Fecha de entrega: Noviembre 14, 2020 (Antes del inicio de la próxima clase).`\n",
    "\n",
    "`Modo de entrega: Subir link de GitHub al aula virtual.`"
   ]
  },
  {
   "cell_type": "markdown",
   "metadata": {},
   "source": [
    "###  `[25 pts]` Punto 1: Extraer Tuits\n",
    "Extraer mínimo 100 tuits de Twitter usando la API\n",
    "\n",
    "(Si exponen sus claves, les haré maldades 😈)\n",
    "\n",
    "❌🎃❌ ¡No Halloween!"
   ]
  },
  {
   "cell_type": "code",
   "execution_count": 1,
   "metadata": {},
   "outputs": [],
   "source": [
    "import pandas as pd\n",
    "import tweepy\n",
    "import re\n",
    "import regex\n",
    "import emoji\n",
    "from nltk.corpus import stopwords\n",
    "stopwords_sp = stopwords.words('spanish') "
   ]
  },
  {
   "cell_type": "code",
   "execution_count": 2,
   "metadata": {},
   "outputs": [],
   "source": [
    "keys = pd.read_csv(\"C:/Users/jlo46/OneDrive/Documentos/ESPECIALIZACION/SEMESTRE 2/Fundamentos NLP/First_Twitter_Analysis.csv\", header = None)\n",
    "keys = dict(zip(keys[0],keys[1]))\n",
    "auth = tweepy.OAuthHandler(keys['API Key'], keys['Api Key Secret'])\n",
    "auth.set_access_token(keys['Access Token'], keys['Acess token Secret'])\n",
    "api = tweepy.API(auth, wait_on_rate_limit=True)"
   ]
  },
  {
   "cell_type": "markdown",
   "metadata": {},
   "source": [
    "### Recolección de 100 Tweets sobre Transmilenio en Bogotá"
   ]
  },
  {
   "cell_type": "code",
   "execution_count": 3,
   "metadata": {},
   "outputs": [],
   "source": [
    "tweets = tweepy.Cursor(api.search,\n",
    "                       q=['transmilenio -RT'], \n",
    "                       lang='es', \n",
    "                       geocode=f'4.649178,-74.062827,45mi', \n",
    "                       tweet_mode='extended', \n",
    "                       include_rts=False).items(100) "
   ]
  },
  {
   "cell_type": "code",
   "execution_count": 4,
   "metadata": {},
   "outputs": [],
   "source": [
    "t = []\n",
    "\n",
    "for tweet in tweets:\n",
    "        temp = []\n",
    "        temp.append(tweet.full_text)\n",
    "        temp.append(tweet.created_at)\n",
    "        temp.append(\"Bogotá\")\n",
    "        temp.append(tweet.user.location)\n",
    "        temp.append(tweet.id)\n",
    "        temp.append(f\"https://twitter.com/i/web/status/{tweet.id}\")\n",
    "\n",
    "        t.append(temp)"
   ]
  },
  {
   "cell_type": "markdown",
   "metadata": {},
   "source": [
    "### Limpieza de texto"
   ]
  },
  {
   "cell_type": "code",
   "execution_count": 5,
   "metadata": {},
   "outputs": [],
   "source": [
    "pattern1 = '?P<pic>pic.twitter.com/[^\\s]+'\n",
    "pattern2 = '?P<url>https?://[^\\s]+'\n",
    "\n",
    "def text_clean(row):\n",
    "    text = row['tweet']\n",
    "    text = text.lower()\n",
    "    text = \" \".join([palabra for palabra in text.split() if palabra not in stopwords_sp])\n",
    "    \n",
    "    links = [tuple(j for j in i if j)[-1] for i in re.findall(f\"({pattern1})|({pattern2})\",text)]\n",
    "    for link in links:\n",
    "        text = text.replace(link,\"\")\n",
    "             \n",
    "    hashtags = [interaction for interaction in text.split() if interaction.startswith(\"#\")]\n",
    "    for hashtag in hashtags:\n",
    "        text = text.replace(hashtag,\"\")\n",
    "        \n",
    "    mentions = [interaction for interaction in text.split() if interaction.startswith(\"@\")]\n",
    "    for mention in mentions:\n",
    "        text = text.replace(mention,\"\")\n",
    "        \n",
    "    return text, links, hashtags, mentions"
   ]
  },
  {
   "cell_type": "markdown",
   "metadata": {},
   "source": [
    "### Creación del Data Frame"
   ]
  },
  {
   "cell_type": "code",
   "execution_count": 6,
   "metadata": {},
   "outputs": [
    {
     "data": {
      "text/html": [
       "<div>\n",
       "<style scoped>\n",
       "    .dataframe tbody tr th:only-of-type {\n",
       "        vertical-align: middle;\n",
       "    }\n",
       "\n",
       "    .dataframe tbody tr th {\n",
       "        vertical-align: top;\n",
       "    }\n",
       "\n",
       "    .dataframe thead th {\n",
       "        text-align: right;\n",
       "    }\n",
       "</style>\n",
       "<table border=\"1\" class=\"dataframe\">\n",
       "  <thead>\n",
       "    <tr style=\"text-align: right;\">\n",
       "      <th></th>\n",
       "      <th>tweet</th>\n",
       "      <th>date</th>\n",
       "      <th>city</th>\n",
       "      <th>user_location</th>\n",
       "      <th>id</th>\n",
       "      <th>link</th>\n",
       "      <th>clean</th>\n",
       "      <th>links</th>\n",
       "      <th>hashtags</th>\n",
       "      <th>mentions</th>\n",
       "    </tr>\n",
       "  </thead>\n",
       "  <tbody>\n",
       "    <tr>\n",
       "      <th>0</th>\n",
       "      <td>@bogotamuyfirme @ClaudiaLopez @TransMilenio Y ...</td>\n",
       "      <td>2020-11-13 03:27:11</td>\n",
       "      <td>Bogotá</td>\n",
       "      <td>Bogotá</td>\n",
       "      <td>1327090608373108736</td>\n",
       "      <td>https://twitter.com/i/web/status/1327090608373...</td>\n",
       "      <td>subieron vender parte humo, galletas nucita...</td>\n",
       "      <td>[]</td>\n",
       "      <td>[]</td>\n",
       "      <td>[@bogotamuyfirme, @claudialopez, @transmilenio]</td>\n",
       "    </tr>\n",
       "    <tr>\n",
       "      <th>1</th>\n",
       "      <td>@Maryaristizabal @NoticiasRCN Indispensable de...</td>\n",
       "      <td>2020-11-13 03:24:53</td>\n",
       "      <td>Bogotá</td>\n",
       "      <td>Bogotá, Colombia</td>\n",
       "      <td>1327090028930097154</td>\n",
       "      <td>https://twitter.com/i/web/status/1327090028930...</td>\n",
       "      <td>indispensable desmantelar transmilenio banda...</td>\n",
       "      <td>[]</td>\n",
       "      <td>[]</td>\n",
       "      <td>[@maryaristizabal, @noticiasrcn]</td>\n",
       "    </tr>\n",
       "    <tr>\n",
       "      <th>2</th>\n",
       "      <td>@Penalosadas @ClaudiaLopez @TransMilenio Se hi...</td>\n",
       "      <td>2020-11-13 03:21:50</td>\n",
       "      <td>Bogotá</td>\n",
       "      <td>Bogotá</td>\n",
       "      <td>1327089260214820868</td>\n",
       "      <td>https://twitter.com/i/web/status/1327089260214...</td>\n",
       "      <td>hizo elegir diciendo transmilenio... peñalo...</td>\n",
       "      <td>[]</td>\n",
       "      <td>[]</td>\n",
       "      <td>[@penalosadas, @claudialopez, @transmilenio]</td>\n",
       "    </tr>\n",
       "    <tr>\n",
       "      <th>3</th>\n",
       "      <td>#NoticiasCapital | La Alcaldía y Policía de Bo...</td>\n",
       "      <td>2020-11-13 03:20:00</td>\n",
       "      <td>Bogotá</td>\n",
       "      <td>Bogotá, Colombia</td>\n",
       "      <td>1327088798354771970</td>\n",
       "      <td>https://twitter.com/i/web/status/1327088798354...</td>\n",
       "      <td>| alcaldía policía bogotá trabajan fortalecer...</td>\n",
       "      <td>[https://t.co/dz3sywfhsh]</td>\n",
       "      <td>[#noticiascapital]</td>\n",
       "      <td>[]</td>\n",
       "    </tr>\n",
       "    <tr>\n",
       "      <th>4</th>\n",
       "      <td>@ClaudiaLopez @TransMilenio Ojo le@roban el@celu</td>\n",
       "      <td>2020-11-13 03:16:43</td>\n",
       "      <td>Bogotá</td>\n",
       "      <td>Bogotá, Colombia</td>\n",
       "      <td>1327087971884011520</td>\n",
       "      <td>https://twitter.com/i/web/status/1327087971884...</td>\n",
       "      <td>ojo le@roban el@celu</td>\n",
       "      <td>[]</td>\n",
       "      <td>[]</td>\n",
       "      <td>[@claudialopez, @transmilenio]</td>\n",
       "    </tr>\n",
       "  </tbody>\n",
       "</table>\n",
       "</div>"
      ],
      "text/plain": [
       "                                               tweet                date  \\\n",
       "0  @bogotamuyfirme @ClaudiaLopez @TransMilenio Y ... 2020-11-13 03:27:11   \n",
       "1  @Maryaristizabal @NoticiasRCN Indispensable de... 2020-11-13 03:24:53   \n",
       "2  @Penalosadas @ClaudiaLopez @TransMilenio Se hi... 2020-11-13 03:21:50   \n",
       "3  #NoticiasCapital | La Alcaldía y Policía de Bo... 2020-11-13 03:20:00   \n",
       "4   @ClaudiaLopez @TransMilenio Ojo le@roban el@celu 2020-11-13 03:16:43   \n",
       "\n",
       "     city     user_location                   id  \\\n",
       "0  Bogotá            Bogotá  1327090608373108736   \n",
       "1  Bogotá  Bogotá, Colombia  1327090028930097154   \n",
       "2  Bogotá            Bogotá  1327089260214820868   \n",
       "3  Bogotá  Bogotá, Colombia  1327088798354771970   \n",
       "4  Bogotá  Bogotá, Colombia  1327087971884011520   \n",
       "\n",
       "                                                link  \\\n",
       "0  https://twitter.com/i/web/status/1327090608373...   \n",
       "1  https://twitter.com/i/web/status/1327090028930...   \n",
       "2  https://twitter.com/i/web/status/1327089260214...   \n",
       "3  https://twitter.com/i/web/status/1327088798354...   \n",
       "4  https://twitter.com/i/web/status/1327087971884...   \n",
       "\n",
       "                                               clean  \\\n",
       "0     subieron vender parte humo, galletas nucita...   \n",
       "1    indispensable desmantelar transmilenio banda...   \n",
       "2     hizo elegir diciendo transmilenio... peñalo...   \n",
       "3   | alcaldía policía bogotá trabajan fortalecer...   \n",
       "4                               ojo le@roban el@celu   \n",
       "\n",
       "                       links            hashtags  \\\n",
       "0                         []                  []   \n",
       "1                         []                  []   \n",
       "2                         []                  []   \n",
       "3  [https://t.co/dz3sywfhsh]  [#noticiascapital]   \n",
       "4                         []                  []   \n",
       "\n",
       "                                          mentions  \n",
       "0  [@bogotamuyfirme, @claudialopez, @transmilenio]  \n",
       "1                 [@maryaristizabal, @noticiasrcn]  \n",
       "2     [@penalosadas, @claudialopez, @transmilenio]  \n",
       "3                                               []  \n",
       "4                   [@claudialopez, @transmilenio]  "
      ]
     },
     "execution_count": 6,
     "metadata": {},
     "output_type": "execute_result"
    }
   ],
   "source": [
    "data = pd.DataFrame(t)\n",
    "data.columns = ['tweet', 'date', 'city', 'user_location', 'id', 'link']\n",
    "data[['clean', 'links', 'hashtags', 'mentions']] = data.apply(text_clean, axis=1, result_type='expand')\n",
    "data.head()"
   ]
  },
  {
   "cell_type": "markdown",
   "metadata": {},
   "source": [
    "###  `[25 pts]` Punto 2: Hacer una visualización sobre esos tuits\n",
    "\n",
    "❌🎃❌ ¡No Halloween!"
   ]
  },
  {
   "cell_type": "markdown",
   "metadata": {},
   "source": [
    "## Gráfico Emojis comunes en Tweets acerca de Transmilenio"
   ]
  },
  {
   "cell_type": "code",
   "execution_count": 7,
   "metadata": {},
   "outputs": [
    {
     "data": {
      "text/html": [
       "<div>\n",
       "<style scoped>\n",
       "    .dataframe tbody tr th:only-of-type {\n",
       "        vertical-align: middle;\n",
       "    }\n",
       "\n",
       "    .dataframe tbody tr th {\n",
       "        vertical-align: top;\n",
       "    }\n",
       "\n",
       "    .dataframe thead th {\n",
       "        text-align: right;\n",
       "    }\n",
       "</style>\n",
       "<table border=\"1\" class=\"dataframe\">\n",
       "  <thead>\n",
       "    <tr style=\"text-align: right;\">\n",
       "      <th></th>\n",
       "      <th>emoji</th>\n",
       "      <th>cnt</th>\n",
       "    </tr>\n",
       "  </thead>\n",
       "  <tbody>\n",
       "    <tr>\n",
       "      <th>0</th>\n",
       "      <td>🤔</td>\n",
       "      <td>3</td>\n",
       "    </tr>\n",
       "    <tr>\n",
       "      <th>5</th>\n",
       "      <td>🔴</td>\n",
       "      <td>3</td>\n",
       "    </tr>\n",
       "    <tr>\n",
       "      <th>2</th>\n",
       "      <td>👇</td>\n",
       "      <td>2</td>\n",
       "    </tr>\n",
       "    <tr>\n",
       "      <th>1</th>\n",
       "      <td>💩</td>\n",
       "      <td>1</td>\n",
       "    </tr>\n",
       "    <tr>\n",
       "      <th>3</th>\n",
       "      <td>🚨</td>\n",
       "      <td>1</td>\n",
       "    </tr>\n",
       "  </tbody>\n",
       "</table>\n",
       "</div>"
      ],
      "text/plain": [
       "  emoji  cnt\n",
       "0     🤔    3\n",
       "5     🔴    3\n",
       "2     👇    2\n",
       "1     💩    1\n",
       "3     🚨    1"
      ]
     },
     "execution_count": 7,
     "metadata": {},
     "output_type": "execute_result"
    }
   ],
   "source": [
    "import regex\n",
    "import emoji\n",
    "\n",
    "def get_emojis(text):\n",
    "    emoji_list = []\n",
    "    data = regex.findall(r'\\X', text)\n",
    "    for word in data:\n",
    "        if any(char in emoji.UNICODE_EMOJI for char in word):\n",
    "            emoji_list.append(word)\n",
    "    return emoji_list \n",
    "\n",
    "data['emojis'] = data['clean'].apply(lambda text: get_emojis(text))\n",
    "\n",
    "from collections import Counter\n",
    "\n",
    "temp_emojis = pd.DataFrame(list(zip(Counter(sum(data.emojis.values,[])).keys(),Counter(sum(data.emojis.values,[])).values())))\n",
    "temp_emojis.columns = ['emoji', 'cnt']\n",
    "temp_emojis.sort_values('cnt', ascending=False, inplace=True)\n",
    "temp_emojis.head()"
   ]
  },
  {
   "cell_type": "code",
   "execution_count": 8,
   "metadata": {},
   "outputs": [
    {
     "data": {
      "text/html": [
       "        <script type=\"text/javascript\">\n",
       "        window.PlotlyConfig = {MathJaxConfig: 'local'};\n",
       "        if (window.MathJax) {MathJax.Hub.Config({SVG: {font: \"STIX-Web\"}});}\n",
       "        if (typeof require !== 'undefined') {\n",
       "        require.undef(\"plotly\");\n",
       "        requirejs.config({\n",
       "            paths: {\n",
       "                'plotly': ['https://cdn.plot.ly/plotly-latest.min']\n",
       "            }\n",
       "        });\n",
       "        require(['plotly'], function(Plotly) {\n",
       "            window._Plotly = Plotly;\n",
       "        });\n",
       "        }\n",
       "        </script>\n",
       "        "
      ]
     },
     "metadata": {},
     "output_type": "display_data"
    },
    {
     "data": {
      "application/vnd.plotly.v1+json": {
       "config": {
        "linkText": "Export to plot.ly",
        "plotlyServerURL": "https://plot.ly",
        "showLink": false
       },
       "data": [
        {
         "type": "bar",
         "x": [
          "🤔",
          "🔴",
          "👇",
          "💩",
          "🚨",
          "👉",
          "🤷‍♂️",
          "😬"
         ],
         "y": [
          3,
          3,
          2,
          1,
          1,
          1,
          1,
          1
         ]
        }
       ],
       "layout": {
        "template": {
         "data": {
          "bar": [
           {
            "error_x": {
             "color": "#2a3f5f"
            },
            "error_y": {
             "color": "#2a3f5f"
            },
            "marker": {
             "line": {
              "color": "#E5ECF6",
              "width": 0.5
             }
            },
            "type": "bar"
           }
          ],
          "barpolar": [
           {
            "marker": {
             "line": {
              "color": "#E5ECF6",
              "width": 0.5
             }
            },
            "type": "barpolar"
           }
          ],
          "carpet": [
           {
            "aaxis": {
             "endlinecolor": "#2a3f5f",
             "gridcolor": "white",
             "linecolor": "white",
             "minorgridcolor": "white",
             "startlinecolor": "#2a3f5f"
            },
            "baxis": {
             "endlinecolor": "#2a3f5f",
             "gridcolor": "white",
             "linecolor": "white",
             "minorgridcolor": "white",
             "startlinecolor": "#2a3f5f"
            },
            "type": "carpet"
           }
          ],
          "choropleth": [
           {
            "colorbar": {
             "outlinewidth": 0,
             "ticks": ""
            },
            "type": "choropleth"
           }
          ],
          "contour": [
           {
            "colorbar": {
             "outlinewidth": 0,
             "ticks": ""
            },
            "colorscale": [
             [
              0,
              "#0d0887"
             ],
             [
              0.1111111111111111,
              "#46039f"
             ],
             [
              0.2222222222222222,
              "#7201a8"
             ],
             [
              0.3333333333333333,
              "#9c179e"
             ],
             [
              0.4444444444444444,
              "#bd3786"
             ],
             [
              0.5555555555555556,
              "#d8576b"
             ],
             [
              0.6666666666666666,
              "#ed7953"
             ],
             [
              0.7777777777777778,
              "#fb9f3a"
             ],
             [
              0.8888888888888888,
              "#fdca26"
             ],
             [
              1,
              "#f0f921"
             ]
            ],
            "type": "contour"
           }
          ],
          "contourcarpet": [
           {
            "colorbar": {
             "outlinewidth": 0,
             "ticks": ""
            },
            "type": "contourcarpet"
           }
          ],
          "heatmap": [
           {
            "colorbar": {
             "outlinewidth": 0,
             "ticks": ""
            },
            "colorscale": [
             [
              0,
              "#0d0887"
             ],
             [
              0.1111111111111111,
              "#46039f"
             ],
             [
              0.2222222222222222,
              "#7201a8"
             ],
             [
              0.3333333333333333,
              "#9c179e"
             ],
             [
              0.4444444444444444,
              "#bd3786"
             ],
             [
              0.5555555555555556,
              "#d8576b"
             ],
             [
              0.6666666666666666,
              "#ed7953"
             ],
             [
              0.7777777777777778,
              "#fb9f3a"
             ],
             [
              0.8888888888888888,
              "#fdca26"
             ],
             [
              1,
              "#f0f921"
             ]
            ],
            "type": "heatmap"
           }
          ],
          "heatmapgl": [
           {
            "colorbar": {
             "outlinewidth": 0,
             "ticks": ""
            },
            "colorscale": [
             [
              0,
              "#0d0887"
             ],
             [
              0.1111111111111111,
              "#46039f"
             ],
             [
              0.2222222222222222,
              "#7201a8"
             ],
             [
              0.3333333333333333,
              "#9c179e"
             ],
             [
              0.4444444444444444,
              "#bd3786"
             ],
             [
              0.5555555555555556,
              "#d8576b"
             ],
             [
              0.6666666666666666,
              "#ed7953"
             ],
             [
              0.7777777777777778,
              "#fb9f3a"
             ],
             [
              0.8888888888888888,
              "#fdca26"
             ],
             [
              1,
              "#f0f921"
             ]
            ],
            "type": "heatmapgl"
           }
          ],
          "histogram": [
           {
            "marker": {
             "colorbar": {
              "outlinewidth": 0,
              "ticks": ""
             }
            },
            "type": "histogram"
           }
          ],
          "histogram2d": [
           {
            "colorbar": {
             "outlinewidth": 0,
             "ticks": ""
            },
            "colorscale": [
             [
              0,
              "#0d0887"
             ],
             [
              0.1111111111111111,
              "#46039f"
             ],
             [
              0.2222222222222222,
              "#7201a8"
             ],
             [
              0.3333333333333333,
              "#9c179e"
             ],
             [
              0.4444444444444444,
              "#bd3786"
             ],
             [
              0.5555555555555556,
              "#d8576b"
             ],
             [
              0.6666666666666666,
              "#ed7953"
             ],
             [
              0.7777777777777778,
              "#fb9f3a"
             ],
             [
              0.8888888888888888,
              "#fdca26"
             ],
             [
              1,
              "#f0f921"
             ]
            ],
            "type": "histogram2d"
           }
          ],
          "histogram2dcontour": [
           {
            "colorbar": {
             "outlinewidth": 0,
             "ticks": ""
            },
            "colorscale": [
             [
              0,
              "#0d0887"
             ],
             [
              0.1111111111111111,
              "#46039f"
             ],
             [
              0.2222222222222222,
              "#7201a8"
             ],
             [
              0.3333333333333333,
              "#9c179e"
             ],
             [
              0.4444444444444444,
              "#bd3786"
             ],
             [
              0.5555555555555556,
              "#d8576b"
             ],
             [
              0.6666666666666666,
              "#ed7953"
             ],
             [
              0.7777777777777778,
              "#fb9f3a"
             ],
             [
              0.8888888888888888,
              "#fdca26"
             ],
             [
              1,
              "#f0f921"
             ]
            ],
            "type": "histogram2dcontour"
           }
          ],
          "mesh3d": [
           {
            "colorbar": {
             "outlinewidth": 0,
             "ticks": ""
            },
            "type": "mesh3d"
           }
          ],
          "parcoords": [
           {
            "line": {
             "colorbar": {
              "outlinewidth": 0,
              "ticks": ""
             }
            },
            "type": "parcoords"
           }
          ],
          "pie": [
           {
            "automargin": true,
            "type": "pie"
           }
          ],
          "scatter": [
           {
            "marker": {
             "colorbar": {
              "outlinewidth": 0,
              "ticks": ""
             }
            },
            "type": "scatter"
           }
          ],
          "scatter3d": [
           {
            "line": {
             "colorbar": {
              "outlinewidth": 0,
              "ticks": ""
             }
            },
            "marker": {
             "colorbar": {
              "outlinewidth": 0,
              "ticks": ""
             }
            },
            "type": "scatter3d"
           }
          ],
          "scattercarpet": [
           {
            "marker": {
             "colorbar": {
              "outlinewidth": 0,
              "ticks": ""
             }
            },
            "type": "scattercarpet"
           }
          ],
          "scattergeo": [
           {
            "marker": {
             "colorbar": {
              "outlinewidth": 0,
              "ticks": ""
             }
            },
            "type": "scattergeo"
           }
          ],
          "scattergl": [
           {
            "marker": {
             "colorbar": {
              "outlinewidth": 0,
              "ticks": ""
             }
            },
            "type": "scattergl"
           }
          ],
          "scattermapbox": [
           {
            "marker": {
             "colorbar": {
              "outlinewidth": 0,
              "ticks": ""
             }
            },
            "type": "scattermapbox"
           }
          ],
          "scatterpolar": [
           {
            "marker": {
             "colorbar": {
              "outlinewidth": 0,
              "ticks": ""
             }
            },
            "type": "scatterpolar"
           }
          ],
          "scatterpolargl": [
           {
            "marker": {
             "colorbar": {
              "outlinewidth": 0,
              "ticks": ""
             }
            },
            "type": "scatterpolargl"
           }
          ],
          "scatterternary": [
           {
            "marker": {
             "colorbar": {
              "outlinewidth": 0,
              "ticks": ""
             }
            },
            "type": "scatterternary"
           }
          ],
          "surface": [
           {
            "colorbar": {
             "outlinewidth": 0,
             "ticks": ""
            },
            "colorscale": [
             [
              0,
              "#0d0887"
             ],
             [
              0.1111111111111111,
              "#46039f"
             ],
             [
              0.2222222222222222,
              "#7201a8"
             ],
             [
              0.3333333333333333,
              "#9c179e"
             ],
             [
              0.4444444444444444,
              "#bd3786"
             ],
             [
              0.5555555555555556,
              "#d8576b"
             ],
             [
              0.6666666666666666,
              "#ed7953"
             ],
             [
              0.7777777777777778,
              "#fb9f3a"
             ],
             [
              0.8888888888888888,
              "#fdca26"
             ],
             [
              1,
              "#f0f921"
             ]
            ],
            "type": "surface"
           }
          ],
          "table": [
           {
            "cells": {
             "fill": {
              "color": "#EBF0F8"
             },
             "line": {
              "color": "white"
             }
            },
            "header": {
             "fill": {
              "color": "#C8D4E3"
             },
             "line": {
              "color": "white"
             }
            },
            "type": "table"
           }
          ]
         },
         "layout": {
          "annotationdefaults": {
           "arrowcolor": "#2a3f5f",
           "arrowhead": 0,
           "arrowwidth": 1
          },
          "coloraxis": {
           "colorbar": {
            "outlinewidth": 0,
            "ticks": ""
           }
          },
          "colorscale": {
           "diverging": [
            [
             0,
             "#8e0152"
            ],
            [
             0.1,
             "#c51b7d"
            ],
            [
             0.2,
             "#de77ae"
            ],
            [
             0.3,
             "#f1b6da"
            ],
            [
             0.4,
             "#fde0ef"
            ],
            [
             0.5,
             "#f7f7f7"
            ],
            [
             0.6,
             "#e6f5d0"
            ],
            [
             0.7,
             "#b8e186"
            ],
            [
             0.8,
             "#7fbc41"
            ],
            [
             0.9,
             "#4d9221"
            ],
            [
             1,
             "#276419"
            ]
           ],
           "sequential": [
            [
             0,
             "#0d0887"
            ],
            [
             0.1111111111111111,
             "#46039f"
            ],
            [
             0.2222222222222222,
             "#7201a8"
            ],
            [
             0.3333333333333333,
             "#9c179e"
            ],
            [
             0.4444444444444444,
             "#bd3786"
            ],
            [
             0.5555555555555556,
             "#d8576b"
            ],
            [
             0.6666666666666666,
             "#ed7953"
            ],
            [
             0.7777777777777778,
             "#fb9f3a"
            ],
            [
             0.8888888888888888,
             "#fdca26"
            ],
            [
             1,
             "#f0f921"
            ]
           ],
           "sequentialminus": [
            [
             0,
             "#0d0887"
            ],
            [
             0.1111111111111111,
             "#46039f"
            ],
            [
             0.2222222222222222,
             "#7201a8"
            ],
            [
             0.3333333333333333,
             "#9c179e"
            ],
            [
             0.4444444444444444,
             "#bd3786"
            ],
            [
             0.5555555555555556,
             "#d8576b"
            ],
            [
             0.6666666666666666,
             "#ed7953"
            ],
            [
             0.7777777777777778,
             "#fb9f3a"
            ],
            [
             0.8888888888888888,
             "#fdca26"
            ],
            [
             1,
             "#f0f921"
            ]
           ]
          },
          "colorway": [
           "#636efa",
           "#EF553B",
           "#00cc96",
           "#ab63fa",
           "#FFA15A",
           "#19d3f3",
           "#FF6692",
           "#B6E880",
           "#FF97FF",
           "#FECB52"
          ],
          "font": {
           "color": "#2a3f5f"
          },
          "geo": {
           "bgcolor": "white",
           "lakecolor": "white",
           "landcolor": "#E5ECF6",
           "showlakes": true,
           "showland": true,
           "subunitcolor": "white"
          },
          "hoverlabel": {
           "align": "left"
          },
          "hovermode": "closest",
          "mapbox": {
           "style": "light"
          },
          "paper_bgcolor": "white",
          "plot_bgcolor": "#E5ECF6",
          "polar": {
           "angularaxis": {
            "gridcolor": "white",
            "linecolor": "white",
            "ticks": ""
           },
           "bgcolor": "#E5ECF6",
           "radialaxis": {
            "gridcolor": "white",
            "linecolor": "white",
            "ticks": ""
           }
          },
          "scene": {
           "xaxis": {
            "backgroundcolor": "#E5ECF6",
            "gridcolor": "white",
            "gridwidth": 2,
            "linecolor": "white",
            "showbackground": true,
            "ticks": "",
            "zerolinecolor": "white"
           },
           "yaxis": {
            "backgroundcolor": "#E5ECF6",
            "gridcolor": "white",
            "gridwidth": 2,
            "linecolor": "white",
            "showbackground": true,
            "ticks": "",
            "zerolinecolor": "white"
           },
           "zaxis": {
            "backgroundcolor": "#E5ECF6",
            "gridcolor": "white",
            "gridwidth": 2,
            "linecolor": "white",
            "showbackground": true,
            "ticks": "",
            "zerolinecolor": "white"
           }
          },
          "shapedefaults": {
           "line": {
            "color": "#2a3f5f"
           }
          },
          "ternary": {
           "aaxis": {
            "gridcolor": "white",
            "linecolor": "white",
            "ticks": ""
           },
           "baxis": {
            "gridcolor": "white",
            "linecolor": "white",
            "ticks": ""
           },
           "bgcolor": "#E5ECF6",
           "caxis": {
            "gridcolor": "white",
            "linecolor": "white",
            "ticks": ""
           }
          },
          "title": {
           "x": 0.05
          },
          "xaxis": {
           "automargin": true,
           "gridcolor": "white",
           "linecolor": "white",
           "ticks": "",
           "title": {
            "standoff": 15
           },
           "zerolinecolor": "white",
           "zerolinewidth": 2
          },
          "yaxis": {
           "automargin": true,
           "gridcolor": "white",
           "linecolor": "white",
           "ticks": "",
           "title": {
            "standoff": 15
           },
           "zerolinecolor": "white",
           "zerolinewidth": 2
          }
         }
        },
        "title": {
         "text": "Emojis más usados"
        }
       }
      },
      "text/html": [
       "<div>                            <div id=\"32228764-7da1-4d3f-a46a-2ebf1617e7f3\" class=\"plotly-graph-div\" style=\"height:525px; width:100%;\"></div>            <script type=\"text/javascript\">                require([\"plotly\"], function(Plotly) {                    window.PLOTLYENV=window.PLOTLYENV || {};                                    if (document.getElementById(\"32228764-7da1-4d3f-a46a-2ebf1617e7f3\")) {                    Plotly.newPlot(                        \"32228764-7da1-4d3f-a46a-2ebf1617e7f3\",                        [{\"type\": \"bar\", \"x\": [\"\\ud83e\\udd14\", \"\\ud83d\\udd34\", \"\\ud83d\\udc47\", \"\\ud83d\\udca9\", \"\\ud83d\\udea8\", \"\\ud83d\\udc49\", \"\\ud83e\\udd37\\u200d\\u2642\\ufe0f\", \"\\ud83d\\ude2c\"], \"y\": [3, 3, 2, 1, 1, 1, 1, 1]}],                        {\"template\": {\"data\": {\"bar\": [{\"error_x\": {\"color\": \"#2a3f5f\"}, \"error_y\": {\"color\": \"#2a3f5f\"}, \"marker\": {\"line\": {\"color\": \"#E5ECF6\", \"width\": 0.5}}, \"type\": \"bar\"}], \"barpolar\": [{\"marker\": {\"line\": {\"color\": \"#E5ECF6\", \"width\": 0.5}}, \"type\": \"barpolar\"}], \"carpet\": [{\"aaxis\": {\"endlinecolor\": \"#2a3f5f\", \"gridcolor\": \"white\", \"linecolor\": \"white\", \"minorgridcolor\": \"white\", \"startlinecolor\": \"#2a3f5f\"}, \"baxis\": {\"endlinecolor\": \"#2a3f5f\", \"gridcolor\": \"white\", \"linecolor\": \"white\", \"minorgridcolor\": \"white\", \"startlinecolor\": \"#2a3f5f\"}, \"type\": \"carpet\"}], \"choropleth\": [{\"colorbar\": {\"outlinewidth\": 0, \"ticks\": \"\"}, \"type\": \"choropleth\"}], \"contour\": [{\"colorbar\": {\"outlinewidth\": 0, \"ticks\": \"\"}, \"colorscale\": [[0.0, \"#0d0887\"], [0.1111111111111111, \"#46039f\"], [0.2222222222222222, \"#7201a8\"], [0.3333333333333333, \"#9c179e\"], [0.4444444444444444, \"#bd3786\"], [0.5555555555555556, \"#d8576b\"], [0.6666666666666666, \"#ed7953\"], [0.7777777777777778, \"#fb9f3a\"], [0.8888888888888888, \"#fdca26\"], [1.0, \"#f0f921\"]], \"type\": \"contour\"}], \"contourcarpet\": [{\"colorbar\": {\"outlinewidth\": 0, \"ticks\": \"\"}, \"type\": \"contourcarpet\"}], \"heatmap\": [{\"colorbar\": {\"outlinewidth\": 0, \"ticks\": \"\"}, \"colorscale\": [[0.0, \"#0d0887\"], [0.1111111111111111, \"#46039f\"], [0.2222222222222222, \"#7201a8\"], [0.3333333333333333, \"#9c179e\"], [0.4444444444444444, \"#bd3786\"], [0.5555555555555556, \"#d8576b\"], [0.6666666666666666, \"#ed7953\"], [0.7777777777777778, \"#fb9f3a\"], [0.8888888888888888, \"#fdca26\"], [1.0, \"#f0f921\"]], \"type\": \"heatmap\"}], \"heatmapgl\": [{\"colorbar\": {\"outlinewidth\": 0, \"ticks\": \"\"}, \"colorscale\": [[0.0, \"#0d0887\"], [0.1111111111111111, \"#46039f\"], [0.2222222222222222, \"#7201a8\"], [0.3333333333333333, \"#9c179e\"], [0.4444444444444444, \"#bd3786\"], [0.5555555555555556, \"#d8576b\"], [0.6666666666666666, \"#ed7953\"], [0.7777777777777778, \"#fb9f3a\"], [0.8888888888888888, \"#fdca26\"], [1.0, \"#f0f921\"]], \"type\": \"heatmapgl\"}], \"histogram\": [{\"marker\": {\"colorbar\": {\"outlinewidth\": 0, \"ticks\": \"\"}}, \"type\": \"histogram\"}], \"histogram2d\": [{\"colorbar\": {\"outlinewidth\": 0, \"ticks\": \"\"}, \"colorscale\": [[0.0, \"#0d0887\"], [0.1111111111111111, \"#46039f\"], [0.2222222222222222, \"#7201a8\"], [0.3333333333333333, \"#9c179e\"], [0.4444444444444444, \"#bd3786\"], [0.5555555555555556, \"#d8576b\"], [0.6666666666666666, \"#ed7953\"], [0.7777777777777778, \"#fb9f3a\"], [0.8888888888888888, \"#fdca26\"], [1.0, \"#f0f921\"]], \"type\": \"histogram2d\"}], \"histogram2dcontour\": [{\"colorbar\": {\"outlinewidth\": 0, \"ticks\": \"\"}, \"colorscale\": [[0.0, \"#0d0887\"], [0.1111111111111111, \"#46039f\"], [0.2222222222222222, \"#7201a8\"], [0.3333333333333333, \"#9c179e\"], [0.4444444444444444, \"#bd3786\"], [0.5555555555555556, \"#d8576b\"], [0.6666666666666666, \"#ed7953\"], [0.7777777777777778, \"#fb9f3a\"], [0.8888888888888888, \"#fdca26\"], [1.0, \"#f0f921\"]], \"type\": \"histogram2dcontour\"}], \"mesh3d\": [{\"colorbar\": {\"outlinewidth\": 0, \"ticks\": \"\"}, \"type\": \"mesh3d\"}], \"parcoords\": [{\"line\": {\"colorbar\": {\"outlinewidth\": 0, \"ticks\": \"\"}}, \"type\": \"parcoords\"}], \"pie\": [{\"automargin\": true, \"type\": \"pie\"}], \"scatter\": [{\"marker\": {\"colorbar\": {\"outlinewidth\": 0, \"ticks\": \"\"}}, \"type\": \"scatter\"}], \"scatter3d\": [{\"line\": {\"colorbar\": {\"outlinewidth\": 0, \"ticks\": \"\"}}, \"marker\": {\"colorbar\": {\"outlinewidth\": 0, \"ticks\": \"\"}}, \"type\": \"scatter3d\"}], \"scattercarpet\": [{\"marker\": {\"colorbar\": {\"outlinewidth\": 0, \"ticks\": \"\"}}, \"type\": \"scattercarpet\"}], \"scattergeo\": [{\"marker\": {\"colorbar\": {\"outlinewidth\": 0, \"ticks\": \"\"}}, \"type\": \"scattergeo\"}], \"scattergl\": [{\"marker\": {\"colorbar\": {\"outlinewidth\": 0, \"ticks\": \"\"}}, \"type\": \"scattergl\"}], \"scattermapbox\": [{\"marker\": {\"colorbar\": {\"outlinewidth\": 0, \"ticks\": \"\"}}, \"type\": \"scattermapbox\"}], \"scatterpolar\": [{\"marker\": {\"colorbar\": {\"outlinewidth\": 0, \"ticks\": \"\"}}, \"type\": \"scatterpolar\"}], \"scatterpolargl\": [{\"marker\": {\"colorbar\": {\"outlinewidth\": 0, \"ticks\": \"\"}}, \"type\": \"scatterpolargl\"}], \"scatterternary\": [{\"marker\": {\"colorbar\": {\"outlinewidth\": 0, \"ticks\": \"\"}}, \"type\": \"scatterternary\"}], \"surface\": [{\"colorbar\": {\"outlinewidth\": 0, \"ticks\": \"\"}, \"colorscale\": [[0.0, \"#0d0887\"], [0.1111111111111111, \"#46039f\"], [0.2222222222222222, \"#7201a8\"], [0.3333333333333333, \"#9c179e\"], [0.4444444444444444, \"#bd3786\"], [0.5555555555555556, \"#d8576b\"], [0.6666666666666666, \"#ed7953\"], [0.7777777777777778, \"#fb9f3a\"], [0.8888888888888888, \"#fdca26\"], [1.0, \"#f0f921\"]], \"type\": \"surface\"}], \"table\": [{\"cells\": {\"fill\": {\"color\": \"#EBF0F8\"}, \"line\": {\"color\": \"white\"}}, \"header\": {\"fill\": {\"color\": \"#C8D4E3\"}, \"line\": {\"color\": \"white\"}}, \"type\": \"table\"}]}, \"layout\": {\"annotationdefaults\": {\"arrowcolor\": \"#2a3f5f\", \"arrowhead\": 0, \"arrowwidth\": 1}, \"coloraxis\": {\"colorbar\": {\"outlinewidth\": 0, \"ticks\": \"\"}}, \"colorscale\": {\"diverging\": [[0, \"#8e0152\"], [0.1, \"#c51b7d\"], [0.2, \"#de77ae\"], [0.3, \"#f1b6da\"], [0.4, \"#fde0ef\"], [0.5, \"#f7f7f7\"], [0.6, \"#e6f5d0\"], [0.7, \"#b8e186\"], [0.8, \"#7fbc41\"], [0.9, \"#4d9221\"], [1, \"#276419\"]], \"sequential\": [[0.0, \"#0d0887\"], [0.1111111111111111, \"#46039f\"], [0.2222222222222222, \"#7201a8\"], [0.3333333333333333, \"#9c179e\"], [0.4444444444444444, \"#bd3786\"], [0.5555555555555556, \"#d8576b\"], [0.6666666666666666, \"#ed7953\"], [0.7777777777777778, \"#fb9f3a\"], [0.8888888888888888, \"#fdca26\"], [1.0, \"#f0f921\"]], \"sequentialminus\": [[0.0, \"#0d0887\"], [0.1111111111111111, \"#46039f\"], [0.2222222222222222, \"#7201a8\"], [0.3333333333333333, \"#9c179e\"], [0.4444444444444444, \"#bd3786\"], [0.5555555555555556, \"#d8576b\"], [0.6666666666666666, \"#ed7953\"], [0.7777777777777778, \"#fb9f3a\"], [0.8888888888888888, \"#fdca26\"], [1.0, \"#f0f921\"]]}, \"colorway\": [\"#636efa\", \"#EF553B\", \"#00cc96\", \"#ab63fa\", \"#FFA15A\", \"#19d3f3\", \"#FF6692\", \"#B6E880\", \"#FF97FF\", \"#FECB52\"], \"font\": {\"color\": \"#2a3f5f\"}, \"geo\": {\"bgcolor\": \"white\", \"lakecolor\": \"white\", \"landcolor\": \"#E5ECF6\", \"showlakes\": true, \"showland\": true, \"subunitcolor\": \"white\"}, \"hoverlabel\": {\"align\": \"left\"}, \"hovermode\": \"closest\", \"mapbox\": {\"style\": \"light\"}, \"paper_bgcolor\": \"white\", \"plot_bgcolor\": \"#E5ECF6\", \"polar\": {\"angularaxis\": {\"gridcolor\": \"white\", \"linecolor\": \"white\", \"ticks\": \"\"}, \"bgcolor\": \"#E5ECF6\", \"radialaxis\": {\"gridcolor\": \"white\", \"linecolor\": \"white\", \"ticks\": \"\"}}, \"scene\": {\"xaxis\": {\"backgroundcolor\": \"#E5ECF6\", \"gridcolor\": \"white\", \"gridwidth\": 2, \"linecolor\": \"white\", \"showbackground\": true, \"ticks\": \"\", \"zerolinecolor\": \"white\"}, \"yaxis\": {\"backgroundcolor\": \"#E5ECF6\", \"gridcolor\": \"white\", \"gridwidth\": 2, \"linecolor\": \"white\", \"showbackground\": true, \"ticks\": \"\", \"zerolinecolor\": \"white\"}, \"zaxis\": {\"backgroundcolor\": \"#E5ECF6\", \"gridcolor\": \"white\", \"gridwidth\": 2, \"linecolor\": \"white\", \"showbackground\": true, \"ticks\": \"\", \"zerolinecolor\": \"white\"}}, \"shapedefaults\": {\"line\": {\"color\": \"#2a3f5f\"}}, \"ternary\": {\"aaxis\": {\"gridcolor\": \"white\", \"linecolor\": \"white\", \"ticks\": \"\"}, \"baxis\": {\"gridcolor\": \"white\", \"linecolor\": \"white\", \"ticks\": \"\"}, \"bgcolor\": \"#E5ECF6\", \"caxis\": {\"gridcolor\": \"white\", \"linecolor\": \"white\", \"ticks\": \"\"}}, \"title\": {\"x\": 0.05}, \"xaxis\": {\"automargin\": true, \"gridcolor\": \"white\", \"linecolor\": \"white\", \"ticks\": \"\", \"title\": {\"standoff\": 15}, \"zerolinecolor\": \"white\", \"zerolinewidth\": 2}, \"yaxis\": {\"automargin\": true, \"gridcolor\": \"white\", \"linecolor\": \"white\", \"ticks\": \"\", \"title\": {\"standoff\": 15}, \"zerolinecolor\": \"white\", \"zerolinewidth\": 2}}}, \"title\": {\"text\": \"Emojis m\\u00e1s usados\"}},                        {\"responsive\": true}                    ).then(function(){\n",
       "                            \n",
       "var gd = document.getElementById('32228764-7da1-4d3f-a46a-2ebf1617e7f3');\n",
       "var x = new MutationObserver(function (mutations, observer) {{\n",
       "        var display = window.getComputedStyle(gd).display;\n",
       "        if (!display || display === 'none') {{\n",
       "            console.log([gd, 'removed!']);\n",
       "            Plotly.purge(gd);\n",
       "            observer.disconnect();\n",
       "        }}\n",
       "}});\n",
       "\n",
       "// Listen for the removal of the full notebook cells\n",
       "var notebookContainer = gd.closest('#notebook-container');\n",
       "if (notebookContainer) {{\n",
       "    x.observe(notebookContainer, {childList: true});\n",
       "}}\n",
       "\n",
       "// Listen for the clearing of the current output cell\n",
       "var outputEl = gd.closest('.output');\n",
       "if (outputEl) {{\n",
       "    x.observe(outputEl, {childList: true});\n",
       "}}\n",
       "\n",
       "                        })                };                });            </script>        </div>"
      ]
     },
     "metadata": {},
     "output_type": "display_data"
    }
   ],
   "source": [
    "import plotly.io as pio\n",
    "import plotly.express as px\n",
    "import plotly.graph_objs as go\n",
    "from plotly.offline import download_plotlyjs, init_notebook_mode, plot, iplot\n",
    "\n",
    "import matplotlib.pyplot as plt\n",
    "%matplotlib inline\n",
    "init_notebook_mode(connected=True)\n",
    "\n",
    "\n",
    "trace = go.Bar(x=temp_emojis.emoji.values[:15],\n",
    "               y=temp_emojis.cnt.values[:15])\n",
    "\n",
    "layout = go.Layout(title='Emojis más usados')\n",
    "\n",
    "fig = go.Figure(data=[trace], layout=layout)\n",
    "iplot(fig)"
   ]
  },
  {
   "cell_type": "markdown",
   "metadata": {},
   "source": [
    "## Nube de palabras acerca de Transmilenio"
   ]
  },
  {
   "cell_type": "code",
   "execution_count": 9,
   "metadata": {
    "scrolled": true
   },
   "outputs": [
    {
     "data": {
      "image/png": "[encoded data removed]",
      "text/plain": [
       "<Figure size 720x576 with 1 Axes>"
      ]
     },
     "metadata": {
      "needs_background": "light"
     },
     "output_type": "display_data"
    }
   ],
   "source": [
    "#Nuevo Pre procesado para nube de palabras#\n",
    "\n",
    "def pre_procesado(texto):\n",
    "    texto = texto.lower()\n",
    "    texto = re.sub(r\"[\\W\\d_]+\", \" \", texto)\n",
    "    texto = \" \".join([palabra for palabra in texto.split() if palabra not in stopwords_sp])\n",
    "    return texto\n",
    "data['palabras'] = data['clean'].apply(lambda texto: pre_procesado(texto))\n",
    "\n",
    "\n",
    "#Cargue Librerías#\n",
    "\n",
    "import numpy as np\n",
    "from wordcloud import WordCloud\n",
    "from wordcloud import ImageColorGenerator\n",
    "import matplotlib.pyplot as plt\n",
    "import PIL.Image\n",
    "from IPython.display import display\n",
    "\n",
    "#Nube de palabras#\n",
    "\n",
    "palabras = data.palabras.str.cat(sep=' ')\n",
    "wordcloud = WordCloud(width=800, height=400,\n",
    "                     max_font_size=150, max_words=250,\n",
    "                     background_color='white', colormap='hot').generate(palabras) \n",
    "plt.figure(figsize=(10,8))\n",
    "plt.imshow(wordcloud, interpolation='bilinear')\n",
    "plt.axis(\"off\")\n",
    "plt.tight_layout(pad=0)\n",
    "plt.show()\n",
    "\n"
   ]
  },
  {
   "cell_type": "markdown",
   "metadata": {},
   "source": [
    "## Correlación entre palabras acerca de Transmilenio"
   ]
  },
  {
   "cell_type": "code",
   "execution_count": 10,
   "metadata": {},
   "outputs": [
    {
     "data": {
      "application/vnd.plotly.v1+json": {
       "config": {
        "linkText": "Export to plot.ly",
        "plotlyServerURL": "https://plot.ly",
        "showLink": false
       },
       "data": [
        {
         "colorscale": [
          [
           0,
           "rgb(255,245,240)"
          ],
          [
           0.125,
           "rgb(254,224,210)"
          ],
          [
           0.25,
           "rgb(252,187,161)"
          ],
          [
           0.375,
           "rgb(252,146,114)"
          ],
          [
           0.5,
           "rgb(251,106,74)"
          ],
          [
           0.625,
           "rgb(239,59,44)"
          ],
          [
           0.75,
           "rgb(203,24,29)"
          ],
          [
           0.875,
           "rgb(165,15,21)"
          ],
          [
           1,
           "rgb(103,0,13)"
          ]
         ],
         "type": "heatmap",
         "x": [
          "agredió",
          "alcaldesa",
          "alcaldía",
          "así",
          "atracan",
          "bogotá",
          "bus",
          "buses",
          "ciudad",
          "ciudadanos",
          "cárcel",
          "cómo",
          "día",
          "escoltas",
          "estaciones",
          "estación",
          "gente",
          "gracias",
          "grande",
          "habla",
          "hace",
          "hacer",
          "haga",
          "hombre",
          "hora",
          "hueco",
          "jajaja",
          "ladrones",
          "mal",
          "meses",
          "mujer",
          "parte",
          "policía",
          "policías",
          "pues",
          "secretario",
          "seguridad",
          "si",
          "sigue",
          "sistema",
          "solo",
          "toda",
          "trabajo",
          "transmilenio",
          "transmisión",
          "transporte",
          "ud",
          "va",
          "vivo",
          "youtube"
         ],
         "y": [
          "agredió",
          "alcaldesa",
          "alcaldía",
          "así",
          "atracan",
          "bogotá",
          "bus",
          "buses",
          "ciudad",
          "ciudadanos",
          "cárcel",
          "cómo",
          "día",
          "escoltas",
          "estaciones",
          "estación",
          "gente",
          "gracias",
          "grande",
          "habla",
          "hace",
          "hacer",
          "haga",
          "hombre",
          "hora",
          "hueco",
          "jajaja",
          "ladrones",
          "mal",
          "meses",
          "mujer",
          "parte",
          "policía",
          "policías",
          "pues",
          "secretario",
          "seguridad",
          "si",
          "sigue",
          "sistema",
          "solo",
          "toda",
          "trabajo",
          "transmilenio",
          "transmisión",
          "transporte",
          "ud",
          "va",
          "vivo",
          "youtube"
         ],
         "z": [
          [
           0.9999999999999997,
           0,
           0,
           0,
           0,
           0.10108970203688734,
           0,
           0,
           0,
           0,
           0.7902219747873093,
           0,
           0,
           0,
           0,
           0.41001965964087045,
           0,
           0,
           0,
           0,
           0,
           0,
           0,
           0.6089216323234761,
           0,
           0,
           0,
           0,
           0,
           0,
           0.9999999999999997,
           0,
           0,
           0,
           0,
           0,
           0,
           0,
           0,
           0,
           0,
           0,
           0,
           0.08575310964299816,
           0,
           0,
           0,
           0,
           0,
           0
          ],
          [
           0,
           1.0000000000000002,
           0,
           0,
           0,
           0,
           0.10665504287142025,
           0.09047836316847895,
           0,
           0.1456199710900035,
           0,
           0,
           0.11968342768924081,
           0,
           0,
           0.11630734928313753,
           0.13152728765098745,
           0,
           0,
           0,
           0,
           0,
           0,
           0,
           0.2802006036623765,
           0,
           0,
           0,
           0,
           0,
           0,
           0,
           0,
           0,
           0.6696514916339593,
           0,
           0.10435112098324573,
           0.11054230874975551,
           0,
           0,
           0,
           0,
           0.1595434780572623,
           0.06780788641141891,
           0,
           0,
           0,
           0.24570727749030133,
           0,
           0
          ],
          [
           0,
           0,
           1,
           0,
           0,
           0.27259861567397076,
           0,
           0.14883070687259758,
           0,
           0,
           0,
           0,
           0,
           0,
           0,
           0,
           0,
           0,
           0.24854375230021777,
           0,
           0,
           0,
           0,
           0,
           0,
           0,
           0,
           0.05972646518004513,
           0,
           0,
           0,
           0.07909823646368179,
           0.2770491512025536,
           0,
           0,
           0,
           0.08823497990982321,
           0,
           0,
           0,
           0.11382082583753556,
           0,
           0,
           0.09738883196358619,
           0,
           0,
           0,
           0,
           0,
           0
          ],
          [
           0,
           0,
           0,
           1,
           0,
           0.06162160504434123,
           0,
           0.18791820997374953,
           0,
           0,
           0,
           0,
           0,
           0,
           0.1695561280997852,
           0.11502359820904698,
           0,
           0.125280908194983,
           0,
           0,
           0,
           0,
           0,
           0,
           0.11410774358796805,
           0,
           0,
           0,
           0,
           0,
           0,
           0,
           0,
           0,
           0.15810063128482868,
           0,
           0,
           0.10932218974210377,
           0,
           0.11050762720300447,
           0.0789739941090775,
           0.3854205132954147,
           0,
           0.05746257651301165,
           0,
           0,
           0,
           0,
           0,
           0
          ],
          [
           0,
           0,
           0,
           0,
           1,
           0.15598742183698494,
           0,
           0,
           0,
           0.15514142392275487,
           0,
           0,
           0,
           0,
           0,
           0,
           0,
           0,
           0,
           0,
           0,
           0,
           0,
           0,
           0,
           0,
           0,
           0,
           0,
           0,
           0,
           0,
           0,
           0,
           0,
           0,
           0.04353937932286093,
           0,
           0.10260592459382721,
           0.18903177276513955,
           0,
           0.16209128015816476,
           0,
           0,
           0,
           0,
           0,
           0,
           0,
           0
          ],
          [
           0.10108970203688734,
           0,
           0.27259861567397076,
           0.06162160504434123,
           0.15598742183698494,
           1.0000000000000002,
           0,
           0,
           0.14027959720645014,
           0,
           0.24818158614382602,
           0,
           0,
           0,
           0,
           0.11915020732668816,
           0,
           0.056994059080196786,
           0.1713141222799256,
           0,
           0,
           0,
           0,
           0.4274866966601353,
           0.05191104992181909,
           0.12134335103998548,
           0,
           0.08233549919889101,
           0.13168241710925221,
           0,
           0.10108970203688734,
           0.10904031848121239,
           0.16324013352571876,
           0,
           0.07192473976992433,
           0,
           0.3219446723645444,
           0.04973395731806692,
           0.15277900272789782,
           0,
           0.1143810990476355,
           0,
           0,
           0.10801209737976153,
           0,
           0,
           0,
           0,
           0,
           0
          ],
          [
           0,
           0.10665504287142025,
           0,
           0,
           0,
           0,
           1.0000000000000002,
           0,
           0,
           0.11830551051738475,
           0,
           0,
           0,
           0,
           0,
           0.09449116237882532,
           0.32954283751280106,
           0,
           0,
           0,
           0,
           0,
           0,
           0,
           0,
           0,
           0.1792571163392125,
           0.1994624999281472,
           0,
           0,
           0,
           0,
           0,
           0,
           0,
           0.1862694668132101,
           0.2227170477245248,
           0.08980749118764214,
           0,
           0,
           0.17048868208412865,
           0,
           0,
           0,
           0,
           0,
           0,
           0.2126138010897198,
           0,
           0
          ],
          [
           0,
           0.09047836316847895,
           0.14883070687259758,
           0.18791820997374953,
           0,
           0,
           0,
           1,
           0.12337760877917678,
           0,
           0,
           0,
           0.06876718610957079,
           0,
           0.2749146266504508,
           0.17288150012359238,
           0.07557237992771496,
           0.10514882646107497,
           0.14473873021788344,
           0,
           0.07419389845109134,
           0.24381918901968816,
           0,
           0,
           0,
           0,
           0,
           0,
           0,
           0,
           0,
           0,
           0.1291077640602051,
           0,
           0.11017959886927131,
           0,
           0,
           0,
           0,
           0.17917466867763218,
           0,
           0,
           0.20207213280316394,
           0.052035574653344845,
           0,
           0,
           0,
           0.06552684970281468,
           0,
           0
          ],
          [
           0,
           0,
           0,
           0,
           0,
           0.14027959720645014,
           0,
           0.12337760877917678,
           0.9999999999999997,
           0,
           0,
           0,
           0.37414099829441017,
           0.06702984577003966,
           0,
           0,
           0,
           0.20720338900661947,
           0.44374203047676963,
           0,
           0,
           0,
           0,
           0,
           0,
           0,
           0,
           0,
           0.31413157761429816,
           0,
           0,
           0,
           0,
           0,
           0,
           0,
           0.11746498253710408,
           0,
           0,
           0.1713580430971838,
           0.0725961406105445,
           0,
           0.3384730170618351,
           0.09488114204040503,
           0,
           0.28279252417938283,
           0,
           0,
           0,
           0
          ],
          [
           0,
           0.1456199710900035,
           0,
           0,
           0.15514142392275487,
           0,
           0.11830551051738475,
           0,
           0,
           1,
           0,
           0.11568912477036535,
           0,
           0,
           0.11075994000160706,
           0.1290121869854173,
           0,
           0,
           0,
           0.11439497513383132,
           0,
           0,
           0.4550681360346796,
           0,
           0,
           0,
           0,
           0,
           0,
           0,
           0,
           0,
           0.04579505555178016,
           0,
           0,
           0,
           0.15820509306546532,
           0.12261740203110985,
           0.10005085950743285,
           0.21926661432202096,
           0,
           0.18801710258285914,
           0,
           0.018457232601499556,
           0.1682970501888018,
           0,
           0,
           0,
           0.1682970501888018,
           0.1682970501888018
          ],
          [
           0.7902219747873093,
           0,
           0,
           0,
           0,
           0.24818158614382602,
           0,
           0,
           0,
           0,
           1.0000000000000002,
           0,
           0,
           0,
           0,
           0.3240065451430292,
           0,
           0,
           0,
           0,
           0,
           0,
           0,
           0.7705703609259528,
           0,
           0,
           0,
           0,
           0,
           0,
           0.7902219747873093,
           0,
           0,
           0,
           0,
           0,
           0,
           0,
           0,
           0,
           0,
           0,
           0,
           0.12903140670971583,
           0,
           0,
           0,
           0,
           0,
           0
          ],
          [
           0,
           0,
           0,
           0,
           0,
           0,
           0,
           0,
           0,
           0.11568912477036535,
           0,
           1,
           0,
           0,
           0.10814110691248088,
           0,
           0,
           0,
           0,
           0.11169019445134,
           0,
           0,
           0.2700191775124425,
           0,
           0,
           0,
           0,
           0,
           0,
           0,
           0,
           0,
           0.19373000777321384,
           0,
           0,
           0.3731068390640195,
           0.04145135370167279,
           0,
           0.26869429470356,
           0,
           0,
           0,
           0,
           0.1595416391829037,
           0.45197469990560435,
           0,
           0.28097596157304905,
           0,
           0.45197469990560435,
           0.45197469990560435
          ],
          [
           0,
           0.11968342768924081,
           0,
           0,
           0,
           0,
           0,
           0.06876718610957079,
           0.37414099829441017,
           0,
           0,
           0,
           1,
           0.08999017054355103,
           0,
           0,
           0.09996601564885006,
           0,
           0.21282444337353792,
           0,
           0,
           0,
           0,
           0,
           0,
           0,
           0,
           0,
           0,
           0,
           0,
           0,
           0,
           0,
           0.14574392807643094,
           0,
           0,
           0,
           0,
           0.11502741312599932,
           0.0974631374919042,
           0,
           0.28359550117660176,
           0.029410774628018495,
           0,
           0.18982997191020454,
           0,
           0,
           0,
           0
          ],
          [
           0,
           0,
           0,
           0,
           0,
           0,
           0,
           0,
           0.06702984577003966,
           0,
           0,
           0,
           0.08999017054355103,
           1,
           0,
           0,
           0,
           0,
           0.07863513371231377,
           0,
           0,
           0,
           0,
           0,
           0,
           0,
           0,
           0,
           0,
           0,
           0,
           0,
           0,
           0,
           0,
           0,
           0,
           0,
           0,
           0,
           0.036011027338838264,
           0,
           0.059980504722689405,
           0.19855450055125246,
           0,
           0,
           0,
           0.19384294672718924,
           0,
           0
          ],
          [
           0,
           0,
           0,
           0.1695561280997852,
           0,
           0,
           0,
           0.2749146266504508,
           0,
           0.11075994000160706,
           0,
           0.10814110691248088,
           0,
           0,
           1,
           0,
           0,
           0,
           0,
           0.10693139273681426,
           0.1338883565541947,
           0.13352746373561963,
           0,
           0,
           0,
           0,
           0,
           0.29622155321129406,
           0,
           0,
           0,
           0,
           0.34378997723051696,
           0.2159453583785696,
           0,
           0,
           0.03968522934282522,
           0,
           0.09352314416895326,
           0.30740875185133565,
           0,
           0,
           0,
           0.06777208236614955,
           0.15731668239039528,
           0,
           0,
           0.1182480284772599,
           0.15731668239039528,
           0.15731668239039528
          ],
          [
           0.41001965964087045,
           0.11630734928313753,
           0,
           0.11502359820904698,
           0,
           0.11915020732668816,
           0.09449116237882532,
           0.17288150012359238,
           0,
           0.1290121869854173,
           0.3240065451430292,
           0,
           0,
           0,
           0,
           0.9999999999999999,
           0,
           0.10638576757658236,
           0,
           0,
           0,
           0.26185742753898766,
           0,
           0.24966984043323498,
           0.09689776409622133,
           0,
           0,
           0,
           0,
           0,
           0.41001965964087045,
           0,
           0,
           0,
           0.134255548238852,
           0.31703975826126135,
           0.2098398432986435,
           0.19076906816737135,
           0,
           0,
           0.06706296356669578,
           0,
           0,
           0.07536091710934849,
           0,
           0,
           0,
           0,
           0,
           0
          ],
          [
           0,
           0.13152728765098745,
           0,
           0,
           0,
           0,
           0.32954283751280106,
           0.07557237992771496,
           0,
           0,
           0,
           0,
           0.09996601564885006,
           0,
           0,
           0,
           0.9999999999999999,
           0,
           0,
           0.392584036463782,
           0,
           0,
           0,
           0,
           0,
           0,
           0,
           0,
           0,
           0,
           0,
           0,
           0.1258207947529096,
           0,
           0.16016673253432245,
           0,
           0,
           0,
           0,
           0,
           0,
           0,
           0.13325926681809108,
           0,
           0,
           0,
           0.285465687390443,
           0,
           0,
           0
          ],
          [
           0,
           0,
           0,
           0.125280908194983,
           0,
           0.056994059080196786,
           0,
           0.10514882646107497,
           0.20720338900661947,
           0,
           0,
           0,
           0,
           0,
           0,
           0.10638576757658236,
           0,
           1,
           0.24307778144199138,
           0,
           0,
           0,
           0.3958772898930631,
           0,
           0.10553869012144168,
           0,
           0,
           0,
           0,
           0,
           0,
           0,
           0.13277430526951872,
           0,
           0.1462278808476347,
           0,
           0,
           0.10111251299693495,
           0,
           0,
           0.07304335034462417,
           0,
           0.18541238921399705,
           0.05351333689487693,
           0,
           0.3453984251709662,
           0,
           0,
           0,
           0
          ],
          [
           0,
           0,
           0.24854375230021777,
           0,
           0,
           0.1713141222799256,
           0,
           0.14473873021788344,
           0.44374203047676963,
           0,
           0,
           0,
           0.21282444337353792,
           0.07863513371231377,
           0,
           0,
           0,
           0.24307778144199138,
           1,
           0,
           0,
           0,
           0,
           0,
           0,
           0,
           0,
           0,
           0,
           0,
           0,
           0,
           0,
           0,
           0,
           0,
           0,
           0,
           0,
           0,
           0.30472062571067904,
           0,
           0.39707492459372723,
           0,
           0,
           0,
           0,
           0,
           0,
           0
          ],
          [
           0,
           0,
           0,
           0,
           0,
           0,
           0,
           0,
           0,
           0.11439497513383132,
           0,
           0.11169019445134,
           0,
           0,
           0.10693139273681426,
           0,
           0.392584036463782,
           0,
           0,
           1.0000000000000002,
           0,
           0,
           0,
           0,
           0,
           0,
           0,
           0,
           0.3833205847248896,
           0,
           0,
           0,
           0.19882542641891676,
           0,
           0,
           0,
           0.04098766055477292,
           0,
           0.0965924841733383,
           0,
           0,
           0,
           0,
           0.017819236703424036,
           0.16247966521040905,
           0,
           0,
           0,
           0.16247966521040905,
           0.16247966521040905
          ],
          [
           0,
           0,
           0,
           0,
           0,
           0,
           0,
           0.07419389845109134,
           0,
           0,
           0,
           0,
           0,
           0,
           0.1338883565541947,
           0,
           0,
           0,
           0,
           0,
           1.0000000000000002,
           0.11237884547278046,
           0,
           0,
           0,
           0,
           0,
           0,
           0.266572607729002,
           0.29336426178636366,
           0,
           0,
           0.05535778302197465,
           0.19489024381833567,
           0,
           0,
           0,
           0,
           0,
           0.0872612789565854,
           0,
           0.44387374775314575,
           0,
           0.02231139290539001,
           0,
           0,
           0,
           0.09951942879719423,
           0,
           0
          ],
          [
           0,
           0,
           0,
           0,
           0,
           0,
           0,
           0.24381918901968816,
           0,
           0,
           0,
           0,
           0,
           0,
           0.13352746373561963,
           0.26185742753898766,
           0,
           0,
           0,
           0,
           0.11237884547278046,
           0.9999999999999999,
           0,
           0,
           0,
           0,
           0,
           0,
           0,
           0,
           0,
           0,
           0.05520856746015109,
           0,
           0,
           0,
           0,
           0,
           0,
           0.08702606829506414,
           0,
           0,
           0,
           0.022251253086818835,
           0,
           0,
           0,
           0.0992511765900125,
           0,
           0
          ],
          [
           0,
           0,
           0,
           0,
           0,
           0,
           0,
           0,
           0,
           0.4550681360346796,
           0,
           0.2700191775124425,
           0,
           0,
           0,
           0,
           0,
           0.3958772898930631,
           0,
           0,
           0,
           0,
           0.9999999999999999,
           0,
           0,
           0,
           0,
           0,
           0,
           0,
           0,
           0,
           0,
           0,
           0,
           0,
           0,
           0,
           0,
           0,
           0,
           0,
           0,
           0.04307930219115453,
           0,
           0,
           0.24250581376753638,
           0,
           0,
           0
          ],
          [
           0.6089216323234761,
           0,
           0,
           0,
           0,
           0.4274866966601353,
           0,
           0,
           0,
           0,
           0.7705703609259528,
           0,
           0,
           0,
           0,
           0.24966984043323498,
           0,
           0,
           0,
           0,
           0,
           0,
           0,
           1.0000000000000002,
           0,
           0,
           0,
           0,
           0,
           0,
           0.6089216323234761,
           0,
           0,
           0,
           0,
           0,
           0,
           0,
           0,
           0,
           0,
           0,
           0,
           0.09942777763908914,
           0,
           0,
           0,
           0,
           0,
           0
          ],
          [
           0,
           0.2802006036623765,
           0,
           0.11410774358796805,
           0,
           0.05191104992181909,
           0,
           0,
           0,
           0,
           0,
           0,
           0,
           0,
           0,
           0.09689776409622133,
           0,
           0.10553869012144168,
           0,
           0,
           0,
           0,
           0,
           0,
           1,
           0,
           0,
           0,
           0,
           0,
           0,
           0,
           0,
           0,
           0.13318656269002077,
           0,
           0,
           0.3973058952468138,
           0,
           0,
           0.06652898683459789,
           0,
           0,
           0.06262891236494815,
           0,
           0,
           0.3752021938649733,
           0.21595138066531483,
           0,
           0
          ],
          [
           0,
           0,
           0,
           0,
           0,
           0.12134335103998548,
           0,
           0,
           0,
           0,
           0,
           0,
           0,
           0,
           0,
           0,
           0,
           0,
           0,
           0,
           0,
           0,
           0,
           0,
           0,
           1,
           0,
           0,
           0,
           0,
           0,
           0,
           0,
           0,
           0,
           0,
           0,
           0,
           0,
           0,
           0,
           0,
           0,
           0,
           0,
           0,
           0,
           0,
           0,
           0
          ],
          [
           0,
           0,
           0,
           0,
           0,
           0,
           0.1792571163392125,
           0,
           0,
           0,
           0,
           0,
           0,
           0,
           0,
           0,
           0,
           0,
           0,
           0,
           0,
           0,
           0,
           0,
           0,
           0,
           0.9999999999999999,
           0,
           0,
           0,
           0,
           0,
           0,
           0,
           0,
           0,
           0,
           0,
           0,
           0,
           0.13421446449611188,
           0,
           0,
           0.1294753109068474,
           0,
           0,
           0,
           0.21165223743197656,
           0,
           0
          ],
          [
           0,
           0,
           0.05972646518004513,
           0,
           0,
           0.08233549919889101,
           0.1994624999281472,
           0,
           0,
           0,
           0,
           0,
           0,
           0,
           0.29622155321129406,
           0,
           0,
           0,
           0,
           0,
           0,
           0,
           0,
           0,
           0,
           0,
           0,
           0.9999999999999999,
           0,
           0,
           0,
           0.08305350906282433,
           0.2771616291982066,
           0,
           0,
           0,
           0,
           0,
           0,
           0.1266043807366719,
           0,
           0,
           0,
           0.1471890077459924,
           0,
           0.20893546491066042,
           0,
           0.18921873853109009,
           0,
           0
          ],
          [
           0,
           0,
           0,
           0,
           0,
           0.13168241710925221,
           0,
           0,
           0.31413157761429816,
           0,
           0,
           0,
           0,
           0,
           0,
           0,
           0,
           0,
           0,
           0.3833205847248896,
           0.266572607729002,
           0,
           0,
           0,
           0,
           0,
           0,
           0,
           1,
           0,
           0,
           0,
           0.15345243487382582,
           0.2373707583617968,
           0,
           0,
           0.11026601967938024,
           0,
           0,
           0,
           0,
           0,
           0,
           0.0479377519579484,
           0,
           0,
           0,
           0,
           0,
           0
          ],
          [
           0,
           0,
           0,
           0,
           0,
           0,
           0,
           0,
           0,
           0,
           0,
           0,
           0,
           0,
           0,
           0,
           0,
           0,
           0,
           0,
           0.29336426178636366,
           0,
           0,
           0,
           0,
           0,
           0,
           0,
           0,
           1,
           0,
           0,
           0,
           0,
           0,
           0,
           0,
           0,
           0,
           0,
           0.20168503739293478,
           0,
           0,
           0.057289160375308054,
           0,
           0,
           0,
           0,
           0,
           0
          ],
          [
           0.9999999999999997,
           0,
           0,
           0,
           0,
           0.10108970203688734,
           0,
           0,
           0,
           0,
           0.7902219747873093,
           0,
           0,
           0,
           0,
           0.41001965964087045,
           0,
           0,
           0,
           0,
           0,
           0,
           0,
           0.6089216323234761,
           0,
           0,
           0,
           0,
           0,
           0,
           0.9999999999999997,
           0,
           0,
           0,
           0,
           0,
           0,
           0,
           0,
           0,
           0,
           0,
           0,
           0.08575310964299816,
           0,
           0,
           0,
           0,
           0,
           0
          ],
          [
           0,
           0,
           0.07909823646368179,
           0,
           0,
           0.10904031848121239,
           0,
           0,
           0,
           0,
           0,
           0,
           0,
           0,
           0,
           0,
           0,
           0,
           0,
           0,
           0,
           0,
           0,
           0,
           0,
           0,
           0,
           0.08305350906282433,
           0,
           0,
           0,
           1.0000000000000002,
           0.15513137281655712,
           0,
           0,
           0,
           0.052511118876087025,
           0,
           0.12374893688271453,
           0,
           0,
           0,
           0,
           0.0426765722893793,
           0.20815994129279672,
           0,
           0,
           0,
           0.20815994129279672,
           0.20815994129279672
          ],
          [
           0,
           0,
           0.2770491512025536,
           0,
           0,
           0.16324013352571876,
           0,
           0.1291077640602051,
           0,
           0.04579505555178016,
           0,
           0.19373000777321384,
           0,
           0,
           0.34378997723051696,
           0,
           0.1258207947529096,
           0.13277430526951872,
           0,
           0.19882542641891676,
           0.05535778302197465,
           0.05520856746015109,
           0,
           0,
           0,
           0,
           0,
           0.2771616291982066,
           0.15345243487382582,
           0,
           0,
           0.15513137281655712,
           0.9999999999999996,
           0.08928525677200783,
           0,
           0.1476927797284425,
           0.09485128450155665,
           0,
           0.09407246647032451,
           0.15676036148641564,
           0,
           0,
           0,
           0.17450263599495938,
           0.15824070566594584,
           0.27733463586398177,
           0.14651877631714036,
           0.04889109756583497,
           0.15824070566594584,
           0.15824070566594584
          ],
          [
           0,
           0,
           0,
           0,
           0,
           0,
           0,
           0,
           0,
           0,
           0,
           0,
           0,
           0,
           0.2159453583785696,
           0,
           0,
           0,
           0,
           0,
           0.19489024381833567,
           0,
           0,
           0,
           0,
           0,
           0,
           0,
           0.2373707583617968,
           0,
           0,
           0,
           0.08928525677200783,
           1,
           0,
           0,
           0,
           0,
           0,
           0.14074164954907575,
           0,
           0,
           0,
           0.03598551704478722,
           0,
           0,
           0,
           0,
           0,
           0
          ],
          [
           0,
           0.6696514916339593,
           0,
           0.15810063128482868,
           0,
           0.07192473976992433,
           0,
           0.11017959886927131,
           0,
           0,
           0,
           0,
           0.14574392807643094,
           0,
           0,
           0.134255548238852,
           0.16016673253432245,
           0.1462278808476347,
           0,
           0,
           0,
           0,
           0,
           0,
           0.13318656269002077,
           0,
           0,
           0,
           0,
           0,
           0,
           0,
           0,
           0,
           1,
           0,
           0,
           0.12760086405768117,
           0,
           0,
           0.0921784489514616,
           0,
           0.19428331591084272,
           0.08257273300879106,
           0,
           0,
           0,
           0,
           0,
           0
          ],
          [
           0,
           0,
           0,
           0,
           0,
           0,
           0.1862694668132101,
           0,
           0,
           0,
           0,
           0.3731068390640195,
           0,
           0,
           0,
           0.31703975826126135,
           0,
           0,
           0,
           0,
           0,
           0,
           0,
           0,
           0,
           0,
           0,
           0,
           0,
           0,
           0,
           0,
           0.1476927797284425,
           0,
           0,
           0.9999999999999999,
           0.32447000770565604,
           0,
           0,
           0,
           0,
           0,
           0,
           0.12135755917134333,
           0,
           0,
           0,
           0,
           0,
           0
          ],
          [
           0,
           0.10435112098324573,
           0.08823497990982321,
           0,
           0.04353937932286093,
           0.3219446723645444,
           0.2227170477245248,
           0,
           0.11746498253710408,
           0.15820509306546532,
           0,
           0.04145135370167279,
           0,
           0,
           0.03968522934282522,
           0.2098398432986435,
           0,
           0,
           0,
           0.04098766055477292,
           0,
           0,
           0,
           0,
           0,
           0,
           0,
           0,
           0.11026601967938024,
           0,
           0,
           0.052511118876087025,
           0.09485128450155665,
           0,
           0,
           0.32447000770565604,
           1,
           0.08786750373745948,
           0.3615796373453134,
           0.1834236080463522,
           0,
           0,
           0,
           0.07904873223366396,
           0.14670004265602726,
           0,
           0,
           0,
           0.14670004265602726,
           0.14670004265602726
          ],
          [
           0,
           0.11054230874975551,
           0,
           0.10932218974210377,
           0,
           0.04973395731806692,
           0.08980749118764214,
           0,
           0,
           0.12261740203110985,
           0,
           0,
           0,
           0,
           0,
           0.19076906816737135,
           0,
           0.10111251299693495,
           0,
           0,
           0,
           0,
           0,
           0,
           0.3973058952468138,
           0,
           0,
           0,
           0,
           0,
           0,
           0,
           0,
           0,
           0.12760086405768117,
           0,
           0.08786750373745948,
           1,
           0,
           0,
           0.06373883395980794,
           0,
           0,
           0.16799345681177635,
           0,
           0,
           0,
           0,
           0,
           0
          ],
          [
           0,
           0,
           0,
           0,
           0.10260592459382721,
           0.15277900272789782,
           0,
           0,
           0,
           0.10005085950743285,
           0,
           0.26869429470356,
           0,
           0,
           0.09352314416895326,
           0,
           0,
           0,
           0,
           0.0965924841733383,
           0,
           0,
           0,
           0,
           0,
           0,
           0,
           0,
           0,
           0,
           0,
           0.12374893688271453,
           0.09407246647032451,
           0,
           0,
           0,
           0.3615796373453134,
           0,
           0.9999999999999997,
           0,
           0,
           0,
           0,
           0.06519801915823971,
           0.5944896799747359,
           0,
           0,
           0,
           0.5944896799747359,
           0.5944896799747359
          ],
          [
           0,
           0,
           0,
           0.11050762720300447,
           0.18903177276513955,
           0,
           0,
           0.17917466867763218,
           0.1713580430971838,
           0.21926661432202096,
           0,
           0,
           0.11502741312599932,
           0,
           0.30740875185133565,
           0,
           0,
           0,
           0,
           0,
           0.0872612789565854,
           0.08702606829506414,
           0,
           0,
           0,
           0,
           0,
           0.1266043807366719,
           0,
           0,
           0,
           0,
           0.15676036148641564,
           0.14074164954907575,
           0,
           0,
           0.1834236080463522,
           0,
           0,
           1,
           0,
           0.22908908087048996,
           0,
           0.089330605453796,
           0,
           0.36406230165115705,
           0,
           0.07706774856739516,
           0,
           0
          ],
          [
           0,
           0,
           0.11382082583753556,
           0.0789739941090775,
           0,
           0.1143810990476355,
           0.17048868208412865,
           0,
           0.0725961406105445,
           0,
           0,
           0,
           0.0974631374919042,
           0.036011027338838264,
           0,
           0.06706296356669578,
           0,
           0.07304335034462417,
           0.30472062571067904,
           0,
           0,
           0,
           0,
           0,
           0.06652898683459789,
           0,
           0.13421446449611188,
           0,
           0,
           0.20168503739293478,
           0,
           0,
           0,
           0,
           0.0921784489514616,
           0,
           0,
           0.06373883395980794,
           0,
           0,
           1,
           0,
           0.3864515988439653,
           0.1402489784283699,
           0,
           0,
           0,
           0,
           0,
           0
          ],
          [
           0,
           0,
           0,
           0.3854205132954147,
           0.16209128015816476,
           0,
           0,
           0,
           0,
           0.18801710258285914,
           0,
           0,
           0,
           0,
           0,
           0,
           0,
           0,
           0,
           0,
           0.44387374775314575,
           0,
           0,
           0,
           0,
           0,
           0,
           0,
           0,
           0,
           0,
           0,
           0,
           0,
           0,
           0,
           0,
           0,
           0,
           0.22908908087048996,
           0,
           0.9999999999999998,
           0,
           0.03191533440305959,
           0,
           0,
           0,
           0,
           0,
           0
          ],
          [
           0,
           0.1595434780572623,
           0,
           0,
           0,
           0,
           0,
           0.20207213280316394,
           0.3384730170618351,
           0,
           0,
           0,
           0.28359550117660176,
           0.059980504722689405,
           0,
           0,
           0.13325926681809108,
           0.18541238921399705,
           0.39707492459372723,
           0,
           0,
           0,
           0,
           0,
           0,
           0,
           0,
           0,
           0,
           0,
           0,
           0,
           0,
           0,
           0.19428331591084272,
           0,
           0,
           0,
           0,
           0,
           0.3864515988439653,
           0,
           0.9999999999999999,
           0,
           0,
           0,
           0,
           0,
           0,
           0
          ],
          [
           0.08575310964299816,
           0.06780788641141891,
           0.09738883196358619,
           0.05746257651301165,
           0,
           0.10801209737976153,
           0,
           0.052035574653344845,
           0.09488114204040503,
           0.018457232601499556,
           0.12903140670971583,
           0.1595416391829037,
           0.029410774628018495,
           0.19855450055125246,
           0.06777208236614955,
           0.07536091710934849,
           0,
           0.05351333689487693,
           0,
           0.017819236703424036,
           0.02231139290539001,
           0.022251253086818835,
           0.04307930219115453,
           0.09942777763908914,
           0.06262891236494815,
           0,
           0.1294753109068474,
           0.1471890077459924,
           0.0479377519579484,
           0.057289160375308054,
           0.08575310964299816,
           0.0426765722893793,
           0.17450263599495938,
           0.03598551704478722,
           0.08257273300879106,
           0.12135755917134333,
           0.07904873223366396,
           0.16799345681177635,
           0.06519801915823971,
           0.089330605453796,
           0.1402489784283699,
           0.03191533440305959,
           0,
           1,
           0.1096705651156307,
           0.15493219712391204,
           0.04482736548035681,
           0.13651863923264101,
           0.1096705651156307,
           0.1096705651156307
          ],
          [
           0,
           0,
           0,
           0,
           0,
           0,
           0,
           0,
           0,
           0.1682970501888018,
           0,
           0.45197469990560435,
           0,
           0,
           0.15731668239039528,
           0,
           0,
           0,
           0,
           0.16247966521040905,
           0,
           0,
           0,
           0,
           0,
           0,
           0,
           0,
           0,
           0,
           0,
           0.20815994129279672,
           0.15824070566594584,
           0,
           0,
           0,
           0.14670004265602726,
           0,
           0.5944896799747359,
           0,
           0,
           0,
           0,
           0.1096705651156307,
           1,
           0,
           0,
           0,
           1,
           1
          ],
          [
           0,
           0,
           0,
           0,
           0,
           0,
           0,
           0,
           0.28279252417938283,
           0,
           0,
           0,
           0.18982997191020454,
           0,
           0,
           0,
           0,
           0.3453984251709662,
           0,
           0,
           0,
           0,
           0,
           0,
           0,
           0,
           0,
           0.20893546491066042,
           0,
           0,
           0,
           0,
           0.27733463586398177,
           0,
           0,
           0,
           0,
           0,
           0,
           0.36406230165115705,
           0,
           0,
           0,
           0.15493219712391204,
           0,
           1,
           0,
           0,
           0,
           0
          ],
          [
           0,
           0,
           0,
           0,
           0,
           0,
           0,
           0,
           0,
           0,
           0,
           0.28097596157304905,
           0,
           0,
           0,
           0,
           0.285465687390443,
           0,
           0,
           0,
           0,
           0,
           0.24250581376753638,
           0,
           0.3752021938649733,
           0,
           0,
           0,
           0,
           0,
           0,
           0,
           0.14651877631714036,
           0,
           0,
           0,
           0,
           0,
           0,
           0,
           0,
           0,
           0,
           0.04482736548035681,
           0,
           0,
           1.0000000000000002,
           0,
           0,
           0
          ],
          [
           0,
           0.24570727749030133,
           0,
           0,
           0,
           0,
           0.2126138010897198,
           0.06552684970281468,
           0,
           0,
           0,
           0,
           0,
           0.19384294672718924,
           0.1182480284772599,
           0,
           0,
           0,
           0,
           0,
           0.09951942879719423,
           0.0992511765900125,
           0,
           0,
           0.21595138066531483,
           0,
           0.21165223743197656,
           0.18921873853109009,
           0,
           0,
           0,
           0,
           0.04889109756583497,
           0,
           0,
           0,
           0,
           0,
           0,
           0.07706774856739516,
           0,
           0,
           0,
           0.13651863923264101,
           0,
           0,
           0,
           1,
           0,
           0
          ],
          [
           0,
           0,
           0,
           0,
           0,
           0,
           0,
           0,
           0,
           0.1682970501888018,
           0,
           0.45197469990560435,
           0,
           0,
           0.15731668239039528,
           0,
           0,
           0,
           0,
           0.16247966521040905,
           0,
           0,
           0,
           0,
           0,
           0,
           0,
           0,
           0,
           0,
           0,
           0.20815994129279672,
           0.15824070566594584,
           0,
           0,
           0,
           0.14670004265602726,
           0,
           0.5944896799747359,
           0,
           0,
           0,
           0,
           0.1096705651156307,
           1,
           0,
           0,
           0,
           1,
           1
          ],
          [
           0,
           0,
           0,
           0,
           0,
           0,
           0,
           0,
           0,
           0.1682970501888018,
           0,
           0.45197469990560435,
           0,
           0,
           0.15731668239039528,
           0,
           0,
           0,
           0,
           0.16247966521040905,
           0,
           0,
           0,
           0,
           0,
           0,
           0,
           0,
           0,
           0,
           0,
           0.20815994129279672,
           0.15824070566594584,
           0,
           0,
           0,
           0.14670004265602726,
           0,
           0.5944896799747359,
           0,
           0,
           0,
           0,
           0.1096705651156307,
           1,
           0,
           0,
           0,
           1,
           1
          ]
         ]
        }
       ],
       "layout": {
        "height": 800,
        "template": {
         "data": {
          "bar": [
           {
            "error_x": {
             "color": "#2a3f5f"
            },
            "error_y": {
             "color": "#2a3f5f"
            },
            "marker": {
             "line": {
              "color": "#E5ECF6",
              "width": 0.5
             }
            },
            "type": "bar"
           }
          ],
          "barpolar": [
           {
            "marker": {
             "line": {
              "color": "#E5ECF6",
              "width": 0.5
             }
            },
            "type": "barpolar"
           }
          ],
          "carpet": [
           {
            "aaxis": {
             "endlinecolor": "#2a3f5f",
             "gridcolor": "white",
             "linecolor": "white",
             "minorgridcolor": "white",
             "startlinecolor": "#2a3f5f"
            },
            "baxis": {
             "endlinecolor": "#2a3f5f",
             "gridcolor": "white",
             "linecolor": "white",
             "minorgridcolor": "white",
             "startlinecolor": "#2a3f5f"
            },
            "type": "carpet"
           }
          ],
          "choropleth": [
           {
            "colorbar": {
             "outlinewidth": 0,
             "ticks": ""
            },
            "type": "choropleth"
           }
          ],
          "contour": [
           {
            "colorbar": {
             "outlinewidth": 0,
             "ticks": ""
            },
            "colorscale": [
             [
              0,
              "#0d0887"
             ],
             [
              0.1111111111111111,
              "#46039f"
             ],
             [
              0.2222222222222222,
              "#7201a8"
             ],
             [
              0.3333333333333333,
              "#9c179e"
             ],
             [
              0.4444444444444444,
              "#bd3786"
             ],
             [
              0.5555555555555556,
              "#d8576b"
             ],
             [
              0.6666666666666666,
              "#ed7953"
             ],
             [
              0.7777777777777778,
              "#fb9f3a"
             ],
             [
              0.8888888888888888,
              "#fdca26"
             ],
             [
              1,
              "#f0f921"
             ]
            ],
            "type": "contour"
           }
          ],
          "contourcarpet": [
           {
            "colorbar": {
             "outlinewidth": 0,
             "ticks": ""
            },
            "type": "contourcarpet"
           }
          ],
          "heatmap": [
           {
            "colorbar": {
             "outlinewidth": 0,
             "ticks": ""
            },
            "colorscale": [
             [
              0,
              "#0d0887"
             ],
             [
              0.1111111111111111,
              "#46039f"
             ],
             [
              0.2222222222222222,
              "#7201a8"
             ],
             [
              0.3333333333333333,
              "#9c179e"
             ],
             [
              0.4444444444444444,
              "#bd3786"
             ],
             [
              0.5555555555555556,
              "#d8576b"
             ],
             [
              0.6666666666666666,
              "#ed7953"
             ],
             [
              0.7777777777777778,
              "#fb9f3a"
             ],
             [
              0.8888888888888888,
              "#fdca26"
             ],
             [
              1,
              "#f0f921"
             ]
            ],
            "type": "heatmap"
           }
          ],
          "heatmapgl": [
           {
            "colorbar": {
             "outlinewidth": 0,
             "ticks": ""
            },
            "colorscale": [
             [
              0,
              "#0d0887"
             ],
             [
              0.1111111111111111,
              "#46039f"
             ],
             [
              0.2222222222222222,
              "#7201a8"
             ],
             [
              0.3333333333333333,
              "#9c179e"
             ],
             [
              0.4444444444444444,
              "#bd3786"
             ],
             [
              0.5555555555555556,
              "#d8576b"
             ],
             [
              0.6666666666666666,
              "#ed7953"
             ],
             [
              0.7777777777777778,
              "#fb9f3a"
             ],
             [
              0.8888888888888888,
              "#fdca26"
             ],
             [
              1,
              "#f0f921"
             ]
            ],
            "type": "heatmapgl"
           }
          ],
          "histogram": [
           {
            "marker": {
             "colorbar": {
              "outlinewidth": 0,
              "ticks": ""
             }
            },
            "type": "histogram"
           }
          ],
          "histogram2d": [
           {
            "colorbar": {
             "outlinewidth": 0,
             "ticks": ""
            },
            "colorscale": [
             [
              0,
              "#0d0887"
             ],
             [
              0.1111111111111111,
              "#46039f"
             ],
             [
              0.2222222222222222,
              "#7201a8"
             ],
             [
              0.3333333333333333,
              "#9c179e"
             ],
             [
              0.4444444444444444,
              "#bd3786"
             ],
             [
              0.5555555555555556,
              "#d8576b"
             ],
             [
              0.6666666666666666,
              "#ed7953"
             ],
             [
              0.7777777777777778,
              "#fb9f3a"
             ],
             [
              0.8888888888888888,
              "#fdca26"
             ],
             [
              1,
              "#f0f921"
             ]
            ],
            "type": "histogram2d"
           }
          ],
          "histogram2dcontour": [
           {
            "colorbar": {
             "outlinewidth": 0,
             "ticks": ""
            },
            "colorscale": [
             [
              0,
              "#0d0887"
             ],
             [
              0.1111111111111111,
              "#46039f"
             ],
             [
              0.2222222222222222,
              "#7201a8"
             ],
             [
              0.3333333333333333,
              "#9c179e"
             ],
             [
              0.4444444444444444,
              "#bd3786"
             ],
             [
              0.5555555555555556,
              "#d8576b"
             ],
             [
              0.6666666666666666,
              "#ed7953"
             ],
             [
              0.7777777777777778,
              "#fb9f3a"
             ],
             [
              0.8888888888888888,
              "#fdca26"
             ],
             [
              1,
              "#f0f921"
             ]
            ],
            "type": "histogram2dcontour"
           }
          ],
          "mesh3d": [
           {
            "colorbar": {
             "outlinewidth": 0,
             "ticks": ""
            },
            "type": "mesh3d"
           }
          ],
          "parcoords": [
           {
            "line": {
             "colorbar": {
              "outlinewidth": 0,
              "ticks": ""
             }
            },
            "type": "parcoords"
           }
          ],
          "pie": [
           {
            "automargin": true,
            "type": "pie"
           }
          ],
          "scatter": [
           {
            "marker": {
             "colorbar": {
              "outlinewidth": 0,
              "ticks": ""
             }
            },
            "type": "scatter"
           }
          ],
          "scatter3d": [
           {
            "line": {
             "colorbar": {
              "outlinewidth": 0,
              "ticks": ""
             }
            },
            "marker": {
             "colorbar": {
              "outlinewidth": 0,
              "ticks": ""
             }
            },
            "type": "scatter3d"
           }
          ],
          "scattercarpet": [
           {
            "marker": {
             "colorbar": {
              "outlinewidth": 0,
              "ticks": ""
             }
            },
            "type": "scattercarpet"
           }
          ],
          "scattergeo": [
           {
            "marker": {
             "colorbar": {
              "outlinewidth": 0,
              "ticks": ""
             }
            },
            "type": "scattergeo"
           }
          ],
          "scattergl": [
           {
            "marker": {
             "colorbar": {
              "outlinewidth": 0,
              "ticks": ""
             }
            },
            "type": "scattergl"
           }
          ],
          "scattermapbox": [
           {
            "marker": {
             "colorbar": {
              "outlinewidth": 0,
              "ticks": ""
             }
            },
            "type": "scattermapbox"
           }
          ],
          "scatterpolar": [
           {
            "marker": {
             "colorbar": {
              "outlinewidth": 0,
              "ticks": ""
             }
            },
            "type": "scatterpolar"
           }
          ],
          "scatterpolargl": [
           {
            "marker": {
             "colorbar": {
              "outlinewidth": 0,
              "ticks": ""
             }
            },
            "type": "scatterpolargl"
           }
          ],
          "scatterternary": [
           {
            "marker": {
             "colorbar": {
              "outlinewidth": 0,
              "ticks": ""
             }
            },
            "type": "scatterternary"
           }
          ],
          "surface": [
           {
            "colorbar": {
             "outlinewidth": 0,
             "ticks": ""
            },
            "colorscale": [
             [
              0,
              "#0d0887"
             ],
             [
              0.1111111111111111,
              "#46039f"
             ],
             [
              0.2222222222222222,
              "#7201a8"
             ],
             [
              0.3333333333333333,
              "#9c179e"
             ],
             [
              0.4444444444444444,
              "#bd3786"
             ],
             [
              0.5555555555555556,
              "#d8576b"
             ],
             [
              0.6666666666666666,
              "#ed7953"
             ],
             [
              0.7777777777777778,
              "#fb9f3a"
             ],
             [
              0.8888888888888888,
              "#fdca26"
             ],
             [
              1,
              "#f0f921"
             ]
            ],
            "type": "surface"
           }
          ],
          "table": [
           {
            "cells": {
             "fill": {
              "color": "#EBF0F8"
             },
             "line": {
              "color": "white"
             }
            },
            "header": {
             "fill": {
              "color": "#C8D4E3"
             },
             "line": {
              "color": "white"
             }
            },
            "type": "table"
           }
          ]
         },
         "layout": {
          "annotationdefaults": {
           "arrowcolor": "#2a3f5f",
           "arrowhead": 0,
           "arrowwidth": 1
          },
          "coloraxis": {
           "colorbar": {
            "outlinewidth": 0,
            "ticks": ""
           }
          },
          "colorscale": {
           "diverging": [
            [
             0,
             "#8e0152"
            ],
            [
             0.1,
             "#c51b7d"
            ],
            [
             0.2,
             "#de77ae"
            ],
            [
             0.3,
             "#f1b6da"
            ],
            [
             0.4,
             "#fde0ef"
            ],
            [
             0.5,
             "#f7f7f7"
            ],
            [
             0.6,
             "#e6f5d0"
            ],
            [
             0.7,
             "#b8e186"
            ],
            [
             0.8,
             "#7fbc41"
            ],
            [
             0.9,
             "#4d9221"
            ],
            [
             1,
             "#276419"
            ]
           ],
           "sequential": [
            [
             0,
             "#0d0887"
            ],
            [
             0.1111111111111111,
             "#46039f"
            ],
            [
             0.2222222222222222,
             "#7201a8"
            ],
            [
             0.3333333333333333,
             "#9c179e"
            ],
            [
             0.4444444444444444,
             "#bd3786"
            ],
            [
             0.5555555555555556,
             "#d8576b"
            ],
            [
             0.6666666666666666,
             "#ed7953"
            ],
            [
             0.7777777777777778,
             "#fb9f3a"
            ],
            [
             0.8888888888888888,
             "#fdca26"
            ],
            [
             1,
             "#f0f921"
            ]
           ],
           "sequentialminus": [
            [
             0,
             "#0d0887"
            ],
            [
             0.1111111111111111,
             "#46039f"
            ],
            [
             0.2222222222222222,
             "#7201a8"
            ],
            [
             0.3333333333333333,
             "#9c179e"
            ],
            [
             0.4444444444444444,
             "#bd3786"
            ],
            [
             0.5555555555555556,
             "#d8576b"
            ],
            [
             0.6666666666666666,
             "#ed7953"
            ],
            [
             0.7777777777777778,
             "#fb9f3a"
            ],
            [
             0.8888888888888888,
             "#fdca26"
            ],
            [
             1,
             "#f0f921"
            ]
           ]
          },
          "colorway": [
           "#636efa",
           "#EF553B",
           "#00cc96",
           "#ab63fa",
           "#FFA15A",
           "#19d3f3",
           "#FF6692",
           "#B6E880",
           "#FF97FF",
           "#FECB52"
          ],
          "font": {
           "color": "#2a3f5f"
          },
          "geo": {
           "bgcolor": "white",
           "lakecolor": "white",
           "landcolor": "#E5ECF6",
           "showlakes": true,
           "showland": true,
           "subunitcolor": "white"
          },
          "hoverlabel": {
           "align": "left"
          },
          "hovermode": "closest",
          "mapbox": {
           "style": "light"
          },
          "paper_bgcolor": "white",
          "plot_bgcolor": "#E5ECF6",
          "polar": {
           "angularaxis": {
            "gridcolor": "white",
            "linecolor": "white",
            "ticks": ""
           },
           "bgcolor": "#E5ECF6",
           "radialaxis": {
            "gridcolor": "white",
            "linecolor": "white",
            "ticks": ""
           }
          },
          "scene": {
           "xaxis": {
            "backgroundcolor": "#E5ECF6",
            "gridcolor": "white",
            "gridwidth": 2,
            "linecolor": "white",
            "showbackground": true,
            "ticks": "",
            "zerolinecolor": "white"
           },
           "yaxis": {
            "backgroundcolor": "#E5ECF6",
            "gridcolor": "white",
            "gridwidth": 2,
            "linecolor": "white",
            "showbackground": true,
            "ticks": "",
            "zerolinecolor": "white"
           },
           "zaxis": {
            "backgroundcolor": "#E5ECF6",
            "gridcolor": "white",
            "gridwidth": 2,
            "linecolor": "white",
            "showbackground": true,
            "ticks": "",
            "zerolinecolor": "white"
           }
          },
          "shapedefaults": {
           "line": {
            "color": "#2a3f5f"
           }
          },
          "ternary": {
           "aaxis": {
            "gridcolor": "white",
            "linecolor": "white",
            "ticks": ""
           },
           "baxis": {
            "gridcolor": "white",
            "linecolor": "white",
            "ticks": ""
           },
           "bgcolor": "#E5ECF6",
           "caxis": {
            "gridcolor": "white",
            "linecolor": "white",
            "ticks": ""
           }
          },
          "title": {
           "x": 0.05
          },
          "xaxis": {
           "automargin": true,
           "gridcolor": "white",
           "linecolor": "white",
           "ticks": "",
           "title": {
            "standoff": 15
           },
           "zerolinecolor": "white",
           "zerolinewidth": 2
          },
          "yaxis": {
           "automargin": true,
           "gridcolor": "white",
           "linecolor": "white",
           "ticks": "",
           "title": {
            "standoff": 15
           },
           "zerolinecolor": "white",
           "zerolinewidth": 2
          }
         }
        },
        "title": {
         "text": "Mapa de calor entre palabras sobre Transmilenio "
        },
        "width": 800
       }
      },
      "text/html": [
       "<div>                            <div id=\"68588eb5-2d18-4175-92d5-c4be075fa1e7\" class=\"plotly-graph-div\" style=\"height:800px; width:800px;\"></div>            <script type=\"text/javascript\">                require([\"plotly\"], function(Plotly) {                    window.PLOTLYENV=window.PLOTLYENV || {};                                    if (document.getElementById(\"68588eb5-2d18-4175-92d5-c4be075fa1e7\")) {                    Plotly.newPlot(                        \"68588eb5-2d18-4175-92d5-c4be075fa1e7\",                        [{\"colorscale\": [[0.0, \"rgb(255,245,240)\"], [0.125, \"rgb(254,224,210)\"], [0.25, \"rgb(252,187,161)\"], [0.375, \"rgb(252,146,114)\"], [0.5, \"rgb(251,106,74)\"], [0.625, \"rgb(239,59,44)\"], [0.75, \"rgb(203,24,29)\"], [0.875, \"rgb(165,15,21)\"], [1.0, \"rgb(103,0,13)\"]], \"type\": \"heatmap\", \"x\": [\"agredi\\u00f3\", \"alcaldesa\", \"alcald\\u00eda\", \"as\\u00ed\", \"atracan\", \"bogot\\u00e1\", \"bus\", \"buses\", \"ciudad\", \"ciudadanos\", \"c\\u00e1rcel\", \"c\\u00f3mo\", \"d\\u00eda\", \"escoltas\", \"estaciones\", \"estaci\\u00f3n\", \"gente\", \"gracias\", \"grande\", \"habla\", \"hace\", \"hacer\", \"haga\", \"hombre\", \"hora\", \"hueco\", \"jajaja\", \"ladrones\", \"mal\", \"meses\", \"mujer\", \"parte\", \"polic\\u00eda\", \"polic\\u00edas\", \"pues\", \"secretario\", \"seguridad\", \"si\", \"sigue\", \"sistema\", \"solo\", \"toda\", \"trabajo\", \"transmilenio\", \"transmisi\\u00f3n\", \"transporte\", \"ud\", \"va\", \"vivo\", \"youtube\"], \"y\": [\"agredi\\u00f3\", \"alcaldesa\", \"alcald\\u00eda\", \"as\\u00ed\", \"atracan\", \"bogot\\u00e1\", \"bus\", \"buses\", \"ciudad\", \"ciudadanos\", \"c\\u00e1rcel\", \"c\\u00f3mo\", \"d\\u00eda\", \"escoltas\", \"estaciones\", \"estaci\\u00f3n\", \"gente\", \"gracias\", \"grande\", \"habla\", \"hace\", \"hacer\", \"haga\", \"hombre\", \"hora\", \"hueco\", \"jajaja\", \"ladrones\", \"mal\", \"meses\", \"mujer\", \"parte\", \"polic\\u00eda\", \"polic\\u00edas\", \"pues\", \"secretario\", \"seguridad\", \"si\", \"sigue\", \"sistema\", \"solo\", \"toda\", \"trabajo\", \"transmilenio\", \"transmisi\\u00f3n\", \"transporte\", \"ud\", \"va\", \"vivo\", \"youtube\"], \"z\": [[0.9999999999999997, 0.0, 0.0, 0.0, 0.0, 0.10108970203688734, 0.0, 0.0, 0.0, 0.0, 0.7902219747873093, 0.0, 0.0, 0.0, 0.0, 0.41001965964087045, 0.0, 0.0, 0.0, 0.0, 0.0, 0.0, 0.0, 0.6089216323234761, 0.0, 0.0, 0.0, 0.0, 0.0, 0.0, 0.9999999999999997, 0.0, 0.0, 0.0, 0.0, 0.0, 0.0, 0.0, 0.0, 0.0, 0.0, 0.0, 0.0, 0.08575310964299816, 0.0, 0.0, 0.0, 0.0, 0.0, 0.0], [0.0, 1.0000000000000002, 0.0, 0.0, 0.0, 0.0, 0.10665504287142025, 0.09047836316847895, 0.0, 0.1456199710900035, 0.0, 0.0, 0.11968342768924081, 0.0, 0.0, 0.11630734928313753, 0.13152728765098745, 0.0, 0.0, 0.0, 0.0, 0.0, 0.0, 0.0, 0.2802006036623765, 0.0, 0.0, 0.0, 0.0, 0.0, 0.0, 0.0, 0.0, 0.0, 0.6696514916339593, 0.0, 0.10435112098324573, 0.11054230874975551, 0.0, 0.0, 0.0, 0.0, 0.1595434780572623, 0.06780788641141891, 0.0, 0.0, 0.0, 0.24570727749030133, 0.0, 0.0], [0.0, 0.0, 1.0, 0.0, 0.0, 0.27259861567397076, 0.0, 0.14883070687259758, 0.0, 0.0, 0.0, 0.0, 0.0, 0.0, 0.0, 0.0, 0.0, 0.0, 0.24854375230021777, 0.0, 0.0, 0.0, 0.0, 0.0, 0.0, 0.0, 0.0, 0.05972646518004513, 0.0, 0.0, 0.0, 0.07909823646368179, 0.2770491512025536, 0.0, 0.0, 0.0, 0.08823497990982321, 0.0, 0.0, 0.0, 0.11382082583753556, 0.0, 0.0, 0.09738883196358619, 0.0, 0.0, 0.0, 0.0, 0.0, 0.0], [0.0, 0.0, 0.0, 1.0, 0.0, 0.06162160504434123, 0.0, 0.18791820997374953, 0.0, 0.0, 0.0, 0.0, 0.0, 0.0, 0.1695561280997852, 0.11502359820904698, 0.0, 0.125280908194983, 0.0, 0.0, 0.0, 0.0, 0.0, 0.0, 0.11410774358796805, 0.0, 0.0, 0.0, 0.0, 0.0, 0.0, 0.0, 0.0, 0.0, 0.15810063128482868, 0.0, 0.0, 0.10932218974210377, 0.0, 0.11050762720300447, 0.0789739941090775, 0.3854205132954147, 0.0, 0.05746257651301165, 0.0, 0.0, 0.0, 0.0, 0.0, 0.0], [0.0, 0.0, 0.0, 0.0, 1.0, 0.15598742183698494, 0.0, 0.0, 0.0, 0.15514142392275487, 0.0, 0.0, 0.0, 0.0, 0.0, 0.0, 0.0, 0.0, 0.0, 0.0, 0.0, 0.0, 0.0, 0.0, 0.0, 0.0, 0.0, 0.0, 0.0, 0.0, 0.0, 0.0, 0.0, 0.0, 0.0, 0.0, 0.04353937932286093, 0.0, 0.10260592459382721, 0.18903177276513955, 0.0, 0.16209128015816476, 0.0, 0.0, 0.0, 0.0, 0.0, 0.0, 0.0, 0.0], [0.10108970203688734, 0.0, 0.27259861567397076, 0.06162160504434123, 0.15598742183698494, 1.0000000000000002, 0.0, 0.0, 0.14027959720645014, 0.0, 0.24818158614382602, 0.0, 0.0, 0.0, 0.0, 0.11915020732668816, 0.0, 0.056994059080196786, 0.1713141222799256, 0.0, 0.0, 0.0, 0.0, 0.4274866966601353, 0.05191104992181909, 0.12134335103998548, 0.0, 0.08233549919889101, 0.13168241710925221, 0.0, 0.10108970203688734, 0.10904031848121239, 0.16324013352571876, 0.0, 0.07192473976992433, 0.0, 0.3219446723645444, 0.04973395731806692, 0.15277900272789782, 0.0, 0.1143810990476355, 0.0, 0.0, 0.10801209737976153, 0.0, 0.0, 0.0, 0.0, 0.0, 0.0], [0.0, 0.10665504287142025, 0.0, 0.0, 0.0, 0.0, 1.0000000000000002, 0.0, 0.0, 0.11830551051738475, 0.0, 0.0, 0.0, 0.0, 0.0, 0.09449116237882532, 0.32954283751280106, 0.0, 0.0, 0.0, 0.0, 0.0, 0.0, 0.0, 0.0, 0.0, 0.1792571163392125, 0.1994624999281472, 0.0, 0.0, 0.0, 0.0, 0.0, 0.0, 0.0, 0.1862694668132101, 0.2227170477245248, 0.08980749118764214, 0.0, 0.0, 0.17048868208412865, 0.0, 0.0, 0.0, 0.0, 0.0, 0.0, 0.2126138010897198, 0.0, 0.0], [0.0, 0.09047836316847895, 0.14883070687259758, 0.18791820997374953, 0.0, 0.0, 0.0, 1.0, 0.12337760877917678, 0.0, 0.0, 0.0, 0.06876718610957079, 0.0, 0.2749146266504508, 0.17288150012359238, 0.07557237992771496, 0.10514882646107497, 0.14473873021788344, 0.0, 0.07419389845109134, 0.24381918901968816, 0.0, 0.0, 0.0, 0.0, 0.0, 0.0, 0.0, 0.0, 0.0, 0.0, 0.1291077640602051, 0.0, 0.11017959886927131, 0.0, 0.0, 0.0, 0.0, 0.17917466867763218, 0.0, 0.0, 0.20207213280316394, 0.052035574653344845, 0.0, 0.0, 0.0, 0.06552684970281468, 0.0, 0.0], [0.0, 0.0, 0.0, 0.0, 0.0, 0.14027959720645014, 0.0, 0.12337760877917678, 0.9999999999999997, 0.0, 0.0, 0.0, 0.37414099829441017, 0.06702984577003966, 0.0, 0.0, 0.0, 0.20720338900661947, 0.44374203047676963, 0.0, 0.0, 0.0, 0.0, 0.0, 0.0, 0.0, 0.0, 0.0, 0.31413157761429816, 0.0, 0.0, 0.0, 0.0, 0.0, 0.0, 0.0, 0.11746498253710408, 0.0, 0.0, 0.1713580430971838, 0.0725961406105445, 0.0, 0.3384730170618351, 0.09488114204040503, 0.0, 0.28279252417938283, 0.0, 0.0, 0.0, 0.0], [0.0, 0.1456199710900035, 0.0, 0.0, 0.15514142392275487, 0.0, 0.11830551051738475, 0.0, 0.0, 1.0, 0.0, 0.11568912477036535, 0.0, 0.0, 0.11075994000160706, 0.1290121869854173, 0.0, 0.0, 0.0, 0.11439497513383132, 0.0, 0.0, 0.4550681360346796, 0.0, 0.0, 0.0, 0.0, 0.0, 0.0, 0.0, 0.0, 0.0, 0.04579505555178016, 0.0, 0.0, 0.0, 0.15820509306546532, 0.12261740203110985, 0.10005085950743285, 0.21926661432202096, 0.0, 0.18801710258285914, 0.0, 0.018457232601499556, 0.1682970501888018, 0.0, 0.0, 0.0, 0.1682970501888018, 0.1682970501888018], [0.7902219747873093, 0.0, 0.0, 0.0, 0.0, 0.24818158614382602, 0.0, 0.0, 0.0, 0.0, 1.0000000000000002, 0.0, 0.0, 0.0, 0.0, 0.3240065451430292, 0.0, 0.0, 0.0, 0.0, 0.0, 0.0, 0.0, 0.7705703609259528, 0.0, 0.0, 0.0, 0.0, 0.0, 0.0, 0.7902219747873093, 0.0, 0.0, 0.0, 0.0, 0.0, 0.0, 0.0, 0.0, 0.0, 0.0, 0.0, 0.0, 0.12903140670971583, 0.0, 0.0, 0.0, 0.0, 0.0, 0.0], [0.0, 0.0, 0.0, 0.0, 0.0, 0.0, 0.0, 0.0, 0.0, 0.11568912477036535, 0.0, 1.0, 0.0, 0.0, 0.10814110691248088, 0.0, 0.0, 0.0, 0.0, 0.11169019445134, 0.0, 0.0, 0.2700191775124425, 0.0, 0.0, 0.0, 0.0, 0.0, 0.0, 0.0, 0.0, 0.0, 0.19373000777321384, 0.0, 0.0, 0.3731068390640195, 0.04145135370167279, 0.0, 0.26869429470356, 0.0, 0.0, 0.0, 0.0, 0.1595416391829037, 0.45197469990560435, 0.0, 0.28097596157304905, 0.0, 0.45197469990560435, 0.45197469990560435], [0.0, 0.11968342768924081, 0.0, 0.0, 0.0, 0.0, 0.0, 0.06876718610957079, 0.37414099829441017, 0.0, 0.0, 0.0, 1.0, 0.08999017054355103, 0.0, 0.0, 0.09996601564885006, 0.0, 0.21282444337353792, 0.0, 0.0, 0.0, 0.0, 0.0, 0.0, 0.0, 0.0, 0.0, 0.0, 0.0, 0.0, 0.0, 0.0, 0.0, 0.14574392807643094, 0.0, 0.0, 0.0, 0.0, 0.11502741312599932, 0.0974631374919042, 0.0, 0.28359550117660176, 0.029410774628018495, 0.0, 0.18982997191020454, 0.0, 0.0, 0.0, 0.0], [0.0, 0.0, 0.0, 0.0, 0.0, 0.0, 0.0, 0.0, 0.06702984577003966, 0.0, 0.0, 0.0, 0.08999017054355103, 1.0, 0.0, 0.0, 0.0, 0.0, 0.07863513371231377, 0.0, 0.0, 0.0, 0.0, 0.0, 0.0, 0.0, 0.0, 0.0, 0.0, 0.0, 0.0, 0.0, 0.0, 0.0, 0.0, 0.0, 0.0, 0.0, 0.0, 0.0, 0.036011027338838264, 0.0, 0.059980504722689405, 0.19855450055125246, 0.0, 0.0, 0.0, 0.19384294672718924, 0.0, 0.0], [0.0, 0.0, 0.0, 0.1695561280997852, 0.0, 0.0, 0.0, 0.2749146266504508, 0.0, 0.11075994000160706, 0.0, 0.10814110691248088, 0.0, 0.0, 1.0, 0.0, 0.0, 0.0, 0.0, 0.10693139273681426, 0.1338883565541947, 0.13352746373561963, 0.0, 0.0, 0.0, 0.0, 0.0, 0.29622155321129406, 0.0, 0.0, 0.0, 0.0, 0.34378997723051696, 0.2159453583785696, 0.0, 0.0, 0.03968522934282522, 0.0, 0.09352314416895326, 0.30740875185133565, 0.0, 0.0, 0.0, 0.06777208236614955, 0.15731668239039528, 0.0, 0.0, 0.1182480284772599, 0.15731668239039528, 0.15731668239039528], [0.41001965964087045, 0.11630734928313753, 0.0, 0.11502359820904698, 0.0, 0.11915020732668816, 0.09449116237882532, 0.17288150012359238, 0.0, 0.1290121869854173, 0.3240065451430292, 0.0, 0.0, 0.0, 0.0, 0.9999999999999999, 0.0, 0.10638576757658236, 0.0, 0.0, 0.0, 0.26185742753898766, 0.0, 0.24966984043323498, 0.09689776409622133, 0.0, 0.0, 0.0, 0.0, 0.0, 0.41001965964087045, 0.0, 0.0, 0.0, 0.134255548238852, 0.31703975826126135, 0.2098398432986435, 0.19076906816737135, 0.0, 0.0, 0.06706296356669578, 0.0, 0.0, 0.07536091710934849, 0.0, 0.0, 0.0, 0.0, 0.0, 0.0], [0.0, 0.13152728765098745, 0.0, 0.0, 0.0, 0.0, 0.32954283751280106, 0.07557237992771496, 0.0, 0.0, 0.0, 0.0, 0.09996601564885006, 0.0, 0.0, 0.0, 0.9999999999999999, 0.0, 0.0, 0.392584036463782, 0.0, 0.0, 0.0, 0.0, 0.0, 0.0, 0.0, 0.0, 0.0, 0.0, 0.0, 0.0, 0.1258207947529096, 0.0, 0.16016673253432245, 0.0, 0.0, 0.0, 0.0, 0.0, 0.0, 0.0, 0.13325926681809108, 0.0, 0.0, 0.0, 0.285465687390443, 0.0, 0.0, 0.0], [0.0, 0.0, 0.0, 0.125280908194983, 0.0, 0.056994059080196786, 0.0, 0.10514882646107497, 0.20720338900661947, 0.0, 0.0, 0.0, 0.0, 0.0, 0.0, 0.10638576757658236, 0.0, 1.0, 0.24307778144199138, 0.0, 0.0, 0.0, 0.3958772898930631, 0.0, 0.10553869012144168, 0.0, 0.0, 0.0, 0.0, 0.0, 0.0, 0.0, 0.13277430526951872, 0.0, 0.1462278808476347, 0.0, 0.0, 0.10111251299693495, 0.0, 0.0, 0.07304335034462417, 0.0, 0.18541238921399705, 0.05351333689487693, 0.0, 0.3453984251709662, 0.0, 0.0, 0.0, 0.0], [0.0, 0.0, 0.24854375230021777, 0.0, 0.0, 0.1713141222799256, 0.0, 0.14473873021788344, 0.44374203047676963, 0.0, 0.0, 0.0, 0.21282444337353792, 0.07863513371231377, 0.0, 0.0, 0.0, 0.24307778144199138, 1.0, 0.0, 0.0, 0.0, 0.0, 0.0, 0.0, 0.0, 0.0, 0.0, 0.0, 0.0, 0.0, 0.0, 0.0, 0.0, 0.0, 0.0, 0.0, 0.0, 0.0, 0.0, 0.30472062571067904, 0.0, 0.39707492459372723, 0.0, 0.0, 0.0, 0.0, 0.0, 0.0, 0.0], [0.0, 0.0, 0.0, 0.0, 0.0, 0.0, 0.0, 0.0, 0.0, 0.11439497513383132, 0.0, 0.11169019445134, 0.0, 0.0, 0.10693139273681426, 0.0, 0.392584036463782, 0.0, 0.0, 1.0000000000000002, 0.0, 0.0, 0.0, 0.0, 0.0, 0.0, 0.0, 0.0, 0.3833205847248896, 0.0, 0.0, 0.0, 0.19882542641891676, 0.0, 0.0, 0.0, 0.04098766055477292, 0.0, 0.0965924841733383, 0.0, 0.0, 0.0, 0.0, 0.017819236703424036, 0.16247966521040905, 0.0, 0.0, 0.0, 0.16247966521040905, 0.16247966521040905], [0.0, 0.0, 0.0, 0.0, 0.0, 0.0, 0.0, 0.07419389845109134, 0.0, 0.0, 0.0, 0.0, 0.0, 0.0, 0.1338883565541947, 0.0, 0.0, 0.0, 0.0, 0.0, 1.0000000000000002, 0.11237884547278046, 0.0, 0.0, 0.0, 0.0, 0.0, 0.0, 0.266572607729002, 0.29336426178636366, 0.0, 0.0, 0.05535778302197465, 0.19489024381833567, 0.0, 0.0, 0.0, 0.0, 0.0, 0.0872612789565854, 0.0, 0.44387374775314575, 0.0, 0.02231139290539001, 0.0, 0.0, 0.0, 0.09951942879719423, 0.0, 0.0], [0.0, 0.0, 0.0, 0.0, 0.0, 0.0, 0.0, 0.24381918901968816, 0.0, 0.0, 0.0, 0.0, 0.0, 0.0, 0.13352746373561963, 0.26185742753898766, 0.0, 0.0, 0.0, 0.0, 0.11237884547278046, 0.9999999999999999, 0.0, 0.0, 0.0, 0.0, 0.0, 0.0, 0.0, 0.0, 0.0, 0.0, 0.05520856746015109, 0.0, 0.0, 0.0, 0.0, 0.0, 0.0, 0.08702606829506414, 0.0, 0.0, 0.0, 0.022251253086818835, 0.0, 0.0, 0.0, 0.0992511765900125, 0.0, 0.0], [0.0, 0.0, 0.0, 0.0, 0.0, 0.0, 0.0, 0.0, 0.0, 0.4550681360346796, 0.0, 0.2700191775124425, 0.0, 0.0, 0.0, 0.0, 0.0, 0.3958772898930631, 0.0, 0.0, 0.0, 0.0, 0.9999999999999999, 0.0, 0.0, 0.0, 0.0, 0.0, 0.0, 0.0, 0.0, 0.0, 0.0, 0.0, 0.0, 0.0, 0.0, 0.0, 0.0, 0.0, 0.0, 0.0, 0.0, 0.04307930219115453, 0.0, 0.0, 0.24250581376753638, 0.0, 0.0, 0.0], [0.6089216323234761, 0.0, 0.0, 0.0, 0.0, 0.4274866966601353, 0.0, 0.0, 0.0, 0.0, 0.7705703609259528, 0.0, 0.0, 0.0, 0.0, 0.24966984043323498, 0.0, 0.0, 0.0, 0.0, 0.0, 0.0, 0.0, 1.0000000000000002, 0.0, 0.0, 0.0, 0.0, 0.0, 0.0, 0.6089216323234761, 0.0, 0.0, 0.0, 0.0, 0.0, 0.0, 0.0, 0.0, 0.0, 0.0, 0.0, 0.0, 0.09942777763908914, 0.0, 0.0, 0.0, 0.0, 0.0, 0.0], [0.0, 0.2802006036623765, 0.0, 0.11410774358796805, 0.0, 0.05191104992181909, 0.0, 0.0, 0.0, 0.0, 0.0, 0.0, 0.0, 0.0, 0.0, 0.09689776409622133, 0.0, 0.10553869012144168, 0.0, 0.0, 0.0, 0.0, 0.0, 0.0, 1.0, 0.0, 0.0, 0.0, 0.0, 0.0, 0.0, 0.0, 0.0, 0.0, 0.13318656269002077, 0.0, 0.0, 0.3973058952468138, 0.0, 0.0, 0.06652898683459789, 0.0, 0.0, 0.06262891236494815, 0.0, 0.0, 0.3752021938649733, 0.21595138066531483, 0.0, 0.0], [0.0, 0.0, 0.0, 0.0, 0.0, 0.12134335103998548, 0.0, 0.0, 0.0, 0.0, 0.0, 0.0, 0.0, 0.0, 0.0, 0.0, 0.0, 0.0, 0.0, 0.0, 0.0, 0.0, 0.0, 0.0, 0.0, 1.0, 0.0, 0.0, 0.0, 0.0, 0.0, 0.0, 0.0, 0.0, 0.0, 0.0, 0.0, 0.0, 0.0, 0.0, 0.0, 0.0, 0.0, 0.0, 0.0, 0.0, 0.0, 0.0, 0.0, 0.0], [0.0, 0.0, 0.0, 0.0, 0.0, 0.0, 0.1792571163392125, 0.0, 0.0, 0.0, 0.0, 0.0, 0.0, 0.0, 0.0, 0.0, 0.0, 0.0, 0.0, 0.0, 0.0, 0.0, 0.0, 0.0, 0.0, 0.0, 0.9999999999999999, 0.0, 0.0, 0.0, 0.0, 0.0, 0.0, 0.0, 0.0, 0.0, 0.0, 0.0, 0.0, 0.0, 0.13421446449611188, 0.0, 0.0, 0.1294753109068474, 0.0, 0.0, 0.0, 0.21165223743197656, 0.0, 0.0], [0.0, 0.0, 0.05972646518004513, 0.0, 0.0, 0.08233549919889101, 0.1994624999281472, 0.0, 0.0, 0.0, 0.0, 0.0, 0.0, 0.0, 0.29622155321129406, 0.0, 0.0, 0.0, 0.0, 0.0, 0.0, 0.0, 0.0, 0.0, 0.0, 0.0, 0.0, 0.9999999999999999, 0.0, 0.0, 0.0, 0.08305350906282433, 0.2771616291982066, 0.0, 0.0, 0.0, 0.0, 0.0, 0.0, 0.1266043807366719, 0.0, 0.0, 0.0, 0.1471890077459924, 0.0, 0.20893546491066042, 0.0, 0.18921873853109009, 0.0, 0.0], [0.0, 0.0, 0.0, 0.0, 0.0, 0.13168241710925221, 0.0, 0.0, 0.31413157761429816, 0.0, 0.0, 0.0, 0.0, 0.0, 0.0, 0.0, 0.0, 0.0, 0.0, 0.3833205847248896, 0.266572607729002, 0.0, 0.0, 0.0, 0.0, 0.0, 0.0, 0.0, 1.0, 0.0, 0.0, 0.0, 0.15345243487382582, 0.2373707583617968, 0.0, 0.0, 0.11026601967938024, 0.0, 0.0, 0.0, 0.0, 0.0, 0.0, 0.0479377519579484, 0.0, 0.0, 0.0, 0.0, 0.0, 0.0], [0.0, 0.0, 0.0, 0.0, 0.0, 0.0, 0.0, 0.0, 0.0, 0.0, 0.0, 0.0, 0.0, 0.0, 0.0, 0.0, 0.0, 0.0, 0.0, 0.0, 0.29336426178636366, 0.0, 0.0, 0.0, 0.0, 0.0, 0.0, 0.0, 0.0, 1.0, 0.0, 0.0, 0.0, 0.0, 0.0, 0.0, 0.0, 0.0, 0.0, 0.0, 0.20168503739293478, 0.0, 0.0, 0.057289160375308054, 0.0, 0.0, 0.0, 0.0, 0.0, 0.0], [0.9999999999999997, 0.0, 0.0, 0.0, 0.0, 0.10108970203688734, 0.0, 0.0, 0.0, 0.0, 0.7902219747873093, 0.0, 0.0, 0.0, 0.0, 0.41001965964087045, 0.0, 0.0, 0.0, 0.0, 0.0, 0.0, 0.0, 0.6089216323234761, 0.0, 0.0, 0.0, 0.0, 0.0, 0.0, 0.9999999999999997, 0.0, 0.0, 0.0, 0.0, 0.0, 0.0, 0.0, 0.0, 0.0, 0.0, 0.0, 0.0, 0.08575310964299816, 0.0, 0.0, 0.0, 0.0, 0.0, 0.0], [0.0, 0.0, 0.07909823646368179, 0.0, 0.0, 0.10904031848121239, 0.0, 0.0, 0.0, 0.0, 0.0, 0.0, 0.0, 0.0, 0.0, 0.0, 0.0, 0.0, 0.0, 0.0, 0.0, 0.0, 0.0, 0.0, 0.0, 0.0, 0.0, 0.08305350906282433, 0.0, 0.0, 0.0, 1.0000000000000002, 0.15513137281655712, 0.0, 0.0, 0.0, 0.052511118876087025, 0.0, 0.12374893688271453, 0.0, 0.0, 0.0, 0.0, 0.0426765722893793, 0.20815994129279672, 0.0, 0.0, 0.0, 0.20815994129279672, 0.20815994129279672], [0.0, 0.0, 0.2770491512025536, 0.0, 0.0, 0.16324013352571876, 0.0, 0.1291077640602051, 0.0, 0.04579505555178016, 0.0, 0.19373000777321384, 0.0, 0.0, 0.34378997723051696, 0.0, 0.1258207947529096, 0.13277430526951872, 0.0, 0.19882542641891676, 0.05535778302197465, 0.05520856746015109, 0.0, 0.0, 0.0, 0.0, 0.0, 0.2771616291982066, 0.15345243487382582, 0.0, 0.0, 0.15513137281655712, 0.9999999999999996, 0.08928525677200783, 0.0, 0.1476927797284425, 0.09485128450155665, 0.0, 0.09407246647032451, 0.15676036148641564, 0.0, 0.0, 0.0, 0.17450263599495938, 0.15824070566594584, 0.27733463586398177, 0.14651877631714036, 0.04889109756583497, 0.15824070566594584, 0.15824070566594584], [0.0, 0.0, 0.0, 0.0, 0.0, 0.0, 0.0, 0.0, 0.0, 0.0, 0.0, 0.0, 0.0, 0.0, 0.2159453583785696, 0.0, 0.0, 0.0, 0.0, 0.0, 0.19489024381833567, 0.0, 0.0, 0.0, 0.0, 0.0, 0.0, 0.0, 0.2373707583617968, 0.0, 0.0, 0.0, 0.08928525677200783, 1.0, 0.0, 0.0, 0.0, 0.0, 0.0, 0.14074164954907575, 0.0, 0.0, 0.0, 0.03598551704478722, 0.0, 0.0, 0.0, 0.0, 0.0, 0.0], [0.0, 0.6696514916339593, 0.0, 0.15810063128482868, 0.0, 0.07192473976992433, 0.0, 0.11017959886927131, 0.0, 0.0, 0.0, 0.0, 0.14574392807643094, 0.0, 0.0, 0.134255548238852, 0.16016673253432245, 0.1462278808476347, 0.0, 0.0, 0.0, 0.0, 0.0, 0.0, 0.13318656269002077, 0.0, 0.0, 0.0, 0.0, 0.0, 0.0, 0.0, 0.0, 0.0, 1.0, 0.0, 0.0, 0.12760086405768117, 0.0, 0.0, 0.0921784489514616, 0.0, 0.19428331591084272, 0.08257273300879106, 0.0, 0.0, 0.0, 0.0, 0.0, 0.0], [0.0, 0.0, 0.0, 0.0, 0.0, 0.0, 0.1862694668132101, 0.0, 0.0, 0.0, 0.0, 0.3731068390640195, 0.0, 0.0, 0.0, 0.31703975826126135, 0.0, 0.0, 0.0, 0.0, 0.0, 0.0, 0.0, 0.0, 0.0, 0.0, 0.0, 0.0, 0.0, 0.0, 0.0, 0.0, 0.1476927797284425, 0.0, 0.0, 0.9999999999999999, 0.32447000770565604, 0.0, 0.0, 0.0, 0.0, 0.0, 0.0, 0.12135755917134333, 0.0, 0.0, 0.0, 0.0, 0.0, 0.0], [0.0, 0.10435112098324573, 0.08823497990982321, 0.0, 0.04353937932286093, 0.3219446723645444, 0.2227170477245248, 0.0, 0.11746498253710408, 0.15820509306546532, 0.0, 0.04145135370167279, 0.0, 0.0, 0.03968522934282522, 0.2098398432986435, 0.0, 0.0, 0.0, 0.04098766055477292, 0.0, 0.0, 0.0, 0.0, 0.0, 0.0, 0.0, 0.0, 0.11026601967938024, 0.0, 0.0, 0.052511118876087025, 0.09485128450155665, 0.0, 0.0, 0.32447000770565604, 1.0, 0.08786750373745948, 0.3615796373453134, 0.1834236080463522, 0.0, 0.0, 0.0, 0.07904873223366396, 0.14670004265602726, 0.0, 0.0, 0.0, 0.14670004265602726, 0.14670004265602726], [0.0, 0.11054230874975551, 0.0, 0.10932218974210377, 0.0, 0.04973395731806692, 0.08980749118764214, 0.0, 0.0, 0.12261740203110985, 0.0, 0.0, 0.0, 0.0, 0.0, 0.19076906816737135, 0.0, 0.10111251299693495, 0.0, 0.0, 0.0, 0.0, 0.0, 0.0, 0.3973058952468138, 0.0, 0.0, 0.0, 0.0, 0.0, 0.0, 0.0, 0.0, 0.0, 0.12760086405768117, 0.0, 0.08786750373745948, 1.0, 0.0, 0.0, 0.06373883395980794, 0.0, 0.0, 0.16799345681177635, 0.0, 0.0, 0.0, 0.0, 0.0, 0.0], [0.0, 0.0, 0.0, 0.0, 0.10260592459382721, 0.15277900272789782, 0.0, 0.0, 0.0, 0.10005085950743285, 0.0, 0.26869429470356, 0.0, 0.0, 0.09352314416895326, 0.0, 0.0, 0.0, 0.0, 0.0965924841733383, 0.0, 0.0, 0.0, 0.0, 0.0, 0.0, 0.0, 0.0, 0.0, 0.0, 0.0, 0.12374893688271453, 0.09407246647032451, 0.0, 0.0, 0.0, 0.3615796373453134, 0.0, 0.9999999999999997, 0.0, 0.0, 0.0, 0.0, 0.06519801915823971, 0.5944896799747359, 0.0, 0.0, 0.0, 0.5944896799747359, 0.5944896799747359], [0.0, 0.0, 0.0, 0.11050762720300447, 0.18903177276513955, 0.0, 0.0, 0.17917466867763218, 0.1713580430971838, 0.21926661432202096, 0.0, 0.0, 0.11502741312599932, 0.0, 0.30740875185133565, 0.0, 0.0, 0.0, 0.0, 0.0, 0.0872612789565854, 0.08702606829506414, 0.0, 0.0, 0.0, 0.0, 0.0, 0.1266043807366719, 0.0, 0.0, 0.0, 0.0, 0.15676036148641564, 0.14074164954907575, 0.0, 0.0, 0.1834236080463522, 0.0, 0.0, 1.0, 0.0, 0.22908908087048996, 0.0, 0.089330605453796, 0.0, 0.36406230165115705, 0.0, 0.07706774856739516, 0.0, 0.0], [0.0, 0.0, 0.11382082583753556, 0.0789739941090775, 0.0, 0.1143810990476355, 0.17048868208412865, 0.0, 0.0725961406105445, 0.0, 0.0, 0.0, 0.0974631374919042, 0.036011027338838264, 0.0, 0.06706296356669578, 0.0, 0.07304335034462417, 0.30472062571067904, 0.0, 0.0, 0.0, 0.0, 0.0, 0.06652898683459789, 0.0, 0.13421446449611188, 0.0, 0.0, 0.20168503739293478, 0.0, 0.0, 0.0, 0.0, 0.0921784489514616, 0.0, 0.0, 0.06373883395980794, 0.0, 0.0, 1.0, 0.0, 0.3864515988439653, 0.1402489784283699, 0.0, 0.0, 0.0, 0.0, 0.0, 0.0], [0.0, 0.0, 0.0, 0.3854205132954147, 0.16209128015816476, 0.0, 0.0, 0.0, 0.0, 0.18801710258285914, 0.0, 0.0, 0.0, 0.0, 0.0, 0.0, 0.0, 0.0, 0.0, 0.0, 0.44387374775314575, 0.0, 0.0, 0.0, 0.0, 0.0, 0.0, 0.0, 0.0, 0.0, 0.0, 0.0, 0.0, 0.0, 0.0, 0.0, 0.0, 0.0, 0.0, 0.22908908087048996, 0.0, 0.9999999999999998, 0.0, 0.03191533440305959, 0.0, 0.0, 0.0, 0.0, 0.0, 0.0], [0.0, 0.1595434780572623, 0.0, 0.0, 0.0, 0.0, 0.0, 0.20207213280316394, 0.3384730170618351, 0.0, 0.0, 0.0, 0.28359550117660176, 0.059980504722689405, 0.0, 0.0, 0.13325926681809108, 0.18541238921399705, 0.39707492459372723, 0.0, 0.0, 0.0, 0.0, 0.0, 0.0, 0.0, 0.0, 0.0, 0.0, 0.0, 0.0, 0.0, 0.0, 0.0, 0.19428331591084272, 0.0, 0.0, 0.0, 0.0, 0.0, 0.3864515988439653, 0.0, 0.9999999999999999, 0.0, 0.0, 0.0, 0.0, 0.0, 0.0, 0.0], [0.08575310964299816, 0.06780788641141891, 0.09738883196358619, 0.05746257651301165, 0.0, 0.10801209737976153, 0.0, 0.052035574653344845, 0.09488114204040503, 0.018457232601499556, 0.12903140670971583, 0.1595416391829037, 0.029410774628018495, 0.19855450055125246, 0.06777208236614955, 0.07536091710934849, 0.0, 0.05351333689487693, 0.0, 0.017819236703424036, 0.02231139290539001, 0.022251253086818835, 0.04307930219115453, 0.09942777763908914, 0.06262891236494815, 0.0, 0.1294753109068474, 0.1471890077459924, 0.0479377519579484, 0.057289160375308054, 0.08575310964299816, 0.0426765722893793, 0.17450263599495938, 0.03598551704478722, 0.08257273300879106, 0.12135755917134333, 0.07904873223366396, 0.16799345681177635, 0.06519801915823971, 0.089330605453796, 0.1402489784283699, 0.03191533440305959, 0.0, 1.0, 0.1096705651156307, 0.15493219712391204, 0.04482736548035681, 0.13651863923264101, 0.1096705651156307, 0.1096705651156307], [0.0, 0.0, 0.0, 0.0, 0.0, 0.0, 0.0, 0.0, 0.0, 0.1682970501888018, 0.0, 0.45197469990560435, 0.0, 0.0, 0.15731668239039528, 0.0, 0.0, 0.0, 0.0, 0.16247966521040905, 0.0, 0.0, 0.0, 0.0, 0.0, 0.0, 0.0, 0.0, 0.0, 0.0, 0.0, 0.20815994129279672, 0.15824070566594584, 0.0, 0.0, 0.0, 0.14670004265602726, 0.0, 0.5944896799747359, 0.0, 0.0, 0.0, 0.0, 0.1096705651156307, 1.0, 0.0, 0.0, 0.0, 1.0, 1.0], [0.0, 0.0, 0.0, 0.0, 0.0, 0.0, 0.0, 0.0, 0.28279252417938283, 0.0, 0.0, 0.0, 0.18982997191020454, 0.0, 0.0, 0.0, 0.0, 0.3453984251709662, 0.0, 0.0, 0.0, 0.0, 0.0, 0.0, 0.0, 0.0, 0.0, 0.20893546491066042, 0.0, 0.0, 0.0, 0.0, 0.27733463586398177, 0.0, 0.0, 0.0, 0.0, 0.0, 0.0, 0.36406230165115705, 0.0, 0.0, 0.0, 0.15493219712391204, 0.0, 1.0, 0.0, 0.0, 0.0, 0.0], [0.0, 0.0, 0.0, 0.0, 0.0, 0.0, 0.0, 0.0, 0.0, 0.0, 0.0, 0.28097596157304905, 0.0, 0.0, 0.0, 0.0, 0.285465687390443, 0.0, 0.0, 0.0, 0.0, 0.0, 0.24250581376753638, 0.0, 0.3752021938649733, 0.0, 0.0, 0.0, 0.0, 0.0, 0.0, 0.0, 0.14651877631714036, 0.0, 0.0, 0.0, 0.0, 0.0, 0.0, 0.0, 0.0, 0.0, 0.0, 0.04482736548035681, 0.0, 0.0, 1.0000000000000002, 0.0, 0.0, 0.0], [0.0, 0.24570727749030133, 0.0, 0.0, 0.0, 0.0, 0.2126138010897198, 0.06552684970281468, 0.0, 0.0, 0.0, 0.0, 0.0, 0.19384294672718924, 0.1182480284772599, 0.0, 0.0, 0.0, 0.0, 0.0, 0.09951942879719423, 0.0992511765900125, 0.0, 0.0, 0.21595138066531483, 0.0, 0.21165223743197656, 0.18921873853109009, 0.0, 0.0, 0.0, 0.0, 0.04889109756583497, 0.0, 0.0, 0.0, 0.0, 0.0, 0.0, 0.07706774856739516, 0.0, 0.0, 0.0, 0.13651863923264101, 0.0, 0.0, 0.0, 1.0, 0.0, 0.0], [0.0, 0.0, 0.0, 0.0, 0.0, 0.0, 0.0, 0.0, 0.0, 0.1682970501888018, 0.0, 0.45197469990560435, 0.0, 0.0, 0.15731668239039528, 0.0, 0.0, 0.0, 0.0, 0.16247966521040905, 0.0, 0.0, 0.0, 0.0, 0.0, 0.0, 0.0, 0.0, 0.0, 0.0, 0.0, 0.20815994129279672, 0.15824070566594584, 0.0, 0.0, 0.0, 0.14670004265602726, 0.0, 0.5944896799747359, 0.0, 0.0, 0.0, 0.0, 0.1096705651156307, 1.0, 0.0, 0.0, 0.0, 1.0, 1.0], [0.0, 0.0, 0.0, 0.0, 0.0, 0.0, 0.0, 0.0, 0.0, 0.1682970501888018, 0.0, 0.45197469990560435, 0.0, 0.0, 0.15731668239039528, 0.0, 0.0, 0.0, 0.0, 0.16247966521040905, 0.0, 0.0, 0.0, 0.0, 0.0, 0.0, 0.0, 0.0, 0.0, 0.0, 0.0, 0.20815994129279672, 0.15824070566594584, 0.0, 0.0, 0.0, 0.14670004265602726, 0.0, 0.5944896799747359, 0.0, 0.0, 0.0, 0.0, 0.1096705651156307, 1.0, 0.0, 0.0, 0.0, 1.0, 1.0]]}],                        {\"height\": 800, \"template\": {\"data\": {\"bar\": [{\"error_x\": {\"color\": \"#2a3f5f\"}, \"error_y\": {\"color\": \"#2a3f5f\"}, \"marker\": {\"line\": {\"color\": \"#E5ECF6\", \"width\": 0.5}}, \"type\": \"bar\"}], \"barpolar\": [{\"marker\": {\"line\": {\"color\": \"#E5ECF6\", \"width\": 0.5}}, \"type\": \"barpolar\"}], \"carpet\": [{\"aaxis\": {\"endlinecolor\": \"#2a3f5f\", \"gridcolor\": \"white\", \"linecolor\": \"white\", \"minorgridcolor\": \"white\", \"startlinecolor\": \"#2a3f5f\"}, \"baxis\": {\"endlinecolor\": \"#2a3f5f\", \"gridcolor\": \"white\", \"linecolor\": \"white\", \"minorgridcolor\": \"white\", \"startlinecolor\": \"#2a3f5f\"}, \"type\": \"carpet\"}], \"choropleth\": [{\"colorbar\": {\"outlinewidth\": 0, \"ticks\": \"\"}, \"type\": \"choropleth\"}], \"contour\": [{\"colorbar\": {\"outlinewidth\": 0, \"ticks\": \"\"}, \"colorscale\": [[0.0, \"#0d0887\"], [0.1111111111111111, \"#46039f\"], [0.2222222222222222, \"#7201a8\"], [0.3333333333333333, \"#9c179e\"], [0.4444444444444444, \"#bd3786\"], [0.5555555555555556, \"#d8576b\"], [0.6666666666666666, \"#ed7953\"], [0.7777777777777778, \"#fb9f3a\"], [0.8888888888888888, \"#fdca26\"], [1.0, \"#f0f921\"]], \"type\": \"contour\"}], \"contourcarpet\": [{\"colorbar\": {\"outlinewidth\": 0, \"ticks\": \"\"}, \"type\": \"contourcarpet\"}], \"heatmap\": [{\"colorbar\": {\"outlinewidth\": 0, \"ticks\": \"\"}, \"colorscale\": [[0.0, \"#0d0887\"], [0.1111111111111111, \"#46039f\"], [0.2222222222222222, \"#7201a8\"], [0.3333333333333333, \"#9c179e\"], [0.4444444444444444, \"#bd3786\"], [0.5555555555555556, \"#d8576b\"], [0.6666666666666666, \"#ed7953\"], [0.7777777777777778, \"#fb9f3a\"], [0.8888888888888888, \"#fdca26\"], [1.0, \"#f0f921\"]], \"type\": \"heatmap\"}], \"heatmapgl\": [{\"colorbar\": {\"outlinewidth\": 0, \"ticks\": \"\"}, \"colorscale\": [[0.0, \"#0d0887\"], [0.1111111111111111, \"#46039f\"], [0.2222222222222222, \"#7201a8\"], [0.3333333333333333, \"#9c179e\"], [0.4444444444444444, \"#bd3786\"], [0.5555555555555556, \"#d8576b\"], [0.6666666666666666, \"#ed7953\"], [0.7777777777777778, \"#fb9f3a\"], [0.8888888888888888, \"#fdca26\"], [1.0, \"#f0f921\"]], \"type\": \"heatmapgl\"}], \"histogram\": [{\"marker\": {\"colorbar\": {\"outlinewidth\": 0, \"ticks\": \"\"}}, \"type\": \"histogram\"}], \"histogram2d\": [{\"colorbar\": {\"outlinewidth\": 0, \"ticks\": \"\"}, \"colorscale\": [[0.0, \"#0d0887\"], [0.1111111111111111, \"#46039f\"], [0.2222222222222222, \"#7201a8\"], [0.3333333333333333, \"#9c179e\"], [0.4444444444444444, \"#bd3786\"], [0.5555555555555556, \"#d8576b\"], [0.6666666666666666, \"#ed7953\"], [0.7777777777777778, \"#fb9f3a\"], [0.8888888888888888, \"#fdca26\"], [1.0, \"#f0f921\"]], \"type\": \"histogram2d\"}], \"histogram2dcontour\": [{\"colorbar\": {\"outlinewidth\": 0, \"ticks\": \"\"}, \"colorscale\": [[0.0, \"#0d0887\"], [0.1111111111111111, \"#46039f\"], [0.2222222222222222, \"#7201a8\"], [0.3333333333333333, \"#9c179e\"], [0.4444444444444444, \"#bd3786\"], [0.5555555555555556, \"#d8576b\"], [0.6666666666666666, \"#ed7953\"], [0.7777777777777778, \"#fb9f3a\"], [0.8888888888888888, \"#fdca26\"], [1.0, \"#f0f921\"]], \"type\": \"histogram2dcontour\"}], \"mesh3d\": [{\"colorbar\": {\"outlinewidth\": 0, \"ticks\": \"\"}, \"type\": \"mesh3d\"}], \"parcoords\": [{\"line\": {\"colorbar\": {\"outlinewidth\": 0, \"ticks\": \"\"}}, \"type\": \"parcoords\"}], \"pie\": [{\"automargin\": true, \"type\": \"pie\"}], \"scatter\": [{\"marker\": {\"colorbar\": {\"outlinewidth\": 0, \"ticks\": \"\"}}, \"type\": \"scatter\"}], \"scatter3d\": [{\"line\": {\"colorbar\": {\"outlinewidth\": 0, \"ticks\": \"\"}}, \"marker\": {\"colorbar\": {\"outlinewidth\": 0, \"ticks\": \"\"}}, \"type\": \"scatter3d\"}], \"scattercarpet\": [{\"marker\": {\"colorbar\": {\"outlinewidth\": 0, \"ticks\": \"\"}}, \"type\": \"scattercarpet\"}], \"scattergeo\": [{\"marker\": {\"colorbar\": {\"outlinewidth\": 0, \"ticks\": \"\"}}, \"type\": \"scattergeo\"}], \"scattergl\": [{\"marker\": {\"colorbar\": {\"outlinewidth\": 0, \"ticks\": \"\"}}, \"type\": \"scattergl\"}], \"scattermapbox\": [{\"marker\": {\"colorbar\": {\"outlinewidth\": 0, \"ticks\": \"\"}}, \"type\": \"scattermapbox\"}], \"scatterpolar\": [{\"marker\": {\"colorbar\": {\"outlinewidth\": 0, \"ticks\": \"\"}}, \"type\": \"scatterpolar\"}], \"scatterpolargl\": [{\"marker\": {\"colorbar\": {\"outlinewidth\": 0, \"ticks\": \"\"}}, \"type\": \"scatterpolargl\"}], \"scatterternary\": [{\"marker\": {\"colorbar\": {\"outlinewidth\": 0, \"ticks\": \"\"}}, \"type\": \"scatterternary\"}], \"surface\": [{\"colorbar\": {\"outlinewidth\": 0, \"ticks\": \"\"}, \"colorscale\": [[0.0, \"#0d0887\"], [0.1111111111111111, \"#46039f\"], [0.2222222222222222, \"#7201a8\"], [0.3333333333333333, \"#9c179e\"], [0.4444444444444444, \"#bd3786\"], [0.5555555555555556, \"#d8576b\"], [0.6666666666666666, \"#ed7953\"], [0.7777777777777778, \"#fb9f3a\"], [0.8888888888888888, \"#fdca26\"], [1.0, \"#f0f921\"]], \"type\": \"surface\"}], \"table\": [{\"cells\": {\"fill\": {\"color\": \"#EBF0F8\"}, \"line\": {\"color\": \"white\"}}, \"header\": {\"fill\": {\"color\": \"#C8D4E3\"}, \"line\": {\"color\": \"white\"}}, \"type\": \"table\"}]}, \"layout\": {\"annotationdefaults\": {\"arrowcolor\": \"#2a3f5f\", \"arrowhead\": 0, \"arrowwidth\": 1}, \"coloraxis\": {\"colorbar\": {\"outlinewidth\": 0, \"ticks\": \"\"}}, \"colorscale\": {\"diverging\": [[0, \"#8e0152\"], [0.1, \"#c51b7d\"], [0.2, \"#de77ae\"], [0.3, \"#f1b6da\"], [0.4, \"#fde0ef\"], [0.5, \"#f7f7f7\"], [0.6, \"#e6f5d0\"], [0.7, \"#b8e186\"], [0.8, \"#7fbc41\"], [0.9, \"#4d9221\"], [1, \"#276419\"]], \"sequential\": [[0.0, \"#0d0887\"], [0.1111111111111111, \"#46039f\"], [0.2222222222222222, \"#7201a8\"], [0.3333333333333333, \"#9c179e\"], [0.4444444444444444, \"#bd3786\"], [0.5555555555555556, \"#d8576b\"], [0.6666666666666666, \"#ed7953\"], [0.7777777777777778, \"#fb9f3a\"], [0.8888888888888888, \"#fdca26\"], [1.0, \"#f0f921\"]], \"sequentialminus\": [[0.0, \"#0d0887\"], [0.1111111111111111, \"#46039f\"], [0.2222222222222222, \"#7201a8\"], [0.3333333333333333, \"#9c179e\"], [0.4444444444444444, \"#bd3786\"], [0.5555555555555556, \"#d8576b\"], [0.6666666666666666, \"#ed7953\"], [0.7777777777777778, \"#fb9f3a\"], [0.8888888888888888, \"#fdca26\"], [1.0, \"#f0f921\"]]}, \"colorway\": [\"#636efa\", \"#EF553B\", \"#00cc96\", \"#ab63fa\", \"#FFA15A\", \"#19d3f3\", \"#FF6692\", \"#B6E880\", \"#FF97FF\", \"#FECB52\"], \"font\": {\"color\": \"#2a3f5f\"}, \"geo\": {\"bgcolor\": \"white\", \"lakecolor\": \"white\", \"landcolor\": \"#E5ECF6\", \"showlakes\": true, \"showland\": true, \"subunitcolor\": \"white\"}, \"hoverlabel\": {\"align\": \"left\"}, \"hovermode\": \"closest\", \"mapbox\": {\"style\": \"light\"}, \"paper_bgcolor\": \"white\", \"plot_bgcolor\": \"#E5ECF6\", \"polar\": {\"angularaxis\": {\"gridcolor\": \"white\", \"linecolor\": \"white\", \"ticks\": \"\"}, \"bgcolor\": \"#E5ECF6\", \"radialaxis\": {\"gridcolor\": \"white\", \"linecolor\": \"white\", \"ticks\": \"\"}}, \"scene\": {\"xaxis\": {\"backgroundcolor\": \"#E5ECF6\", \"gridcolor\": \"white\", \"gridwidth\": 2, \"linecolor\": \"white\", \"showbackground\": true, \"ticks\": \"\", \"zerolinecolor\": \"white\"}, \"yaxis\": {\"backgroundcolor\": \"#E5ECF6\", \"gridcolor\": \"white\", \"gridwidth\": 2, \"linecolor\": \"white\", \"showbackground\": true, \"ticks\": \"\", \"zerolinecolor\": \"white\"}, \"zaxis\": {\"backgroundcolor\": \"#E5ECF6\", \"gridcolor\": \"white\", \"gridwidth\": 2, \"linecolor\": \"white\", \"showbackground\": true, \"ticks\": \"\", \"zerolinecolor\": \"white\"}}, \"shapedefaults\": {\"line\": {\"color\": \"#2a3f5f\"}}, \"ternary\": {\"aaxis\": {\"gridcolor\": \"white\", \"linecolor\": \"white\", \"ticks\": \"\"}, \"baxis\": {\"gridcolor\": \"white\", \"linecolor\": \"white\", \"ticks\": \"\"}, \"bgcolor\": \"#E5ECF6\", \"caxis\": {\"gridcolor\": \"white\", \"linecolor\": \"white\", \"ticks\": \"\"}}, \"title\": {\"x\": 0.05}, \"xaxis\": {\"automargin\": true, \"gridcolor\": \"white\", \"linecolor\": \"white\", \"ticks\": \"\", \"title\": {\"standoff\": 15}, \"zerolinecolor\": \"white\", \"zerolinewidth\": 2}, \"yaxis\": {\"automargin\": true, \"gridcolor\": \"white\", \"linecolor\": \"white\", \"ticks\": \"\", \"title\": {\"standoff\": 15}, \"zerolinecolor\": \"white\", \"zerolinewidth\": 2}}}, \"title\": {\"text\": \"Mapa de calor entre palabras sobre Transmilenio \"}, \"width\": 800},                        {\"responsive\": true}                    ).then(function(){\n",
       "                            \n",
       "var gd = document.getElementById('68588eb5-2d18-4175-92d5-c4be075fa1e7');\n",
       "var x = new MutationObserver(function (mutations, observer) {{\n",
       "        var display = window.getComputedStyle(gd).display;\n",
       "        if (!display || display === 'none') {{\n",
       "            console.log([gd, 'removed!']);\n",
       "            Plotly.purge(gd);\n",
       "            observer.disconnect();\n",
       "        }}\n",
       "}});\n",
       "\n",
       "// Listen for the removal of the full notebook cells\n",
       "var notebookContainer = gd.closest('#notebook-container');\n",
       "if (notebookContainer) {{\n",
       "    x.observe(notebookContainer, {childList: true});\n",
       "}}\n",
       "\n",
       "// Listen for the clearing of the current output cell\n",
       "var outputEl = gd.closest('.output');\n",
       "if (outputEl) {{\n",
       "    x.observe(outputEl, {childList: true});\n",
       "}}\n",
       "\n",
       "                        })                };                });            </script>        </div>"
      ]
     },
     "metadata": {},
     "output_type": "display_data"
    }
   ],
   "source": [
    "from sklearn.metrics.pairwise import cosine_similarity\n",
    "from sklearn.feature_extraction.text import TfidfVectorizer\n",
    "\n",
    "#Vectorización de palabras \n",
    "tfidf_vect = TfidfVectorizer(preprocessor=pre_procesado, ngram_range=(1,1), max_features=50)\n",
    "tfidf = tfidf_vect.fit_transform(data.palabras.values)\n",
    "\n",
    "#Cálculo de Distancias del Coseno\n",
    "voc = [k for k,v in sorted(tfidf_vect.vocabulary_.items(), key=lambda kv: kv[1])]\n",
    "cos = pd.DataFrame(tfidf.toarray())\n",
    "cos = cosine_similarity(cos.T.values)\n",
    "cos = pd.DataFrame(cos)\n",
    "cos.columns = voc\n",
    "cos.index = voc\n",
    "cos\n",
    "\n",
    "#Creación de la Gráfica#\n",
    "traza = go.Heatmap(z=cos.values.tolist(),\n",
    "                   x=cos.index.values,\n",
    "                   y=cos.columns.values,\n",
    "                   colorscale='Reds')\n",
    "\n",
    "layout = go.Layout(title='Mapa de calor entre palabras sobre Transmilenio ',\n",
    "                   width=800, height=800)\n",
    "fig = go.Figure(data=[traza],layout=layout)\n",
    "iplot(fig)\n"
   ]
  }
 ],
 "metadata": {
  "kernelspec": {
   "display_name": "Python 3",
   "language": "python",
   "name": "python3"
  },
  "language_info": {
   "codemirror_mode": {
    "name": "ipython",
    "version": 3
   },
   "file_extension": ".py",
   "mimetype": "text/x-python",
   "name": "python",
   "nbconvert_exporter": "python",
   "pygments_lexer": "ipython3",
   "version": "3.7.4"
  }
 },
 "nbformat": 4,
 "nbformat_minor": 2
}
