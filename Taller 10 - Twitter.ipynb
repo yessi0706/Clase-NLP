{
 "cells": [
  {
   "cell_type": "markdown",
   "metadata": {},
   "source": [
    "<img src='https://encrypted-tbn0.gstatic.com/images?q=tbn%3AANd9GcQ-VfNtOyJbsaxu43Kztf_cv1mgBG6ZIQZEVw&usqp=CAU'>\n",
    "\n",
    "# Procesamiento de Lenguage Natural\n",
    "\n",
    "## Taller #10: Twitter\n",
    "`Fecha de entrega: Noviembre 14, 2020 (Antes del inicio de la próxima clase).`\n",
    "\n",
    "`Modo de entrega: Subir link de GitHub al aula virtual.`"
   ]
  },
  {
   "cell_type": "markdown",
   "metadata": {},
   "source": [
    "###  `[25 pts]` Punto 1: Extraer Tuits\n",
    "Extraer mínimo 100 tuits de Twitter usando la API\n",
    "\n",
    "(Si exponen sus claves, les haré maldades 😈)\n",
    "\n",
    "❌🎃❌ ¡No Halloween!"
   ]
  },
  {
   "cell_type": "code",
   "execution_count": 1,
   "metadata": {},
   "outputs": [],
   "source": [
    "import pandas as pd\n",
    "import tweepy\n",
    "import re\n",
    "import regex\n",
    "import emoji\n",
    "from nltk.corpus import stopwords\n",
    "stopwords_sp = stopwords.words('spanish') "
   ]
  },
  {
   "cell_type": "markdown",
   "metadata": {},
   "source": [
    "### Recolección de 100 Tweets sobre Transmilenio en Bogotá"
   ]
  },
  {
   "cell_type": "code",
   "execution_count": 3,
   "metadata": {},
   "outputs": [],
   "source": [
    "tweets = tweepy.Cursor(api.search,\n",
    "                       q=['transmilenio -RT'], \n",
    "                       lang='es', \n",
    "                       geocode=f'4.649178,-74.062827,45mi', \n",
    "                       tweet_mode='extended', \n",
    "                       include_rts=False).items(100) "
   ]
  },
  {
   "cell_type": "code",
   "execution_count": 4,
   "metadata": {},
   "outputs": [],
   "source": [
    "t = []\n",
    "\n",
    "for tweet in tweets:\n",
    "        temp = []\n",
    "        temp.append(tweet.full_text)\n",
    "        temp.append(tweet.created_at)\n",
    "        temp.append(\"Bogotá\")\n",
    "        temp.append(tweet.user.location)\n",
    "        temp.append(tweet.id)\n",
    "        temp.append(f\"https://twitter.com/i/web/status/{tweet.id}\")\n",
    "\n",
    "        t.append(temp)"
   ]
  },
  {
   "cell_type": "markdown",
   "metadata": {},
   "source": [
    "### Limpieza de texto"
   ]
  },
  {
   "cell_type": "code",
   "execution_count": 5,
   "metadata": {},
   "outputs": [],
   "source": [
    "pattern1 = '?P<pic>pic.twitter.com/[^\\s]+'\n",
    "pattern2 = '?P<url>https?://[^\\s]+'\n",
    "\n",
    "def text_clean(row):\n",
    "    text = row['tweet']\n",
    "    text = text.lower()\n",
    "    text = \" \".join([palabra for palabra in text.split() if palabra not in stopwords_sp])\n",
    "    \n",
    "    links = [tuple(j for j in i if j)[-1] for i in re.findall(f\"({pattern1})|({pattern2})\",text)]\n",
    "    for link in links:\n",
    "        text = text.replace(link,\"\")\n",
    "             \n",
    "    hashtags = [interaction for interaction in text.split() if interaction.startswith(\"#\")]\n",
    "    for hashtag in hashtags:\n",
    "        text = text.replace(hashtag,\"\")\n",
    "        \n",
    "    mentions = [interaction for interaction in text.split() if interaction.startswith(\"@\")]\n",
    "    for mention in mentions:\n",
    "        text = text.replace(mention,\"\")\n",
    "        \n",
    "    return text, links, hashtags, mentions"
   ]
  },
  {
   "cell_type": "markdown",
   "metadata": {},
   "source": [
    "### Creación del Data Frame"
   ]
  },
  {
   "cell_type": "code",
   "execution_count": 6,
   "metadata": {},
   "outputs": [
    {
     "data": {
      "text/html": [
       "<div>\n",
       "<style scoped>\n",
       "    .dataframe tbody tr th:only-of-type {\n",
       "        vertical-align: middle;\n",
       "    }\n",
       "\n",
       "    .dataframe tbody tr th {\n",
       "        vertical-align: top;\n",
       "    }\n",
       "\n",
       "    .dataframe thead th {\n",
       "        text-align: right;\n",
       "    }\n",
       "</style>\n",
       "<table border=\"1\" class=\"dataframe\">\n",
       "  <thead>\n",
       "    <tr style=\"text-align: right;\">\n",
       "      <th></th>\n",
       "      <th>tweet</th>\n",
       "      <th>date</th>\n",
       "      <th>city</th>\n",
       "      <th>user_location</th>\n",
       "      <th>id</th>\n",
       "      <th>link</th>\n",
       "      <th>clean</th>\n",
       "      <th>links</th>\n",
       "      <th>hashtags</th>\n",
       "      <th>mentions</th>\n",
       "    </tr>\n",
       "  </thead>\n",
       "  <tbody>\n",
       "    <tr>\n",
       "      <th>0</th>\n",
       "      <td>@Penalosadas @ClaudiaLopez @TransMilenio Se hi...</td>\n",
       "      <td>2020-11-13 03:21:50</td>\n",
       "      <td>Bogotá</td>\n",
       "      <td>Bogotá</td>\n",
       "      <td>1327089260214820868</td>\n",
       "      <td>https://twitter.com/i/web/status/1327089260214...</td>\n",
       "      <td>hizo elegir diciendo transmilenio... peñalo...</td>\n",
       "      <td>[]</td>\n",
       "      <td>[]</td>\n",
       "      <td>[@penalosadas, @claudialopez, @transmilenio]</td>\n",
       "    </tr>\n",
       "    <tr>\n",
       "      <th>1</th>\n",
       "      <td>#NoticiasCapital | La Alcaldía y Policía de Bo...</td>\n",
       "      <td>2020-11-13 03:20:00</td>\n",
       "      <td>Bogotá</td>\n",
       "      <td>Bogotá, Colombia</td>\n",
       "      <td>1327088798354771970</td>\n",
       "      <td>https://twitter.com/i/web/status/1327088798354...</td>\n",
       "      <td>| alcaldía policía bogotá trabajan fortalecer...</td>\n",
       "      <td>[https://t.co/dz3sywfhsh]</td>\n",
       "      <td>[#noticiascapital]</td>\n",
       "      <td>[]</td>\n",
       "    </tr>\n",
       "    <tr>\n",
       "      <th>2</th>\n",
       "      <td>@ClaudiaLopez @TransMilenio Ojo le@roban el@celu</td>\n",
       "      <td>2020-11-13 03:16:43</td>\n",
       "      <td>Bogotá</td>\n",
       "      <td>Bogotá, Colombia</td>\n",
       "      <td>1327087971884011520</td>\n",
       "      <td>https://twitter.com/i/web/status/1327087971884...</td>\n",
       "      <td>ojo le@roban el@celu</td>\n",
       "      <td>[]</td>\n",
       "      <td>[]</td>\n",
       "      <td>[@claudialopez, @transmilenio]</td>\n",
       "    </tr>\n",
       "    <tr>\n",
       "      <th>3</th>\n",
       "      <td>No sé si me da más ansiedad que me echen o mon...</td>\n",
       "      <td>2020-11-13 03:06:42</td>\n",
       "      <td>Bogotá</td>\n",
       "      <td>Bogotá, Colombia</td>\n",
       "      <td>1327085452667580416</td>\n",
       "      <td>https://twitter.com/i/web/status/1327085452667...</td>\n",
       "      <td>sé si da ansiedad echen montar transmilenio ma...</td>\n",
       "      <td>[]</td>\n",
       "      <td>[]</td>\n",
       "      <td>[]</td>\n",
       "    </tr>\n",
       "    <tr>\n",
       "      <th>4</th>\n",
       "      <td>¿Cada cuánto monta en Transmilenio?\\n🤔🤔🤔 https...</td>\n",
       "      <td>2020-11-13 02:38:39</td>\n",
       "      <td>Bogotá</td>\n",
       "      <td>Bogotá</td>\n",
       "      <td>1327078392399794177</td>\n",
       "      <td>https://twitter.com/i/web/status/1327078392399...</td>\n",
       "      <td>¿cada cuánto monta transmilenio? 🤔🤔🤔</td>\n",
       "      <td>[https://t.co/gslafe6nks]</td>\n",
       "      <td>[]</td>\n",
       "      <td>[]</td>\n",
       "    </tr>\n",
       "  </tbody>\n",
       "</table>\n",
       "</div>"
      ],
      "text/plain": [
       "                                               tweet                date  \\\n",
       "0  @Penalosadas @ClaudiaLopez @TransMilenio Se hi... 2020-11-13 03:21:50   \n",
       "1  #NoticiasCapital | La Alcaldía y Policía de Bo... 2020-11-13 03:20:00   \n",
       "2   @ClaudiaLopez @TransMilenio Ojo le@roban el@celu 2020-11-13 03:16:43   \n",
       "3  No sé si me da más ansiedad que me echen o mon... 2020-11-13 03:06:42   \n",
       "4  ¿Cada cuánto monta en Transmilenio?\\n🤔🤔🤔 https... 2020-11-13 02:38:39   \n",
       "\n",
       "     city     user_location                   id  \\\n",
       "0  Bogotá            Bogotá  1327089260214820868   \n",
       "1  Bogotá  Bogotá, Colombia  1327088798354771970   \n",
       "2  Bogotá  Bogotá, Colombia  1327087971884011520   \n",
       "3  Bogotá  Bogotá, Colombia  1327085452667580416   \n",
       "4  Bogotá            Bogotá  1327078392399794177   \n",
       "\n",
       "                                                link  \\\n",
       "0  https://twitter.com/i/web/status/1327089260214...   \n",
       "1  https://twitter.com/i/web/status/1327088798354...   \n",
       "2  https://twitter.com/i/web/status/1327087971884...   \n",
       "3  https://twitter.com/i/web/status/1327085452667...   \n",
       "4  https://twitter.com/i/web/status/1327078392399...   \n",
       "\n",
       "                                               clean  \\\n",
       "0     hizo elegir diciendo transmilenio... peñalo...   \n",
       "1   | alcaldía policía bogotá trabajan fortalecer...   \n",
       "2                               ojo le@roban el@celu   \n",
       "3  sé si da ansiedad echen montar transmilenio ma...   \n",
       "4              ¿cada cuánto monta transmilenio? 🤔🤔🤔    \n",
       "\n",
       "                       links            hashtags  \\\n",
       "0                         []                  []   \n",
       "1  [https://t.co/dz3sywfhsh]  [#noticiascapital]   \n",
       "2                         []                  []   \n",
       "3                         []                  []   \n",
       "4  [https://t.co/gslafe6nks]                  []   \n",
       "\n",
       "                                       mentions  \n",
       "0  [@penalosadas, @claudialopez, @transmilenio]  \n",
       "1                                            []  \n",
       "2                [@claudialopez, @transmilenio]  \n",
       "3                                            []  \n",
       "4                                            []  "
      ]
     },
     "execution_count": 6,
     "metadata": {},
     "output_type": "execute_result"
    }
   ],
   "source": [
    "data = pd.DataFrame(t)\n",
    "data.columns = ['tweet', 'date', 'city', 'user_location', 'id', 'link']\n",
    "data[['clean', 'links', 'hashtags', 'mentions']] = data.apply(text_clean, axis=1, result_type='expand')\n",
    "data.head()"
   ]
  },
  {
   "cell_type": "markdown",
   "metadata": {},
   "source": [
    "###  `[25 pts]` Punto 2: Hacer una visualización sobre esos tuits\n",
    "\n",
    "❌🎃❌ ¡No Halloween!"
   ]
  },
  {
   "cell_type": "markdown",
   "metadata": {},
   "source": [
    "## Gráfico Emojis comunes en Tweets acerca de Transmilenio"
   ]
  },
  {
   "cell_type": "code",
   "execution_count": 7,
   "metadata": {},
   "outputs": [
    {
     "data": {
      "text/html": [
       "<div>\n",
       "<style scoped>\n",
       "    .dataframe tbody tr th:only-of-type {\n",
       "        vertical-align: middle;\n",
       "    }\n",
       "\n",
       "    .dataframe tbody tr th {\n",
       "        vertical-align: top;\n",
       "    }\n",
       "\n",
       "    .dataframe thead th {\n",
       "        text-align: right;\n",
       "    }\n",
       "</style>\n",
       "<table border=\"1\" class=\"dataframe\">\n",
       "  <thead>\n",
       "    <tr style=\"text-align: right;\">\n",
       "      <th></th>\n",
       "      <th>emoji</th>\n",
       "      <th>cnt</th>\n",
       "    </tr>\n",
       "  </thead>\n",
       "  <tbody>\n",
       "    <tr>\n",
       "      <th>0</th>\n",
       "      <td>🤔</td>\n",
       "      <td>3</td>\n",
       "    </tr>\n",
       "    <tr>\n",
       "      <th>5</th>\n",
       "      <td>🔴</td>\n",
       "      <td>3</td>\n",
       "    </tr>\n",
       "    <tr>\n",
       "      <th>2</th>\n",
       "      <td>👇</td>\n",
       "      <td>2</td>\n",
       "    </tr>\n",
       "    <tr>\n",
       "      <th>1</th>\n",
       "      <td>💩</td>\n",
       "      <td>1</td>\n",
       "    </tr>\n",
       "    <tr>\n",
       "      <th>3</th>\n",
       "      <td>🚨</td>\n",
       "      <td>1</td>\n",
       "    </tr>\n",
       "  </tbody>\n",
       "</table>\n",
       "</div>"
      ],
      "text/plain": [
       "  emoji  cnt\n",
       "0     🤔    3\n",
       "5     🔴    3\n",
       "2     👇    2\n",
       "1     💩    1\n",
       "3     🚨    1"
      ]
     },
     "execution_count": 7,
     "metadata": {},
     "output_type": "execute_result"
    }
   ],
   "source": [
    "import regex\n",
    "import emoji\n",
    "\n",
    "def get_emojis(text):\n",
    "    emoji_list = []\n",
    "    data = regex.findall(r'\\X', text)\n",
    "    for word in data:\n",
    "        if any(char in emoji.UNICODE_EMOJI for char in word):\n",
    "            emoji_list.append(word)\n",
    "    return emoji_list \n",
    "\n",
    "data['emojis'] = data['clean'].apply(lambda text: get_emojis(text))\n",
    "\n",
    "from collections import Counter\n",
    "\n",
    "temp_emojis = pd.DataFrame(list(zip(Counter(sum(data.emojis.values,[])).keys(),Counter(sum(data.emojis.values,[])).values())))\n",
    "temp_emojis.columns = ['emoji', 'cnt']\n",
    "temp_emojis.sort_values('cnt', ascending=False, inplace=True)\n",
    "temp_emojis.head()"
   ]
  },
  {
   "cell_type": "code",
   "execution_count": 8,
   "metadata": {},
   "outputs": [
    {
     "data": {
      "text/html": [
       "        <script type=\"text/javascript\">\n",
       "        window.PlotlyConfig = {MathJaxConfig: 'local'};\n",
       "        if (window.MathJax) {MathJax.Hub.Config({SVG: {font: \"STIX-Web\"}});}\n",
       "        if (typeof require !== 'undefined') {\n",
       "        require.undef(\"plotly\");\n",
       "        requirejs.config({\n",
       "            paths: {\n",
       "                'plotly': ['https://cdn.plot.ly/plotly-latest.min']\n",
       "            }\n",
       "        });\n",
       "        require(['plotly'], function(Plotly) {\n",
       "            window._Plotly = Plotly;\n",
       "        });\n",
       "        }\n",
       "        </script>\n",
       "        "
      ]
     },
     "metadata": {},
     "output_type": "display_data"
    },
    {
     "data": {
      "application/vnd.plotly.v1+json": {
       "config": {
        "linkText": "Export to plot.ly",
        "plotlyServerURL": "https://plot.ly",
        "showLink": false
       },
       "data": [
        {
         "type": "bar",
         "x": [
          "🤔",
          "🔴",
          "👇",
          "💩",
          "🚨",
          "👉",
          "🤷‍♂️",
          "😬"
         ],
         "y": [
          3,
          3,
          2,
          1,
          1,
          1,
          1,
          1
         ]
        }
       ],
       "layout": {
        "template": {
         "data": {
          "bar": [
           {
            "error_x": {
             "color": "#2a3f5f"
            },
            "error_y": {
             "color": "#2a3f5f"
            },
            "marker": {
             "line": {
              "color": "#E5ECF6",
              "width": 0.5
             }
            },
            "type": "bar"
           }
          ],
          "barpolar": [
           {
            "marker": {
             "line": {
              "color": "#E5ECF6",
              "width": 0.5
             }
            },
            "type": "barpolar"
           }
          ],
          "carpet": [
           {
            "aaxis": {
             "endlinecolor": "#2a3f5f",
             "gridcolor": "white",
             "linecolor": "white",
             "minorgridcolor": "white",
             "startlinecolor": "#2a3f5f"
            },
            "baxis": {
             "endlinecolor": "#2a3f5f",
             "gridcolor": "white",
             "linecolor": "white",
             "minorgridcolor": "white",
             "startlinecolor": "#2a3f5f"
            },
            "type": "carpet"
           }
          ],
          "choropleth": [
           {
            "colorbar": {
             "outlinewidth": 0,
             "ticks": ""
            },
            "type": "choropleth"
           }
          ],
          "contour": [
           {
            "colorbar": {
             "outlinewidth": 0,
             "ticks": ""
            },
            "colorscale": [
             [
              0,
              "#0d0887"
             ],
             [
              0.1111111111111111,
              "#46039f"
             ],
             [
              0.2222222222222222,
              "#7201a8"
             ],
             [
              0.3333333333333333,
              "#9c179e"
             ],
             [
              0.4444444444444444,
              "#bd3786"
             ],
             [
              0.5555555555555556,
              "#d8576b"
             ],
             [
              0.6666666666666666,
              "#ed7953"
             ],
             [
              0.7777777777777778,
              "#fb9f3a"
             ],
             [
              0.8888888888888888,
              "#fdca26"
             ],
             [
              1,
              "#f0f921"
             ]
            ],
            "type": "contour"
           }
          ],
          "contourcarpet": [
           {
            "colorbar": {
             "outlinewidth": 0,
             "ticks": ""
            },
            "type": "contourcarpet"
           }
          ],
          "heatmap": [
           {
            "colorbar": {
             "outlinewidth": 0,
             "ticks": ""
            },
            "colorscale": [
             [
              0,
              "#0d0887"
             ],
             [
              0.1111111111111111,
              "#46039f"
             ],
             [
              0.2222222222222222,
              "#7201a8"
             ],
             [
              0.3333333333333333,
              "#9c179e"
             ],
             [
              0.4444444444444444,
              "#bd3786"
             ],
             [
              0.5555555555555556,
              "#d8576b"
             ],
             [
              0.6666666666666666,
              "#ed7953"
             ],
             [
              0.7777777777777778,
              "#fb9f3a"
             ],
             [
              0.8888888888888888,
              "#fdca26"
             ],
             [
              1,
              "#f0f921"
             ]
            ],
            "type": "heatmap"
           }
          ],
          "heatmapgl": [
           {
            "colorbar": {
             "outlinewidth": 0,
             "ticks": ""
            },
            "colorscale": [
             [
              0,
              "#0d0887"
             ],
             [
              0.1111111111111111,
              "#46039f"
             ],
             [
              0.2222222222222222,
              "#7201a8"
             ],
             [
              0.3333333333333333,
              "#9c179e"
             ],
             [
              0.4444444444444444,
              "#bd3786"
             ],
             [
              0.5555555555555556,
              "#d8576b"
             ],
             [
              0.6666666666666666,
              "#ed7953"
             ],
             [
              0.7777777777777778,
              "#fb9f3a"
             ],
             [
              0.8888888888888888,
              "#fdca26"
             ],
             [
              1,
              "#f0f921"
             ]
            ],
            "type": "heatmapgl"
           }
          ],
          "histogram": [
           {
            "marker": {
             "colorbar": {
              "outlinewidth": 0,
              "ticks": ""
             }
            },
            "type": "histogram"
           }
          ],
          "histogram2d": [
           {
            "colorbar": {
             "outlinewidth": 0,
             "ticks": ""
            },
            "colorscale": [
             [
              0,
              "#0d0887"
             ],
             [
              0.1111111111111111,
              "#46039f"
             ],
             [
              0.2222222222222222,
              "#7201a8"
             ],
             [
              0.3333333333333333,
              "#9c179e"
             ],
             [
              0.4444444444444444,
              "#bd3786"
             ],
             [
              0.5555555555555556,
              "#d8576b"
             ],
             [
              0.6666666666666666,
              "#ed7953"
             ],
             [
              0.7777777777777778,
              "#fb9f3a"
             ],
             [
              0.8888888888888888,
              "#fdca26"
             ],
             [
              1,
              "#f0f921"
             ]
            ],
            "type": "histogram2d"
           }
          ],
          "histogram2dcontour": [
           {
            "colorbar": {
             "outlinewidth": 0,
             "ticks": ""
            },
            "colorscale": [
             [
              0,
              "#0d0887"
             ],
             [
              0.1111111111111111,
              "#46039f"
             ],
             [
              0.2222222222222222,
              "#7201a8"
             ],
             [
              0.3333333333333333,
              "#9c179e"
             ],
             [
              0.4444444444444444,
              "#bd3786"
             ],
             [
              0.5555555555555556,
              "#d8576b"
             ],
             [
              0.6666666666666666,
              "#ed7953"
             ],
             [
              0.7777777777777778,
              "#fb9f3a"
             ],
             [
              0.8888888888888888,
              "#fdca26"
             ],
             [
              1,
              "#f0f921"
             ]
            ],
            "type": "histogram2dcontour"
           }
          ],
          "mesh3d": [
           {
            "colorbar": {
             "outlinewidth": 0,
             "ticks": ""
            },
            "type": "mesh3d"
           }
          ],
          "parcoords": [
           {
            "line": {
             "colorbar": {
              "outlinewidth": 0,
              "ticks": ""
             }
            },
            "type": "parcoords"
           }
          ],
          "pie": [
           {
            "automargin": true,
            "type": "pie"
           }
          ],
          "scatter": [
           {
            "marker": {
             "colorbar": {
              "outlinewidth": 0,
              "ticks": ""
             }
            },
            "type": "scatter"
           }
          ],
          "scatter3d": [
           {
            "line": {
             "colorbar": {
              "outlinewidth": 0,
              "ticks": ""
             }
            },
            "marker": {
             "colorbar": {
              "outlinewidth": 0,
              "ticks": ""
             }
            },
            "type": "scatter3d"
           }
          ],
          "scattercarpet": [
           {
            "marker": {
             "colorbar": {
              "outlinewidth": 0,
              "ticks": ""
             }
            },
            "type": "scattercarpet"
           }
          ],
          "scattergeo": [
           {
            "marker": {
             "colorbar": {
              "outlinewidth": 0,
              "ticks": ""
             }
            },
            "type": "scattergeo"
           }
          ],
          "scattergl": [
           {
            "marker": {
             "colorbar": {
              "outlinewidth": 0,
              "ticks": ""
             }
            },
            "type": "scattergl"
           }
          ],
          "scattermapbox": [
           {
            "marker": {
             "colorbar": {
              "outlinewidth": 0,
              "ticks": ""
             }
            },
            "type": "scattermapbox"
           }
          ],
          "scatterpolar": [
           {
            "marker": {
             "colorbar": {
              "outlinewidth": 0,
              "ticks": ""
             }
            },
            "type": "scatterpolar"
           }
          ],
          "scatterpolargl": [
           {
            "marker": {
             "colorbar": {
              "outlinewidth": 0,
              "ticks": ""
             }
            },
            "type": "scatterpolargl"
           }
          ],
          "scatterternary": [
           {
            "marker": {
             "colorbar": {
              "outlinewidth": 0,
              "ticks": ""
             }
            },
            "type": "scatterternary"
           }
          ],
          "surface": [
           {
            "colorbar": {
             "outlinewidth": 0,
             "ticks": ""
            },
            "colorscale": [
             [
              0,
              "#0d0887"
             ],
             [
              0.1111111111111111,
              "#46039f"
             ],
             [
              0.2222222222222222,
              "#7201a8"
             ],
             [
              0.3333333333333333,
              "#9c179e"
             ],
             [
              0.4444444444444444,
              "#bd3786"
             ],
             [
              0.5555555555555556,
              "#d8576b"
             ],
             [
              0.6666666666666666,
              "#ed7953"
             ],
             [
              0.7777777777777778,
              "#fb9f3a"
             ],
             [
              0.8888888888888888,
              "#fdca26"
             ],
             [
              1,
              "#f0f921"
             ]
            ],
            "type": "surface"
           }
          ],
          "table": [
           {
            "cells": {
             "fill": {
              "color": "#EBF0F8"
             },
             "line": {
              "color": "white"
             }
            },
            "header": {
             "fill": {
              "color": "#C8D4E3"
             },
             "line": {
              "color": "white"
             }
            },
            "type": "table"
           }
          ]
         },
         "layout": {
          "annotationdefaults": {
           "arrowcolor": "#2a3f5f",
           "arrowhead": 0,
           "arrowwidth": 1
          },
          "coloraxis": {
           "colorbar": {
            "outlinewidth": 0,
            "ticks": ""
           }
          },
          "colorscale": {
           "diverging": [
            [
             0,
             "#8e0152"
            ],
            [
             0.1,
             "#c51b7d"
            ],
            [
             0.2,
             "#de77ae"
            ],
            [
             0.3,
             "#f1b6da"
            ],
            [
             0.4,
             "#fde0ef"
            ],
            [
             0.5,
             "#f7f7f7"
            ],
            [
             0.6,
             "#e6f5d0"
            ],
            [
             0.7,
             "#b8e186"
            ],
            [
             0.8,
             "#7fbc41"
            ],
            [
             0.9,
             "#4d9221"
            ],
            [
             1,
             "#276419"
            ]
           ],
           "sequential": [
            [
             0,
             "#0d0887"
            ],
            [
             0.1111111111111111,
             "#46039f"
            ],
            [
             0.2222222222222222,
             "#7201a8"
            ],
            [
             0.3333333333333333,
             "#9c179e"
            ],
            [
             0.4444444444444444,
             "#bd3786"
            ],
            [
             0.5555555555555556,
             "#d8576b"
            ],
            [
             0.6666666666666666,
             "#ed7953"
            ],
            [
             0.7777777777777778,
             "#fb9f3a"
            ],
            [
             0.8888888888888888,
             "#fdca26"
            ],
            [
             1,
             "#f0f921"
            ]
           ],
           "sequentialminus": [
            [
             0,
             "#0d0887"
            ],
            [
             0.1111111111111111,
             "#46039f"
            ],
            [
             0.2222222222222222,
             "#7201a8"
            ],
            [
             0.3333333333333333,
             "#9c179e"
            ],
            [
             0.4444444444444444,
             "#bd3786"
            ],
            [
             0.5555555555555556,
             "#d8576b"
            ],
            [
             0.6666666666666666,
             "#ed7953"
            ],
            [
             0.7777777777777778,
             "#fb9f3a"
            ],
            [
             0.8888888888888888,
             "#fdca26"
            ],
            [
             1,
             "#f0f921"
            ]
           ]
          },
          "colorway": [
           "#636efa",
           "#EF553B",
           "#00cc96",
           "#ab63fa",
           "#FFA15A",
           "#19d3f3",
           "#FF6692",
           "#B6E880",
           "#FF97FF",
           "#FECB52"
          ],
          "font": {
           "color": "#2a3f5f"
          },
          "geo": {
           "bgcolor": "white",
           "lakecolor": "white",
           "landcolor": "#E5ECF6",
           "showlakes": true,
           "showland": true,
           "subunitcolor": "white"
          },
          "hoverlabel": {
           "align": "left"
          },
          "hovermode": "closest",
          "mapbox": {
           "style": "light"
          },
          "paper_bgcolor": "white",
          "plot_bgcolor": "#E5ECF6",
          "polar": {
           "angularaxis": {
            "gridcolor": "white",
            "linecolor": "white",
            "ticks": ""
           },
           "bgcolor": "#E5ECF6",
           "radialaxis": {
            "gridcolor": "white",
            "linecolor": "white",
            "ticks": ""
           }
          },
          "scene": {
           "xaxis": {
            "backgroundcolor": "#E5ECF6",
            "gridcolor": "white",
            "gridwidth": 2,
            "linecolor": "white",
            "showbackground": true,
            "ticks": "",
            "zerolinecolor": "white"
           },
           "yaxis": {
            "backgroundcolor": "#E5ECF6",
            "gridcolor": "white",
            "gridwidth": 2,
            "linecolor": "white",
            "showbackground": true,
            "ticks": "",
            "zerolinecolor": "white"
           },
           "zaxis": {
            "backgroundcolor": "#E5ECF6",
            "gridcolor": "white",
            "gridwidth": 2,
            "linecolor": "white",
            "showbackground": true,
            "ticks": "",
            "zerolinecolor": "white"
           }
          },
          "shapedefaults": {
           "line": {
            "color": "#2a3f5f"
           }
          },
          "ternary": {
           "aaxis": {
            "gridcolor": "white",
            "linecolor": "white",
            "ticks": ""
           },
           "baxis": {
            "gridcolor": "white",
            "linecolor": "white",
            "ticks": ""
           },
           "bgcolor": "#E5ECF6",
           "caxis": {
            "gridcolor": "white",
            "linecolor": "white",
            "ticks": ""
           }
          },
          "title": {
           "x": 0.05
          },
          "xaxis": {
           "automargin": true,
           "gridcolor": "white",
           "linecolor": "white",
           "ticks": "",
           "title": {
            "standoff": 15
           },
           "zerolinecolor": "white",
           "zerolinewidth": 2
          },
          "yaxis": {
           "automargin": true,
           "gridcolor": "white",
           "linecolor": "white",
           "ticks": "",
           "title": {
            "standoff": 15
           },
           "zerolinecolor": "white",
           "zerolinewidth": 2
          }
         }
        },
        "title": {
         "text": "Emojis más usados"
        }
       }
      },
      "text/html": [
       "<div>                            <div id=\"6aa09f77-7eeb-42cc-b4f1-784320ea060b\" class=\"plotly-graph-div\" style=\"height:525px; width:100%;\"></div>            <script type=\"text/javascript\">                require([\"plotly\"], function(Plotly) {                    window.PLOTLYENV=window.PLOTLYENV || {};                                    if (document.getElementById(\"6aa09f77-7eeb-42cc-b4f1-784320ea060b\")) {                    Plotly.newPlot(                        \"6aa09f77-7eeb-42cc-b4f1-784320ea060b\",                        [{\"type\": \"bar\", \"x\": [\"\\ud83e\\udd14\", \"\\ud83d\\udd34\", \"\\ud83d\\udc47\", \"\\ud83d\\udca9\", \"\\ud83d\\udea8\", \"\\ud83d\\udc49\", \"\\ud83e\\udd37\\u200d\\u2642\\ufe0f\", \"\\ud83d\\ude2c\"], \"y\": [3, 3, 2, 1, 1, 1, 1, 1]}],                        {\"template\": {\"data\": {\"bar\": [{\"error_x\": {\"color\": \"#2a3f5f\"}, \"error_y\": {\"color\": \"#2a3f5f\"}, \"marker\": {\"line\": {\"color\": \"#E5ECF6\", \"width\": 0.5}}, \"type\": \"bar\"}], \"barpolar\": [{\"marker\": {\"line\": {\"color\": \"#E5ECF6\", \"width\": 0.5}}, \"type\": \"barpolar\"}], \"carpet\": [{\"aaxis\": {\"endlinecolor\": \"#2a3f5f\", \"gridcolor\": \"white\", \"linecolor\": \"white\", \"minorgridcolor\": \"white\", \"startlinecolor\": \"#2a3f5f\"}, \"baxis\": {\"endlinecolor\": \"#2a3f5f\", \"gridcolor\": \"white\", \"linecolor\": \"white\", \"minorgridcolor\": \"white\", \"startlinecolor\": \"#2a3f5f\"}, \"type\": \"carpet\"}], \"choropleth\": [{\"colorbar\": {\"outlinewidth\": 0, \"ticks\": \"\"}, \"type\": \"choropleth\"}], \"contour\": [{\"colorbar\": {\"outlinewidth\": 0, \"ticks\": \"\"}, \"colorscale\": [[0.0, \"#0d0887\"], [0.1111111111111111, \"#46039f\"], [0.2222222222222222, \"#7201a8\"], [0.3333333333333333, \"#9c179e\"], [0.4444444444444444, \"#bd3786\"], [0.5555555555555556, \"#d8576b\"], [0.6666666666666666, \"#ed7953\"], [0.7777777777777778, \"#fb9f3a\"], [0.8888888888888888, \"#fdca26\"], [1.0, \"#f0f921\"]], \"type\": \"contour\"}], \"contourcarpet\": [{\"colorbar\": {\"outlinewidth\": 0, \"ticks\": \"\"}, \"type\": \"contourcarpet\"}], \"heatmap\": [{\"colorbar\": {\"outlinewidth\": 0, \"ticks\": \"\"}, \"colorscale\": [[0.0, \"#0d0887\"], [0.1111111111111111, \"#46039f\"], [0.2222222222222222, \"#7201a8\"], [0.3333333333333333, \"#9c179e\"], [0.4444444444444444, \"#bd3786\"], [0.5555555555555556, \"#d8576b\"], [0.6666666666666666, \"#ed7953\"], [0.7777777777777778, \"#fb9f3a\"], [0.8888888888888888, \"#fdca26\"], [1.0, \"#f0f921\"]], \"type\": \"heatmap\"}], \"heatmapgl\": [{\"colorbar\": {\"outlinewidth\": 0, \"ticks\": \"\"}, \"colorscale\": [[0.0, \"#0d0887\"], [0.1111111111111111, \"#46039f\"], [0.2222222222222222, \"#7201a8\"], [0.3333333333333333, \"#9c179e\"], [0.4444444444444444, \"#bd3786\"], [0.5555555555555556, \"#d8576b\"], [0.6666666666666666, \"#ed7953\"], [0.7777777777777778, \"#fb9f3a\"], [0.8888888888888888, \"#fdca26\"], [1.0, \"#f0f921\"]], \"type\": \"heatmapgl\"}], \"histogram\": [{\"marker\": {\"colorbar\": {\"outlinewidth\": 0, \"ticks\": \"\"}}, \"type\": \"histogram\"}], \"histogram2d\": [{\"colorbar\": {\"outlinewidth\": 0, \"ticks\": \"\"}, \"colorscale\": [[0.0, \"#0d0887\"], [0.1111111111111111, \"#46039f\"], [0.2222222222222222, \"#7201a8\"], [0.3333333333333333, \"#9c179e\"], [0.4444444444444444, \"#bd3786\"], [0.5555555555555556, \"#d8576b\"], [0.6666666666666666, \"#ed7953\"], [0.7777777777777778, \"#fb9f3a\"], [0.8888888888888888, \"#fdca26\"], [1.0, \"#f0f921\"]], \"type\": \"histogram2d\"}], \"histogram2dcontour\": [{\"colorbar\": {\"outlinewidth\": 0, \"ticks\": \"\"}, \"colorscale\": [[0.0, \"#0d0887\"], [0.1111111111111111, \"#46039f\"], [0.2222222222222222, \"#7201a8\"], [0.3333333333333333, \"#9c179e\"], [0.4444444444444444, \"#bd3786\"], [0.5555555555555556, \"#d8576b\"], [0.6666666666666666, \"#ed7953\"], [0.7777777777777778, \"#fb9f3a\"], [0.8888888888888888, \"#fdca26\"], [1.0, \"#f0f921\"]], \"type\": \"histogram2dcontour\"}], \"mesh3d\": [{\"colorbar\": {\"outlinewidth\": 0, \"ticks\": \"\"}, \"type\": \"mesh3d\"}], \"parcoords\": [{\"line\": {\"colorbar\": {\"outlinewidth\": 0, \"ticks\": \"\"}}, \"type\": \"parcoords\"}], \"pie\": [{\"automargin\": true, \"type\": \"pie\"}], \"scatter\": [{\"marker\": {\"colorbar\": {\"outlinewidth\": 0, \"ticks\": \"\"}}, \"type\": \"scatter\"}], \"scatter3d\": [{\"line\": {\"colorbar\": {\"outlinewidth\": 0, \"ticks\": \"\"}}, \"marker\": {\"colorbar\": {\"outlinewidth\": 0, \"ticks\": \"\"}}, \"type\": \"scatter3d\"}], \"scattercarpet\": [{\"marker\": {\"colorbar\": {\"outlinewidth\": 0, \"ticks\": \"\"}}, \"type\": \"scattercarpet\"}], \"scattergeo\": [{\"marker\": {\"colorbar\": {\"outlinewidth\": 0, \"ticks\": \"\"}}, \"type\": \"scattergeo\"}], \"scattergl\": [{\"marker\": {\"colorbar\": {\"outlinewidth\": 0, \"ticks\": \"\"}}, \"type\": \"scattergl\"}], \"scattermapbox\": [{\"marker\": {\"colorbar\": {\"outlinewidth\": 0, \"ticks\": \"\"}}, \"type\": \"scattermapbox\"}], \"scatterpolar\": [{\"marker\": {\"colorbar\": {\"outlinewidth\": 0, \"ticks\": \"\"}}, \"type\": \"scatterpolar\"}], \"scatterpolargl\": [{\"marker\": {\"colorbar\": {\"outlinewidth\": 0, \"ticks\": \"\"}}, \"type\": \"scatterpolargl\"}], \"scatterternary\": [{\"marker\": {\"colorbar\": {\"outlinewidth\": 0, \"ticks\": \"\"}}, \"type\": \"scatterternary\"}], \"surface\": [{\"colorbar\": {\"outlinewidth\": 0, \"ticks\": \"\"}, \"colorscale\": [[0.0, \"#0d0887\"], [0.1111111111111111, \"#46039f\"], [0.2222222222222222, \"#7201a8\"], [0.3333333333333333, \"#9c179e\"], [0.4444444444444444, \"#bd3786\"], [0.5555555555555556, \"#d8576b\"], [0.6666666666666666, \"#ed7953\"], [0.7777777777777778, \"#fb9f3a\"], [0.8888888888888888, \"#fdca26\"], [1.0, \"#f0f921\"]], \"type\": \"surface\"}], \"table\": [{\"cells\": {\"fill\": {\"color\": \"#EBF0F8\"}, \"line\": {\"color\": \"white\"}}, \"header\": {\"fill\": {\"color\": \"#C8D4E3\"}, \"line\": {\"color\": \"white\"}}, \"type\": \"table\"}]}, \"layout\": {\"annotationdefaults\": {\"arrowcolor\": \"#2a3f5f\", \"arrowhead\": 0, \"arrowwidth\": 1}, \"coloraxis\": {\"colorbar\": {\"outlinewidth\": 0, \"ticks\": \"\"}}, \"colorscale\": {\"diverging\": [[0, \"#8e0152\"], [0.1, \"#c51b7d\"], [0.2, \"#de77ae\"], [0.3, \"#f1b6da\"], [0.4, \"#fde0ef\"], [0.5, \"#f7f7f7\"], [0.6, \"#e6f5d0\"], [0.7, \"#b8e186\"], [0.8, \"#7fbc41\"], [0.9, \"#4d9221\"], [1, \"#276419\"]], \"sequential\": [[0.0, \"#0d0887\"], [0.1111111111111111, \"#46039f\"], [0.2222222222222222, \"#7201a8\"], [0.3333333333333333, \"#9c179e\"], [0.4444444444444444, \"#bd3786\"], [0.5555555555555556, \"#d8576b\"], [0.6666666666666666, \"#ed7953\"], [0.7777777777777778, \"#fb9f3a\"], [0.8888888888888888, \"#fdca26\"], [1.0, \"#f0f921\"]], \"sequentialminus\": [[0.0, \"#0d0887\"], [0.1111111111111111, \"#46039f\"], [0.2222222222222222, \"#7201a8\"], [0.3333333333333333, \"#9c179e\"], [0.4444444444444444, \"#bd3786\"], [0.5555555555555556, \"#d8576b\"], [0.6666666666666666, \"#ed7953\"], [0.7777777777777778, \"#fb9f3a\"], [0.8888888888888888, \"#fdca26\"], [1.0, \"#f0f921\"]]}, \"colorway\": [\"#636efa\", \"#EF553B\", \"#00cc96\", \"#ab63fa\", \"#FFA15A\", \"#19d3f3\", \"#FF6692\", \"#B6E880\", \"#FF97FF\", \"#FECB52\"], \"font\": {\"color\": \"#2a3f5f\"}, \"geo\": {\"bgcolor\": \"white\", \"lakecolor\": \"white\", \"landcolor\": \"#E5ECF6\", \"showlakes\": true, \"showland\": true, \"subunitcolor\": \"white\"}, \"hoverlabel\": {\"align\": \"left\"}, \"hovermode\": \"closest\", \"mapbox\": {\"style\": \"light\"}, \"paper_bgcolor\": \"white\", \"plot_bgcolor\": \"#E5ECF6\", \"polar\": {\"angularaxis\": {\"gridcolor\": \"white\", \"linecolor\": \"white\", \"ticks\": \"\"}, \"bgcolor\": \"#E5ECF6\", \"radialaxis\": {\"gridcolor\": \"white\", \"linecolor\": \"white\", \"ticks\": \"\"}}, \"scene\": {\"xaxis\": {\"backgroundcolor\": \"#E5ECF6\", \"gridcolor\": \"white\", \"gridwidth\": 2, \"linecolor\": \"white\", \"showbackground\": true, \"ticks\": \"\", \"zerolinecolor\": \"white\"}, \"yaxis\": {\"backgroundcolor\": \"#E5ECF6\", \"gridcolor\": \"white\", \"gridwidth\": 2, \"linecolor\": \"white\", \"showbackground\": true, \"ticks\": \"\", \"zerolinecolor\": \"white\"}, \"zaxis\": {\"backgroundcolor\": \"#E5ECF6\", \"gridcolor\": \"white\", \"gridwidth\": 2, \"linecolor\": \"white\", \"showbackground\": true, \"ticks\": \"\", \"zerolinecolor\": \"white\"}}, \"shapedefaults\": {\"line\": {\"color\": \"#2a3f5f\"}}, \"ternary\": {\"aaxis\": {\"gridcolor\": \"white\", \"linecolor\": \"white\", \"ticks\": \"\"}, \"baxis\": {\"gridcolor\": \"white\", \"linecolor\": \"white\", \"ticks\": \"\"}, \"bgcolor\": \"#E5ECF6\", \"caxis\": {\"gridcolor\": \"white\", \"linecolor\": \"white\", \"ticks\": \"\"}}, \"title\": {\"x\": 0.05}, \"xaxis\": {\"automargin\": true, \"gridcolor\": \"white\", \"linecolor\": \"white\", \"ticks\": \"\", \"title\": {\"standoff\": 15}, \"zerolinecolor\": \"white\", \"zerolinewidth\": 2}, \"yaxis\": {\"automargin\": true, \"gridcolor\": \"white\", \"linecolor\": \"white\", \"ticks\": \"\", \"title\": {\"standoff\": 15}, \"zerolinecolor\": \"white\", \"zerolinewidth\": 2}}}, \"title\": {\"text\": \"Emojis m\\u00e1s usados\"}},                        {\"responsive\": true}                    ).then(function(){\n",
       "                            \n",
       "var gd = document.getElementById('6aa09f77-7eeb-42cc-b4f1-784320ea060b');\n",
       "var x = new MutationObserver(function (mutations, observer) {{\n",
       "        var display = window.getComputedStyle(gd).display;\n",
       "        if (!display || display === 'none') {{\n",
       "            console.log([gd, 'removed!']);\n",
       "            Plotly.purge(gd);\n",
       "            observer.disconnect();\n",
       "        }}\n",
       "}});\n",
       "\n",
       "// Listen for the removal of the full notebook cells\n",
       "var notebookContainer = gd.closest('#notebook-container');\n",
       "if (notebookContainer) {{\n",
       "    x.observe(notebookContainer, {childList: true});\n",
       "}}\n",
       "\n",
       "// Listen for the clearing of the current output cell\n",
       "var outputEl = gd.closest('.output');\n",
       "if (outputEl) {{\n",
       "    x.observe(outputEl, {childList: true});\n",
       "}}\n",
       "\n",
       "                        })                };                });            </script>        </div>"
      ]
     },
     "metadata": {},
     "output_type": "display_data"
    }
   ],
   "source": [
    "import plotly.io as pio\n",
    "import plotly.express as px\n",
    "import plotly.graph_objs as go\n",
    "from plotly.offline import download_plotlyjs, init_notebook_mode, plot, iplot\n",
    "\n",
    "import matplotlib.pyplot as plt\n",
    "%matplotlib inline\n",
    "init_notebook_mode(connected=True)\n",
    "\n",
    "\n",
    "trace = go.Bar(x=temp_emojis.emoji.values[:15],\n",
    "               y=temp_emojis.cnt.values[:15])\n",
    "\n",
    "layout = go.Layout(title='Emojis más usados')\n",
    "\n",
    "fig = go.Figure(data=[trace], layout=layout)\n",
    "iplot(fig)"
   ]
  },
  {
   "cell_type": "markdown",
   "metadata": {},
   "source": [
    "## Nube de palabras acerca de Transmilenio"
   ]
  },
  {
   "cell_type": "code",
   "execution_count": 9,
   "metadata": {
    "scrolled": true
   },
   "outputs": [
    {
     "data": {
      "image/png": "[encoded data removed]",
      "text/plain": [
       "<Figure size 720x576 with 1 Axes>"
      ]
     },
     "metadata": {
      "needs_background": "light"
     },
     "output_type": "display_data"
    }
   ],
   "source": [
    "#Nuevo Pre procesado para nube de palabras#\n",
    "\n",
    "def pre_procesado(texto):\n",
    "    texto = texto.lower()\n",
    "    texto = re.sub(r\"[\\W\\d_]+\", \" \", texto)\n",
    "    texto = \" \".join([palabra for palabra in texto.split() if palabra not in stopwords_sp])\n",
    "    return texto\n",
    "data['palabras'] = data['clean'].apply(lambda texto: pre_procesado(texto))\n",
    "\n",
    "\n",
    "#Cargue Librerías#\n",
    "\n",
    "import numpy as np\n",
    "from wordcloud import WordCloud\n",
    "from wordcloud import ImageColorGenerator\n",
    "import matplotlib.pyplot as plt\n",
    "import PIL.Image\n",
    "from IPython.display import display\n",
    "\n",
    "#Nube de palabras#\n",
    "\n",
    "palabras = data.palabras.str.cat(sep=' ')\n",
    "wordcloud = WordCloud(width=800, height=400,\n",
    "                     max_font_size=150, max_words=250,\n",
    "                     background_color='white', colormap='hot').generate(palabras) \n",
    "plt.figure(figsize=(10,8))\n",
    "plt.imshow(wordcloud, interpolation='bilinear')\n",
    "plt.axis(\"off\")\n",
    "plt.tight_layout(pad=0)\n",
    "plt.show()\n",
    "\n"
   ]
  },
  {
   "cell_type": "markdown",
   "metadata": {},
   "source": [
    "## Correlación entre palabras acerca de Transmilenio"
   ]
  },
  {
   "cell_type": "code",
   "execution_count": 11,
   "metadata": {},
   "outputs": [
    {
     "data": {
      "application/vnd.plotly.v1+json": {
       "config": {
        "linkText": "Export to plot.ly",
        "plotlyServerURL": "https://plot.ly",
        "showLink": false
       },
       "data": [
        {
         "colorscale": [
          [
           0,
           "rgb(255,245,240)"
          ],
          [
           0.125,
           "rgb(254,224,210)"
          ],
          [
           0.25,
           "rgb(252,187,161)"
          ],
          [
           0.375,
           "rgb(252,146,114)"
          ],
          [
           0.5,
           "rgb(251,106,74)"
          ],
          [
           0.625,
           "rgb(239,59,44)"
          ],
          [
           0.75,
           "rgb(203,24,29)"
          ],
          [
           0.875,
           "rgb(165,15,21)"
          ],
          [
           1,
           "rgb(103,0,13)"
          ]
         ],
         "type": "heatmap",
         "x": [
          "agredió",
          "alcaldesa",
          "alcaldía",
          "así",
          "atracan",
          "bogotá",
          "bus",
          "buses",
          "ciudad",
          "ciudadanos",
          "creo",
          "cárcel",
          "cómo",
          "día",
          "eléctricos",
          "escoltas",
          "estaciones",
          "estación",
          "gente",
          "gracias",
          "grande",
          "habla",
          "hace",
          "hacer",
          "haga",
          "hombre",
          "hora",
          "hueco",
          "inseguridad",
          "jajaja",
          "ladrones",
          "peñalosa",
          "policía",
          "policías",
          "secretario",
          "seguridad",
          "si",
          "sigue",
          "sistema",
          "soacha",
          "solo",
          "toda",
          "torniquete",
          "trabajo",
          "transmilenio",
          "transmisión",
          "transporte",
          "ud",
          "usted",
          "va"
         ],
         "y": [
          "agredió",
          "alcaldesa",
          "alcaldía",
          "así",
          "atracan",
          "bogotá",
          "bus",
          "buses",
          "ciudad",
          "ciudadanos",
          "creo",
          "cárcel",
          "cómo",
          "día",
          "eléctricos",
          "escoltas",
          "estaciones",
          "estación",
          "gente",
          "gracias",
          "grande",
          "habla",
          "hace",
          "hacer",
          "haga",
          "hombre",
          "hora",
          "hueco",
          "inseguridad",
          "jajaja",
          "ladrones",
          "peñalosa",
          "policía",
          "policías",
          "secretario",
          "seguridad",
          "si",
          "sigue",
          "sistema",
          "soacha",
          "solo",
          "toda",
          "torniquete",
          "trabajo",
          "transmilenio",
          "transmisión",
          "transporte",
          "ud",
          "usted",
          "va"
         ],
         "z": [
          [
           1,
           0,
           0,
           0,
           0,
           0.10906998243030204,
           0,
           0,
           0,
           0,
           0,
           0.8263291752603971,
           0,
           0,
           0,
           0,
           0,
           0.4350971757453567,
           0,
           0,
           0,
           0,
           0,
           0,
           0,
           0.6575512030573594,
           0,
           0,
           0,
           0,
           0,
           0,
           0,
           0,
           0,
           0,
           0,
           0,
           0,
           0,
           0,
           0,
           0,
           0,
           0.10773911360949916,
           0,
           0,
           0,
           0,
           0
          ],
          [
           0,
           0.9999999999999999,
           0,
           0,
           0,
           0,
           0.0905805600689624,
           0.082938427950574,
           0,
           0.13374146138006912,
           0,
           0,
           0,
           0.13221865817216438,
           0,
           0,
           0,
           0.09428734842664593,
           0.14632542775822582,
           0,
           0,
           0,
           0,
           0,
           0,
           0,
           0.23609871860663728,
           0,
           0,
           0,
           0,
           0,
           0,
           0,
           0,
           0.08663487294111041,
           0.09333637482605299,
           0,
           0,
           0,
           0,
           0,
           0,
           0.17295417162235013,
           0.11961275526091575,
           0,
           0,
           0,
           0,
           0.2182733003317142
          ],
          [
           0,
           0,
           1,
           0,
           0,
           0.26221366904523047,
           0,
           0.13369530491501744,
           0,
           0,
           0,
           0,
           0,
           0,
           0,
           0,
           0,
           0,
           0,
           0,
           0.21122739367131463,
           0,
           0,
           0,
           0,
           0,
           0,
           0,
           0,
           0,
           0.0700459412805079,
           0,
           0.2830910161639668,
           0,
           0,
           0.08688633530636702,
           0,
           0,
           0,
           0,
           0.07859668989433231,
           0,
           0,
           0,
           0.11299539631320876,
           0,
           0,
           0,
           0.20185101424514237,
           0
          ],
          [
           0,
           0,
           0,
           0.9999999999999999,
           0,
           0.07169706267705331,
           0,
           0.14649602444930124,
           0,
           0,
           0,
           0,
           0,
           0,
           0.13351520395571137,
           0,
           0.15251643067741028,
           0.12856888688508944,
           0,
           0.1590256924552599,
           0,
           0,
           0,
           0,
           0,
           0,
           0.13256911317926368,
           0,
           0,
           0,
           0,
           0,
           0,
           0,
           0,
           0,
           0.12727215281285642,
           0,
           0.09187196560853374,
           0,
           0.08678519902854974,
           0.3822278231691908,
           0,
           0,
           0.06312270332561418,
           0,
           0,
           0,
           0,
           0
          ],
          [
           0,
           0,
           0,
           0,
           1,
           0.13680917284256155,
           0,
           0,
           0,
           0.1740668117231096,
           0,
           0,
           0,
           0,
           0,
           0,
           0,
           0,
           0,
           0,
           0,
           0,
           0,
           0,
           0,
           0,
           0,
           0,
           0.11765313913759655,
           0,
           0,
           0,
           0,
           0,
           0,
           0.03756970692888878,
           0,
           0.08158370165397562,
           0.1794092968313824,
           0,
           0,
           0.1676476193256964,
           0,
           0,
           0,
           0,
           0,
           0,
           0,
           0
          ],
          [
           0.10906998243030204,
           0,
           0.26221366904523047,
           0.07169706267705331,
           0.13680917284256155,
           0.9999999999999999,
           0,
           0,
           0.19598463631027674,
           0,
           0,
           0.24361489128643163,
           0,
           0,
           0,
           0,
           0,
           0.1365582998693192,
           0,
           0.07217120676156757,
           0.1432667712240923,
           0,
           0,
           0,
           0,
           0.41690440291438996,
           0.06016432143598462,
           0.1205668917200052,
           0.1733460373834606,
           0,
           0.09501850749743497,
           0,
           0.17068947798146625,
           0,
           0,
           0.32659179723660164,
           0.05776038270187498,
           0.12020258448226949,
           0,
           0,
           0.0926949131446496,
           0,
           0,
           0,
           0.1359433745924421,
           0,
           0,
           0,
           0.13690716235513084,
           0
          ],
          [
           0,
           0.0905805600689624,
           0,
           0,
           0,
           0,
           1.0000000000000002,
           0,
           0,
           0.12793709665997324,
           0,
           0,
           0,
           0,
           0,
           0,
           0,
           0.09019528787106591,
           0.34307132595399664,
           0,
           0,
           0,
           0,
           0,
           0,
           0,
           0,
           0,
           0,
           0.1850533984050531,
           0.1985015526325104,
           0,
           0,
           0,
           0.18643993128199607,
           0.2177185724507045,
           0.08928558642018679,
           0,
           0,
           0,
           0.15999294671538603,
           0,
           0,
           0,
           0,
           0,
           0,
           0,
           0,
           0.2223926552232638
          ],
          [
           0,
           0.082938427950574,
           0.13369530491501744,
           0.14649602444930124,
           0,
           0,
           0,
           1,
           0.08646375127653161,
           0,
           0,
           0,
           0,
           0.07673014934780276,
           0.6119383973791083,
           0,
           0.22122360115527057,
           0.14666506723573383,
           0.08491669844849097,
           0.0825151239845685,
           0.12102021196874384,
           0,
           0.06500598309336059,
           0.21458184013075157,
           0,
           0,
           0,
           0,
           0,
           0,
           0,
           0,
           0.1095565814868187,
           0,
           0,
           0,
           0,
           0,
           0.2504945684584111,
           0,
           0,
           0,
           0,
           0.1814478740710176,
           0.05091715816276409,
           0,
           0,
           0,
           0,
           0.06012967763496381
          ],
          [
           0,
           0,
           0,
           0,
           0,
           0.19598463631027674,
           0,
           0.08646375127653161,
           1.0000000000000002,
           0,
           0,
           0,
           0,
           0.31002825996545236,
           0.15760462346822518,
           0.04145658303402229,
           0,
           0,
           0,
           0.18350209817418314,
           0.38148188725250715,
           0,
           0,
           0,
           0,
           0,
           0,
           0,
           0,
           0,
           0,
           0,
           0,
           0,
           0,
           0.16146034353738778,
           0,
           0,
           0.15337856915852693,
           0,
           0.04180483763165233,
           0,
           0,
           0.2555746951246692,
           0.12662723062925266,
           0,
           0.27586713098410987,
           0,
           0.21472529918619426,
           0
          ],
          [
           0,
           0.13374146138006912,
           0,
           0,
           0.1740668117231096,
           0,
           0.12793709665997324,
           0,
           0,
           1,
           0,
           0,
           0.15570414855383813,
           0,
           0,
           0,
           0.15407743464288734,
           0.1331726101084877,
           0,
           0,
           0,
           0.15181337720171492,
           0,
           0,
           0.39123553890246493,
           0,
           0,
           0,
           0.4194684951932712,
           0,
           0,
           0,
           0.06163472538282052,
           0,
           0,
           0.18069565679530628,
           0.13182944330351856,
           0.12666852762589004,
           0.22412032859990233,
           0,
           0,
           0.2094274945382545,
           0,
           0,
           0.02864515319888092,
           0.18184324824806294,
           0,
           0,
           0,
           0
          ],
          [
           0,
           0,
           0,
           0,
           0,
           0,
           0,
           0,
           0,
           0,
           1,
           0,
           0,
           0,
           0,
           0,
           0,
           0,
           0,
           0.3246497784901566,
           0,
           0,
           0.2704964730314773,
           0,
           0.3522067590788135,
           0,
           0,
           0,
           0,
           0.20156696958597242,
           0,
           0,
           0,
           0.24092300056722543,
           0,
           0,
           0,
           0,
           0,
           0,
           0,
           0,
           0,
           0,
           0.05824661741249778,
           0,
           0,
           0,
           0,
           0.24610861198442985
          ],
          [
           0.8263291752603971,
           0,
           0,
           0,
           0,
           0.24361489128643163,
           0,
           0,
           0,
           0,
           0,
           0.9999999999999999,
           0,
           0,
           0,
           0,
           0,
           0.3595334903917886,
           0,
           0,
           0,
           0,
           0,
           0,
           0,
           0.7957497117902782,
           0,
           0,
           0,
           0,
           0,
           0,
           0,
           0,
           0,
           0,
           0,
           0,
           0,
           0,
           0,
           0,
           0,
           0,
           0.15112402435758454,
           0,
           0,
           0,
           0,
           0
          ],
          [
           0,
           0,
           0,
           0,
           0,
           0,
           0,
           0,
           0,
           0.15570414855383813,
           0,
           0,
           0.9999999999999998,
           0,
           0,
           0,
           0.13320875902644788,
           0,
           0,
           0,
           0,
           0.13125135181232736,
           0,
           0,
           0.2373957656229782,
           0,
           0,
           0,
           0,
           0,
           0,
           0.15993127588808448,
           0.1896061570640956,
           0,
           0.3567580710445312,
           0.05043091718592439,
           0,
           0.3568682980340806,
           0,
           0,
           0,
           0,
           0,
           0,
           0.18397167618803828,
           0.5123142403844536,
           0,
           0.21003920761975703,
           0,
           0
          ],
          [
           0,
           0.13221865817216438,
           0,
           0,
           0,
           0,
           0,
           0.07673014934780276,
           0.31002825996545236,
           0,
           0,
           0,
           0,
           1,
           0,
           0.05943646440958809,
           0,
           0,
           0.13537237445542982,
           0,
           0.16107642761572483,
           0,
           0,
           0,
           0,
           0,
           0,
           0,
           0,
           0,
           0,
           0,
           0,
           0,
           0,
           0,
           0,
           0,
           0.10994972571066514,
           0,
           0.05993575838132054,
           0,
           0,
           0.26792138326084447,
           0.03393437738669291,
           0,
           0.19775588956591048,
           0,
           0.30785249697121786,
           0
          ],
          [
           0,
           0,
           0,
           0.13351520395571137,
           0,
           0,
           0,
           0.6119383973791083,
           0.15760462346822518,
           0,
           0,
           0,
           0,
           0,
           1,
           0,
           0.13185820393760708,
           0,
           0,
           0.1504071342501612,
           0.22059353957911895,
           0,
           0,
           0,
           0,
           0,
           0,
           0,
           0,
           0,
           0,
           0,
           0,
           0,
           0,
           0,
           0,
           0,
           0.29312222200793897,
           0,
           0,
           0,
           0,
           0.14778716502230066,
           0,
           0,
           0,
           0,
           0,
           0
          ],
          [
           0,
           0,
           0,
           0,
           0,
           0,
           0,
           0,
           0.04145658303402229,
           0,
           0,
           0,
           0,
           0.05943646440958809,
           0,
           1,
           0,
           0,
           0,
           0,
           0.058025292590317766,
           0,
           0,
           0,
           0,
           0,
           0,
           0,
           0,
           0,
           0,
           0,
           0,
           0,
           0,
           0,
           0,
           0,
           0,
           0,
           0.021590930269422,
           0,
           0,
           0.03887418238935726,
           0.21980066819992325,
           0,
           0,
           0,
           0.11089910222016222,
           0.20368299777302637
          ],
          [
           0,
           0,
           0,
           0.15251643067741028,
           0,
           0,
           0,
           0.22122360115527057,
           0,
           0.15407743464288734,
           0,
           0,
           0.13320875902644788,
           0,
           0.13185820393760708,
           0,
           1,
           0,
           0,
           0,
           0,
           0.12988010768166514,
           0.1353549429255208,
           0.13436999857735274,
           0,
           0,
           0,
           0,
           0,
           0,
           0.2917730297823504,
           0,
           0.3397712350537091,
           0.21488045487566368,
           0,
           0.04990404185671642,
           0,
           0.10836806552342956,
           0.2723024711531347,
           0,
           0,
           0,
           0,
           0,
           0.08054578064954833,
           0.15557140680864442,
           0,
           0,
           0,
           0.12520153833719586
          ],
          [
           0.4350971757453567,
           0.09428734842664593,
           0,
           0.12856888688508944,
           0,
           0.1365582998693192,
           0.09019528787106591,
           0.14666506723573383,
           0,
           0.1331726101084877,
           0,
           0.3595334903917886,
           0,
           0,
           0,
           0,
           0,
           1.0000000000000002,
           0,
           0.1294191333930075,
           0,
           0,
           0,
           0.25745915213837256,
           0,
           0.2860986713582186,
           0.10788809957338662,
           0,
           0,
           0,
           0,
           0,
           0,
           0,
           0.3021550321736318,
           0.1955339771854536,
           0.19651668030507688,
           0,
           0,
           0,
           0.0706279914660613,
           0,
           0,
           0,
           0.08529966033003555,
           0,
           0,
           0,
           0,
           0
          ],
          [
           0,
           0.14632542775822582,
           0,
           0,
           0,
           0,
           0.34307132595399664,
           0.08491669844849097,
           0,
           0,
           0,
           0,
           0,
           0.13537237445542982,
           0,
           0,
           0,
           0,
           1.0000000000000002,
           0,
           0,
           0.2527064730465529,
           0,
           0,
           0,
           0,
           0,
           0,
           0.3040711103955541,
           0,
           0,
           0,
           0.1254299810005308,
           0,
           0,
           0,
           0,
           0,
           0,
           0,
           0,
           0,
           0,
           0.1770795227251714,
           0,
           0,
           0,
           0.3067687236806775,
           0,
           0
          ],
          [
           0,
           0,
           0,
           0.1590256924552599,
           0,
           0.07217120676156757,
           0,
           0.0825151239845685,
           0.18350209817418314,
           0,
           0.3246497784901566,
           0,
           0,
           0,
           0.1504071342501612,
           0,
           0,
           0.1294191333930075,
           0,
           0.9999999999999999,
           0.25684130621078594,
           0,
           0,
           0,
           0.34115918463041783,
           0,
           0.1334458138202143,
           0,
           0,
           0,
           0,
           0,
           0.137493676217318,
           0,
           0,
           0,
           0.12811382381200775,
           0,
           0,
           0,
           0.08735912335970576,
           0,
           0,
           0.17207144224594376,
           0.06390111085365835,
           0,
           0.37238994772511996,
           0,
           0,
           0
          ],
          [
           0,
           0,
           0.21122739367131463,
           0,
           0,
           0.1432667712240923,
           0,
           0.12102021196874384,
           0.38148188725250715,
           0,
           0,
           0,
           0,
           0.16107642761572483,
           0.22059353957911895,
           0.058025292590317766,
           0,
           0,
           0,
           0.25684130621078594,
           1,
           0,
           0,
           0,
           0,
           0,
           0,
           0,
           0,
           0,
           0,
           0,
           0,
           0,
           0,
           0,
           0,
           0,
           0,
           0,
           0.23192897521899156,
           0,
           0,
           0.3577187355532842,
           0,
           0,
           0,
           0,
           0.74590867977438,
           0
          ],
          [
           0,
           0,
           0,
           0,
           0,
           0,
           0,
           0,
           0,
           0.15181337720171492,
           0,
           0,
           0.13125135181232736,
           0,
           0,
           0,
           0.12988010768166514,
           0,
           0.2527064730465529,
           0,
           0,
           1.0000000000000002,
           0,
           0,
           0,
           0,
           0,
           0,
           0.3535924222196483,
           0,
           0,
           0,
           0.28668482486454117,
           0,
           0,
           0.04917073773874386,
           0,
           0.1067756744915926,
           0,
           0,
           0,
           0,
           0,
           0,
           0.024146531194859783,
           0.15328539651755194,
           0,
           0,
           0,
           0
          ],
          [
           0,
           0,
           0,
           0,
           0,
           0,
           0,
           0.06500598309336059,
           0,
           0,
           0.2704964730314773,
           0,
           0,
           0,
           0,
           0,
           0.1353549429255208,
           0,
           0,
           0,
           0,
           0,
           1,
           0.11411296232004386,
           0,
           0,
           0,
           0,
           0,
           0,
           0,
           0,
           0.05414527283477807,
           0.1944393412277984,
           0,
           0,
           0,
           0,
           0.08153432785022768,
           0,
           0,
           0.4419214226085562,
           0.3392122097813838,
           0,
           0.025164379750440717,
           0,
           0,
           0,
           0,
           0.10632669924796717
          ],
          [
           0,
           0,
           0,
           0,
           0,
           0,
           0,
           0.21458184013075157,
           0,
           0,
           0,
           0,
           0,
           0,
           0,
           0,
           0.13436999857735274,
           0.25745915213837256,
           0,
           0,
           0,
           0,
           0.11411296232004386,
           0.9999999999999998,
           0,
           0,
           0,
           0,
           0,
           0,
           0,
           0,
           0.05375127111377718,
           0,
           0,
           0,
           0,
           0,
           0.08094102276906819,
           0,
           0,
           0,
           0,
           0,
           0.024981264800409006,
           0,
           0,
           0,
           0,
           0.10555298622929095
          ],
          [
           0,
           0,
           0,
           0,
           0,
           0,
           0,
           0,
           0,
           0.39123553890246493,
           0.3522067590788135,
           0,
           0.2373957656229782,
           0,
           0,
           0,
           0,
           0,
           0,
           0.34115918463041783,
           0,
           0,
           0,
           0,
           1,
           0,
           0,
           0,
           0.3968265240437673,
           0,
           0,
           0.17500119055403313,
           0,
           0,
           0,
           0,
           0,
           0,
           0,
           0,
           0,
           0,
           0,
           0,
           0.043674096921601985,
           0,
           0,
           0.22983066440490882,
           0,
           0
          ],
          [
           0.6575512030573594,
           0,
           0,
           0,
           0,
           0.41690440291438996,
           0,
           0,
           0,
           0,
           0,
           0.7957497117902782,
           0,
           0,
           0,
           0,
           0,
           0.2860986713582186,
           0,
           0,
           0,
           0,
           0,
           0,
           0,
           1.0000000000000002,
           0,
           0,
           0,
           0,
           0,
           0,
           0,
           0,
           0,
           0,
           0,
           0,
           0,
           0,
           0,
           0,
           0,
           0,
           0.1202568988271349,
           0,
           0,
           0,
           0,
           0
          ],
          [
           0,
           0.23609871860663728,
           0,
           0.13256911317926368,
           0,
           0.06016432143598462,
           0,
           0,
           0,
           0,
           0,
           0,
           0,
           0,
           0,
           0,
           0,
           0.10788809957338662,
           0,
           0.1334458138202143,
           0,
           0,
           0,
           0,
           0,
           0,
           1,
           0,
           0,
           0,
           0,
           0,
           0,
           0,
           0,
           0,
           0.4069318129150148,
           0,
           0,
           0,
           0.07282547450734925,
           0,
           0,
           0,
           0.06840249579758077,
           0,
           0,
           0.3842562557903868,
           0,
           0.2241072619725752
          ],
          [
           0,
           0,
           0,
           0,
           0,
           0.1205668917200052,
           0,
           0,
           0,
           0,
           0,
           0,
           0,
           0,
           0,
           0,
           0,
           0,
           0,
           0,
           0,
           0,
           0,
           0,
           0,
           0,
           0,
           1,
           0,
           0,
           0,
           0,
           0,
           0,
           0,
           0,
           0,
           0,
           0,
           0,
           0,
           0,
           0,
           0,
           0,
           0,
           0,
           0,
           0,
           0
          ],
          [
           0,
           0,
           0,
           0,
           0.11765313913759655,
           0.1733460373834606,
           0,
           0,
           0,
           0.4194684951932712,
           0,
           0,
           0,
           0,
           0,
           0,
           0,
           0,
           0.3040711103955541,
           0,
           0,
           0.3535924222196483,
           0,
           0,
           0.3968265240437673,
           0,
           0,
           0,
           1.0000000000000002,
           0,
           0,
           0,
           0,
           0,
           0,
           0.04760323950847502,
           0,
           0.1033718068967923,
           0,
           0,
           0,
           0,
           0,
           0,
           0,
           0,
           0,
           0,
           0,
           0
          ],
          [
           0,
           0,
           0,
           0,
           0,
           0,
           0.1850533984050531,
           0,
           0,
           0,
           0.20156696958597242,
           0,
           0,
           0,
           0,
           0,
           0,
           0,
           0,
           0,
           0,
           0,
           0,
           0,
           0,
           0,
           0,
           0,
           0,
           1,
           0,
           0,
           0,
           0,
           0,
           0,
           0,
           0,
           0,
           0,
           0.1300245220004125,
           0,
           0,
           0,
           0.12860184779851,
           0,
           0,
           0,
           0,
           0.15047376551676733
          ],
          [
           0,
           0,
           0.0700459412805079,
           0,
           0,
           0.09501850749743497,
           0.1985015526325104,
           0,
           0,
           0,
           0,
           0,
           0,
           0,
           0,
           0,
           0.2917730297823504,
           0,
           0,
           0,
           0,
           0,
           0,
           0,
           0,
           0,
           0,
           0,
           0,
           0,
           1,
           0,
           0.2769240863690604,
           0,
           0,
           0,
           0,
           0,
           0.11669484836879673,
           0,
           0,
           0,
           0,
           0,
           0.16429417731297927,
           0,
           0.2098876863745733,
           0,
           0,
           0.19696804812432567
          ],
          [
           0,
           0,
           0,
           0,
           0,
           0,
           0,
           0,
           0,
           0,
           0,
           0,
           0.15993127588808448,
           0,
           0,
           0,
           0,
           0,
           0,
           0,
           0,
           0,
           0,
           0,
           0.17500119055403313,
           0,
           0,
           0,
           0,
           0,
           0,
           0.9999999999999999,
           0,
           0,
           0,
           0,
           0,
           0,
           0,
           0,
           0,
           0,
           0,
           0,
           0.12810565648993955,
           0,
           0,
           0.15483473894331923,
           0,
           0
          ],
          [
           0,
           0,
           0.2830910161639668,
           0,
           0,
           0.17068947798146625,
           0,
           0.1095565814868187,
           0,
           0.06163472538282052,
           0,
           0,
           0.1896061570640956,
           0,
           0,
           0,
           0.3397712350537091,
           0,
           0.1254299810005308,
           0.137493676217318,
           0,
           0.28668482486454117,
           0.05414527283477807,
           0.05375127111377718,
           0,
           0,
           0,
           0,
           0,
           0,
           0.2769240863690604,
           0,
           1,
           0.085957413926923,
           0.1412209368932221,
           0.11493546055209766,
           0,
           0.13818738241788064,
           0.13921003520099445,
           0,
           0,
           0,
           0,
           0,
           0.20205373351315375,
           0.19837952612807214,
           0.2658959835938714,
           0.14482858656146633,
           0,
           0.05008366378117116
          ],
          [
           0,
           0,
           0,
           0,
           0,
           0,
           0,
           0,
           0,
           0,
           0.24092300056722543,
           0,
           0,
           0,
           0,
           0,
           0.21488045487566368,
           0,
           0,
           0,
           0,
           0,
           0.1944393412277984,
           0,
           0,
           0,
           0,
           0,
           0,
           0,
           0,
           0,
           0.085957413926923,
           1,
           0,
           0,
           0,
           0,
           0.12943844589464967,
           0,
           0,
           0,
           0,
           0,
           0.03994928630285805,
           0,
           0,
           0,
           0,
           0
          ],
          [
           0,
           0,
           0,
           0,
           0,
           0,
           0.18643993128199607,
           0,
           0,
           0,
           0,
           0,
           0.3567580710445312,
           0,
           0,
           0,
           0,
           0.3021550321736318,
           0,
           0,
           0,
           0,
           0,
           0,
           0,
           0,
           0,
           0,
           0,
           0,
           0,
           0,
           0.1412209368932221,
           0,
           1.0000000000000002,
           0.31713449389111303,
           0,
           0,
           0,
           0,
           0,
           0,
           0,
           0,
           0.13380242096352998,
           0,
           0,
           0,
           0,
           0
          ],
          [
           0,
           0.08663487294111041,
           0.08688633530636702,
           0,
           0.03756970692888878,
           0.32659179723660164,
           0.2177185724507045,
           0,
           0.16146034353738778,
           0.18069565679530628,
           0,
           0,
           0.05043091718592439,
           0,
           0,
           0,
           0.04990404185671642,
           0.1955339771854536,
           0,
           0,
           0,
           0.04917073773874386,
           0,
           0,
           0,
           0,
           0,
           0,
           0.04760323950847502,
           0,
           0,
           0,
           0.11493546055209766,
           0,
           0.31713449389111303,
           1,
           0.08539630831489982,
           0.36783795278437204,
           0.17042673750476348,
           0,
           0,
           0,
           0,
           0,
           0.1061743323961875,
           0.18774764858407886,
           0,
           0,
           0,
           0
          ],
          [
           0,
           0.09333637482605299,
           0,
           0.12727215281285642,
           0,
           0.05776038270187498,
           0.08928558642018679,
           0,
           0,
           0.13182944330351856,
           0,
           0,
           0,
           0,
           0,
           0,
           0,
           0.19651668030507688,
           0,
           0.12811382381200775,
           0,
           0,
           0,
           0,
           0,
           0,
           0.4069318129150148,
           0,
           0,
           0,
           0,
           0,
           0,
           0,
           0,
           0.08539630831489982,
           1,
           0,
           0,
           0,
           0.06991564398288459,
           0,
           0,
           0,
           0.18357211723841407,
           0,
           0,
           0,
           0,
           0
          ],
          [
           0,
           0,
           0,
           0,
           0.08158370165397562,
           0.12020258448226949,
           0,
           0,
           0,
           0.12666852762589004,
           0,
           0,
           0.3568682980340806,
           0,
           0,
           0,
           0.10836806552342956,
           0,
           0,
           0,
           0,
           0.1067756744915926,
           0,
           0,
           0,
           0,
           0,
           0,
           0.1033718068967923,
           0,
           0,
           0,
           0.13818738241788064,
           0,
           0,
           0.36783795278437204,
           0,
           1,
           0,
           0,
           0,
           0,
           0,
           0,
           0.10973003319680301,
           0.6965808675672912,
           0,
           0,
           0,
           0
          ],
          [
           0,
           0,
           0,
           0.09187196560853374,
           0.1794092968313824,
           0,
           0,
           0.2504945684584111,
           0.15337856915852693,
           0.22412032859990233,
           0,
           0,
           0,
           0.10994972571066514,
           0.29312222200793897,
           0,
           0.2723024711531347,
           0,
           0,
           0,
           0,
           0,
           0.08153432785022768,
           0.08094102276906819,
           0,
           0,
           0,
           0,
           0,
           0,
           0.11669484836879673,
           0,
           0.13921003520099445,
           0.12943844589464967,
           0,
           0.17042673750476348,
           0,
           0,
           1.0000000000000002,
           0,
           0,
           0.21585527511145935,
           0,
           0,
           0.09139749953622082,
           0,
           0.3359083393689203,
           0,
           0,
           0.07541817870482102
          ],
          [
           0,
           0,
           0,
           0,
           0,
           0,
           0,
           0,
           0,
           0,
           0,
           0,
           0,
           0,
           0,
           0,
           0,
           0,
           0,
           0,
           0,
           0,
           0,
           0,
           0,
           0,
           0,
           0,
           0,
           0,
           0,
           0,
           0,
           0,
           0,
           0,
           0,
           0,
           0,
           0.9999999999999999,
           0,
           0,
           0.5722084831890251,
           0,
           0,
           0,
           0,
           0,
           0,
           0
          ],
          [
           0,
           0,
           0.07859668989433231,
           0.08678519902854974,
           0,
           0.0926949131446496,
           0.15999294671538603,
           0,
           0.04180483763165233,
           0,
           0,
           0,
           0,
           0.05993575838132054,
           0,
           0.021590930269422,
           0,
           0.0706279914660613,
           0,
           0.08735912335970576,
           0.23192897521899156,
           0,
           0,
           0,
           0,
           0,
           0.07282547450734925,
           0,
           0,
           0.1300245220004125,
           0,
           0,
           0,
           0,
           0,
           0,
           0.06991564398288459,
           0,
           0,
           0,
           1.0000000000000002,
           0,
           0,
           0.34525160231546476,
           0.19506670359389242,
           0,
           0,
           0,
           0.27754900619066514,
           0
          ],
          [
           0,
           0,
           0,
           0.3822278231691908,
           0.1676476193256964,
           0,
           0,
           0,
           0,
           0.2094274945382545,
           0,
           0,
           0,
           0,
           0,
           0,
           0,
           0,
           0,
           0,
           0,
           0,
           0.4419214226085562,
           0,
           0,
           0,
           0,
           0,
           0,
           0,
           0,
           0,
           0,
           0,
           0,
           0,
           0,
           0,
           0.21585527511145935,
           0,
           0,
           1,
           0,
           0,
           0.035089796057359644,
           0,
           0,
           0,
           0,
           0
          ],
          [
           0,
           0,
           0,
           0,
           0,
           0,
           0,
           0,
           0,
           0,
           0,
           0,
           0,
           0,
           0,
           0,
           0,
           0,
           0,
           0,
           0,
           0,
           0.3392122097813838,
           0,
           0,
           0,
           0,
           0,
           0,
           0,
           0,
           0,
           0,
           0,
           0,
           0,
           0,
           0,
           0,
           0.5722084831890251,
           0,
           0,
           1,
           0,
           0,
           0,
           0,
           0,
           0,
           0
          ],
          [
           0,
           0.17295417162235013,
           0,
           0,
           0,
           0,
           0,
           0.1814478740710176,
           0.2555746951246692,
           0,
           0,
           0,
           0,
           0.26792138326084447,
           0.14778716502230066,
           0.03887418238935726,
           0,
           0,
           0.1770795227251714,
           0.17207144224594376,
           0.3577187355532842,
           0,
           0,
           0,
           0,
           0,
           0,
           0,
           0,
           0,
           0,
           0,
           0,
           0,
           0,
           0,
           0,
           0,
           0,
           0,
           0.34525160231546476,
           0,
           0,
           1,
           0,
           0,
           0,
           0,
           0.2013496972802376,
           0
          ],
          [
           0.10773911360949916,
           0.11961275526091575,
           0.11299539631320876,
           0.06312270332561418,
           0,
           0.1359433745924421,
           0,
           0.05091715816276409,
           0.12662723062925266,
           0.02864515319888092,
           0.05824661741249778,
           0.15112402435758454,
           0.18397167618803828,
           0.03393437738669291,
           0,
           0.21980066819992325,
           0.08054578064954833,
           0.08529966033003555,
           0,
           0.06390111085365835,
           0,
           0.024146531194859783,
           0.025164379750440717,
           0.024981264800409006,
           0.043674096921601985,
           0.1202568988271349,
           0.06840249579758077,
           0,
           0,
           0.12860184779851,
           0.16429417731297927,
           0.12810565648993955,
           0.20205373351315375,
           0.03994928630285805,
           0.13380242096352998,
           0.1061743323961875,
           0.18357211723841407,
           0.10973003319680301,
           0.09139749953622082,
           0,
           0.19506670359389242,
           0.035089796057359644,
           0,
           0,
           1,
           0.15752662512827748,
           0.17159730342889662,
           0.03864126509101409,
           0,
           0.13540816708716788
          ],
          [
           0,
           0,
           0,
           0,
           0,
           0,
           0,
           0,
           0,
           0.18184324824806294,
           0,
           0,
           0.5123142403844536,
           0,
           0,
           0,
           0.15557140680864442,
           0,
           0,
           0,
           0,
           0.15328539651755194,
           0,
           0,
           0,
           0,
           0,
           0,
           0,
           0,
           0,
           0,
           0.19837952612807214,
           0,
           0,
           0.18774764858407886,
           0,
           0.6965808675672912,
           0,
           0,
           0,
           0,
           0,
           0,
           0.15752662512827748,
           0.9999999999999998,
           0,
           0,
           0,
           0
          ],
          [
           0,
           0,
           0,
           0,
           0,
           0,
           0,
           0,
           0.27586713098410987,
           0,
           0,
           0,
           0,
           0.19775588956591048,
           0,
           0,
           0,
           0,
           0,
           0.37238994772511996,
           0,
           0,
           0,
           0,
           0,
           0,
           0,
           0,
           0,
           0,
           0.2098876863745733,
           0,
           0.2658959835938714,
           0,
           0,
           0,
           0,
           0,
           0.3359083393689203,
           0,
           0,
           0,
           0,
           0,
           0.17159730342889662,
           0,
           1,
           0,
           0,
           0
          ],
          [
           0,
           0,
           0,
           0,
           0,
           0,
           0,
           0,
           0,
           0,
           0,
           0,
           0.21003920761975703,
           0,
           0,
           0,
           0,
           0,
           0.3067687236806775,
           0,
           0,
           0,
           0,
           0,
           0.22983066440490882,
           0,
           0.3842562557903868,
           0,
           0,
           0,
           0,
           0.15483473894331923,
           0.14482858656146633,
           0,
           0,
           0,
           0,
           0,
           0,
           0,
           0,
           0,
           0,
           0,
           0.03864126509101409,
           0,
           0,
           0.9999999999999999,
           0,
           0
          ],
          [
           0,
           0,
           0.20185101424514237,
           0,
           0,
           0.13690716235513084,
           0,
           0,
           0.21472529918619426,
           0,
           0,
           0,
           0,
           0.30785249697121786,
           0,
           0.11089910222016222,
           0,
           0,
           0,
           0,
           0.74590867977438,
           0,
           0,
           0,
           0,
           0,
           0,
           0,
           0,
           0,
           0,
           0,
           0,
           0,
           0,
           0,
           0,
           0,
           0,
           0,
           0.27754900619066514,
           0,
           0,
           0.2013496972802376,
           0,
           0,
           0,
           0,
           1,
           0
          ],
          [
           0,
           0.2182733003317142,
           0,
           0,
           0,
           0,
           0.2223926552232638,
           0.06012967763496381,
           0,
           0,
           0.24610861198442985,
           0,
           0,
           0,
           0,
           0.20368299777302637,
           0.12520153833719586,
           0,
           0,
           0,
           0,
           0,
           0.10632669924796717,
           0.10555298622929095,
           0,
           0,
           0.2241072619725752,
           0,
           0,
           0.15047376551676733,
           0.19696804812432567,
           0,
           0.05008366378117116,
           0,
           0,
           0,
           0,
           0,
           0.07541817870482102,
           0,
           0,
           0,
           0,
           0,
           0.13540816708716788,
           0,
           0,
           0,
           0,
           1.0000000000000002
          ]
         ]
        }
       ],
       "layout": {
        "height": 800,
        "template": {
         "data": {
          "bar": [
           {
            "error_x": {
             "color": "#2a3f5f"
            },
            "error_y": {
             "color": "#2a3f5f"
            },
            "marker": {
             "line": {
              "color": "#E5ECF6",
              "width": 0.5
             }
            },
            "type": "bar"
           }
          ],
          "barpolar": [
           {
            "marker": {
             "line": {
              "color": "#E5ECF6",
              "width": 0.5
             }
            },
            "type": "barpolar"
           }
          ],
          "carpet": [
           {
            "aaxis": {
             "endlinecolor": "#2a3f5f",
             "gridcolor": "white",
             "linecolor": "white",
             "minorgridcolor": "white",
             "startlinecolor": "#2a3f5f"
            },
            "baxis": {
             "endlinecolor": "#2a3f5f",
             "gridcolor": "white",
             "linecolor": "white",
             "minorgridcolor": "white",
             "startlinecolor": "#2a3f5f"
            },
            "type": "carpet"
           }
          ],
          "choropleth": [
           {
            "colorbar": {
             "outlinewidth": 0,
             "ticks": ""
            },
            "type": "choropleth"
           }
          ],
          "contour": [
           {
            "colorbar": {
             "outlinewidth": 0,
             "ticks": ""
            },
            "colorscale": [
             [
              0,
              "#0d0887"
             ],
             [
              0.1111111111111111,
              "#46039f"
             ],
             [
              0.2222222222222222,
              "#7201a8"
             ],
             [
              0.3333333333333333,
              "#9c179e"
             ],
             [
              0.4444444444444444,
              "#bd3786"
             ],
             [
              0.5555555555555556,
              "#d8576b"
             ],
             [
              0.6666666666666666,
              "#ed7953"
             ],
             [
              0.7777777777777778,
              "#fb9f3a"
             ],
             [
              0.8888888888888888,
              "#fdca26"
             ],
             [
              1,
              "#f0f921"
             ]
            ],
            "type": "contour"
           }
          ],
          "contourcarpet": [
           {
            "colorbar": {
             "outlinewidth": 0,
             "ticks": ""
            },
            "type": "contourcarpet"
           }
          ],
          "heatmap": [
           {
            "colorbar": {
             "outlinewidth": 0,
             "ticks": ""
            },
            "colorscale": [
             [
              0,
              "#0d0887"
             ],
             [
              0.1111111111111111,
              "#46039f"
             ],
             [
              0.2222222222222222,
              "#7201a8"
             ],
             [
              0.3333333333333333,
              "#9c179e"
             ],
             [
              0.4444444444444444,
              "#bd3786"
             ],
             [
              0.5555555555555556,
              "#d8576b"
             ],
             [
              0.6666666666666666,
              "#ed7953"
             ],
             [
              0.7777777777777778,
              "#fb9f3a"
             ],
             [
              0.8888888888888888,
              "#fdca26"
             ],
             [
              1,
              "#f0f921"
             ]
            ],
            "type": "heatmap"
           }
          ],
          "heatmapgl": [
           {
            "colorbar": {
             "outlinewidth": 0,
             "ticks": ""
            },
            "colorscale": [
             [
              0,
              "#0d0887"
             ],
             [
              0.1111111111111111,
              "#46039f"
             ],
             [
              0.2222222222222222,
              "#7201a8"
             ],
             [
              0.3333333333333333,
              "#9c179e"
             ],
             [
              0.4444444444444444,
              "#bd3786"
             ],
             [
              0.5555555555555556,
              "#d8576b"
             ],
             [
              0.6666666666666666,
              "#ed7953"
             ],
             [
              0.7777777777777778,
              "#fb9f3a"
             ],
             [
              0.8888888888888888,
              "#fdca26"
             ],
             [
              1,
              "#f0f921"
             ]
            ],
            "type": "heatmapgl"
           }
          ],
          "histogram": [
           {
            "marker": {
             "colorbar": {
              "outlinewidth": 0,
              "ticks": ""
             }
            },
            "type": "histogram"
           }
          ],
          "histogram2d": [
           {
            "colorbar": {
             "outlinewidth": 0,
             "ticks": ""
            },
            "colorscale": [
             [
              0,
              "#0d0887"
             ],
             [
              0.1111111111111111,
              "#46039f"
             ],
             [
              0.2222222222222222,
              "#7201a8"
             ],
             [
              0.3333333333333333,
              "#9c179e"
             ],
             [
              0.4444444444444444,
              "#bd3786"
             ],
             [
              0.5555555555555556,
              "#d8576b"
             ],
             [
              0.6666666666666666,
              "#ed7953"
             ],
             [
              0.7777777777777778,
              "#fb9f3a"
             ],
             [
              0.8888888888888888,
              "#fdca26"
             ],
             [
              1,
              "#f0f921"
             ]
            ],
            "type": "histogram2d"
           }
          ],
          "histogram2dcontour": [
           {
            "colorbar": {
             "outlinewidth": 0,
             "ticks": ""
            },
            "colorscale": [
             [
              0,
              "#0d0887"
             ],
             [
              0.1111111111111111,
              "#46039f"
             ],
             [
              0.2222222222222222,
              "#7201a8"
             ],
             [
              0.3333333333333333,
              "#9c179e"
             ],
             [
              0.4444444444444444,
              "#bd3786"
             ],
             [
              0.5555555555555556,
              "#d8576b"
             ],
             [
              0.6666666666666666,
              "#ed7953"
             ],
             [
              0.7777777777777778,
              "#fb9f3a"
             ],
             [
              0.8888888888888888,
              "#fdca26"
             ],
             [
              1,
              "#f0f921"
             ]
            ],
            "type": "histogram2dcontour"
           }
          ],
          "mesh3d": [
           {
            "colorbar": {
             "outlinewidth": 0,
             "ticks": ""
            },
            "type": "mesh3d"
           }
          ],
          "parcoords": [
           {
            "line": {
             "colorbar": {
              "outlinewidth": 0,
              "ticks": ""
             }
            },
            "type": "parcoords"
           }
          ],
          "pie": [
           {
            "automargin": true,
            "type": "pie"
           }
          ],
          "scatter": [
           {
            "marker": {
             "colorbar": {
              "outlinewidth": 0,
              "ticks": ""
             }
            },
            "type": "scatter"
           }
          ],
          "scatter3d": [
           {
            "line": {
             "colorbar": {
              "outlinewidth": 0,
              "ticks": ""
             }
            },
            "marker": {
             "colorbar": {
              "outlinewidth": 0,
              "ticks": ""
             }
            },
            "type": "scatter3d"
           }
          ],
          "scattercarpet": [
           {
            "marker": {
             "colorbar": {
              "outlinewidth": 0,
              "ticks": ""
             }
            },
            "type": "scattercarpet"
           }
          ],
          "scattergeo": [
           {
            "marker": {
             "colorbar": {
              "outlinewidth": 0,
              "ticks": ""
             }
            },
            "type": "scattergeo"
           }
          ],
          "scattergl": [
           {
            "marker": {
             "colorbar": {
              "outlinewidth": 0,
              "ticks": ""
             }
            },
            "type": "scattergl"
           }
          ],
          "scattermapbox": [
           {
            "marker": {
             "colorbar": {
              "outlinewidth": 0,
              "ticks": ""
             }
            },
            "type": "scattermapbox"
           }
          ],
          "scatterpolar": [
           {
            "marker": {
             "colorbar": {
              "outlinewidth": 0,
              "ticks": ""
             }
            },
            "type": "scatterpolar"
           }
          ],
          "scatterpolargl": [
           {
            "marker": {
             "colorbar": {
              "outlinewidth": 0,
              "ticks": ""
             }
            },
            "type": "scatterpolargl"
           }
          ],
          "scatterternary": [
           {
            "marker": {
             "colorbar": {
              "outlinewidth": 0,
              "ticks": ""
             }
            },
            "type": "scatterternary"
           }
          ],
          "surface": [
           {
            "colorbar": {
             "outlinewidth": 0,
             "ticks": ""
            },
            "colorscale": [
             [
              0,
              "#0d0887"
             ],
             [
              0.1111111111111111,
              "#46039f"
             ],
             [
              0.2222222222222222,
              "#7201a8"
             ],
             [
              0.3333333333333333,
              "#9c179e"
             ],
             [
              0.4444444444444444,
              "#bd3786"
             ],
             [
              0.5555555555555556,
              "#d8576b"
             ],
             [
              0.6666666666666666,
              "#ed7953"
             ],
             [
              0.7777777777777778,
              "#fb9f3a"
             ],
             [
              0.8888888888888888,
              "#fdca26"
             ],
             [
              1,
              "#f0f921"
             ]
            ],
            "type": "surface"
           }
          ],
          "table": [
           {
            "cells": {
             "fill": {
              "color": "#EBF0F8"
             },
             "line": {
              "color": "white"
             }
            },
            "header": {
             "fill": {
              "color": "#C8D4E3"
             },
             "line": {
              "color": "white"
             }
            },
            "type": "table"
           }
          ]
         },
         "layout": {
          "annotationdefaults": {
           "arrowcolor": "#2a3f5f",
           "arrowhead": 0,
           "arrowwidth": 1
          },
          "coloraxis": {
           "colorbar": {
            "outlinewidth": 0,
            "ticks": ""
           }
          },
          "colorscale": {
           "diverging": [
            [
             0,
             "#8e0152"
            ],
            [
             0.1,
             "#c51b7d"
            ],
            [
             0.2,
             "#de77ae"
            ],
            [
             0.3,
             "#f1b6da"
            ],
            [
             0.4,
             "#fde0ef"
            ],
            [
             0.5,
             "#f7f7f7"
            ],
            [
             0.6,
             "#e6f5d0"
            ],
            [
             0.7,
             "#b8e186"
            ],
            [
             0.8,
             "#7fbc41"
            ],
            [
             0.9,
             "#4d9221"
            ],
            [
             1,
             "#276419"
            ]
           ],
           "sequential": [
            [
             0,
             "#0d0887"
            ],
            [
             0.1111111111111111,
             "#46039f"
            ],
            [
             0.2222222222222222,
             "#7201a8"
            ],
            [
             0.3333333333333333,
             "#9c179e"
            ],
            [
             0.4444444444444444,
             "#bd3786"
            ],
            [
             0.5555555555555556,
             "#d8576b"
            ],
            [
             0.6666666666666666,
             "#ed7953"
            ],
            [
             0.7777777777777778,
             "#fb9f3a"
            ],
            [
             0.8888888888888888,
             "#fdca26"
            ],
            [
             1,
             "#f0f921"
            ]
           ],
           "sequentialminus": [
            [
             0,
             "#0d0887"
            ],
            [
             0.1111111111111111,
             "#46039f"
            ],
            [
             0.2222222222222222,
             "#7201a8"
            ],
            [
             0.3333333333333333,
             "#9c179e"
            ],
            [
             0.4444444444444444,
             "#bd3786"
            ],
            [
             0.5555555555555556,
             "#d8576b"
            ],
            [
             0.6666666666666666,
             "#ed7953"
            ],
            [
             0.7777777777777778,
             "#fb9f3a"
            ],
            [
             0.8888888888888888,
             "#fdca26"
            ],
            [
             1,
             "#f0f921"
            ]
           ]
          },
          "colorway": [
           "#636efa",
           "#EF553B",
           "#00cc96",
           "#ab63fa",
           "#FFA15A",
           "#19d3f3",
           "#FF6692",
           "#B6E880",
           "#FF97FF",
           "#FECB52"
          ],
          "font": {
           "color": "#2a3f5f"
          },
          "geo": {
           "bgcolor": "white",
           "lakecolor": "white",
           "landcolor": "#E5ECF6",
           "showlakes": true,
           "showland": true,
           "subunitcolor": "white"
          },
          "hoverlabel": {
           "align": "left"
          },
          "hovermode": "closest",
          "mapbox": {
           "style": "light"
          },
          "paper_bgcolor": "white",
          "plot_bgcolor": "#E5ECF6",
          "polar": {
           "angularaxis": {
            "gridcolor": "white",
            "linecolor": "white",
            "ticks": ""
           },
           "bgcolor": "#E5ECF6",
           "radialaxis": {
            "gridcolor": "white",
            "linecolor": "white",
            "ticks": ""
           }
          },
          "scene": {
           "xaxis": {
            "backgroundcolor": "#E5ECF6",
            "gridcolor": "white",
            "gridwidth": 2,
            "linecolor": "white",
            "showbackground": true,
            "ticks": "",
            "zerolinecolor": "white"
           },
           "yaxis": {
            "backgroundcolor": "#E5ECF6",
            "gridcolor": "white",
            "gridwidth": 2,
            "linecolor": "white",
            "showbackground": true,
            "ticks": "",
            "zerolinecolor": "white"
           },
           "zaxis": {
            "backgroundcolor": "#E5ECF6",
            "gridcolor": "white",
            "gridwidth": 2,
            "linecolor": "white",
            "showbackground": true,
            "ticks": "",
            "zerolinecolor": "white"
           }
          },
          "shapedefaults": {
           "line": {
            "color": "#2a3f5f"
           }
          },
          "ternary": {
           "aaxis": {
            "gridcolor": "white",
            "linecolor": "white",
            "ticks": ""
           },
           "baxis": {
            "gridcolor": "white",
            "linecolor": "white",
            "ticks": ""
           },
           "bgcolor": "#E5ECF6",
           "caxis": {
            "gridcolor": "white",
            "linecolor": "white",
            "ticks": ""
           }
          },
          "title": {
           "x": 0.05
          },
          "xaxis": {
           "automargin": true,
           "gridcolor": "white",
           "linecolor": "white",
           "ticks": "",
           "title": {
            "standoff": 15
           },
           "zerolinecolor": "white",
           "zerolinewidth": 2
          },
          "yaxis": {
           "automargin": true,
           "gridcolor": "white",
           "linecolor": "white",
           "ticks": "",
           "title": {
            "standoff": 15
           },
           "zerolinecolor": "white",
           "zerolinewidth": 2
          }
         }
        },
        "title": {
         "text": "Mapa de calor entre palabras sobre Transmilenio "
        },
        "width": 800
       }
      },
      "text/html": [
       "<div>                            <div id=\"d07fc1e4-0d1d-4c46-9b02-3cba81f15913\" class=\"plotly-graph-div\" style=\"height:800px; width:800px;\"></div>            <script type=\"text/javascript\">                require([\"plotly\"], function(Plotly) {                    window.PLOTLYENV=window.PLOTLYENV || {};                                    if (document.getElementById(\"d07fc1e4-0d1d-4c46-9b02-3cba81f15913\")) {                    Plotly.newPlot(                        \"d07fc1e4-0d1d-4c46-9b02-3cba81f15913\",                        [{\"colorscale\": [[0.0, \"rgb(255,245,240)\"], [0.125, \"rgb(254,224,210)\"], [0.25, \"rgb(252,187,161)\"], [0.375, \"rgb(252,146,114)\"], [0.5, \"rgb(251,106,74)\"], [0.625, \"rgb(239,59,44)\"], [0.75, \"rgb(203,24,29)\"], [0.875, \"rgb(165,15,21)\"], [1.0, \"rgb(103,0,13)\"]], \"type\": \"heatmap\", \"x\": [\"agredi\\u00f3\", \"alcaldesa\", \"alcald\\u00eda\", \"as\\u00ed\", \"atracan\", \"bogot\\u00e1\", \"bus\", \"buses\", \"ciudad\", \"ciudadanos\", \"creo\", \"c\\u00e1rcel\", \"c\\u00f3mo\", \"d\\u00eda\", \"el\\u00e9ctricos\", \"escoltas\", \"estaciones\", \"estaci\\u00f3n\", \"gente\", \"gracias\", \"grande\", \"habla\", \"hace\", \"hacer\", \"haga\", \"hombre\", \"hora\", \"hueco\", \"inseguridad\", \"jajaja\", \"ladrones\", \"pe\\u00f1alosa\", \"polic\\u00eda\", \"polic\\u00edas\", \"secretario\", \"seguridad\", \"si\", \"sigue\", \"sistema\", \"soacha\", \"solo\", \"toda\", \"torniquete\", \"trabajo\", \"transmilenio\", \"transmisi\\u00f3n\", \"transporte\", \"ud\", \"usted\", \"va\"], \"y\": [\"agredi\\u00f3\", \"alcaldesa\", \"alcald\\u00eda\", \"as\\u00ed\", \"atracan\", \"bogot\\u00e1\", \"bus\", \"buses\", \"ciudad\", \"ciudadanos\", \"creo\", \"c\\u00e1rcel\", \"c\\u00f3mo\", \"d\\u00eda\", \"el\\u00e9ctricos\", \"escoltas\", \"estaciones\", \"estaci\\u00f3n\", \"gente\", \"gracias\", \"grande\", \"habla\", \"hace\", \"hacer\", \"haga\", \"hombre\", \"hora\", \"hueco\", \"inseguridad\", \"jajaja\", \"ladrones\", \"pe\\u00f1alosa\", \"polic\\u00eda\", \"polic\\u00edas\", \"secretario\", \"seguridad\", \"si\", \"sigue\", \"sistema\", \"soacha\", \"solo\", \"toda\", \"torniquete\", \"trabajo\", \"transmilenio\", \"transmisi\\u00f3n\", \"transporte\", \"ud\", \"usted\", \"va\"], \"z\": [[1.0, 0.0, 0.0, 0.0, 0.0, 0.10906998243030204, 0.0, 0.0, 0.0, 0.0, 0.0, 0.8263291752603971, 0.0, 0.0, 0.0, 0.0, 0.0, 0.4350971757453567, 0.0, 0.0, 0.0, 0.0, 0.0, 0.0, 0.0, 0.6575512030573594, 0.0, 0.0, 0.0, 0.0, 0.0, 0.0, 0.0, 0.0, 0.0, 0.0, 0.0, 0.0, 0.0, 0.0, 0.0, 0.0, 0.0, 0.0, 0.10773911360949916, 0.0, 0.0, 0.0, 0.0, 0.0], [0.0, 0.9999999999999999, 0.0, 0.0, 0.0, 0.0, 0.0905805600689624, 0.082938427950574, 0.0, 0.13374146138006912, 0.0, 0.0, 0.0, 0.13221865817216438, 0.0, 0.0, 0.0, 0.09428734842664593, 0.14632542775822582, 0.0, 0.0, 0.0, 0.0, 0.0, 0.0, 0.0, 0.23609871860663728, 0.0, 0.0, 0.0, 0.0, 0.0, 0.0, 0.0, 0.0, 0.08663487294111041, 0.09333637482605299, 0.0, 0.0, 0.0, 0.0, 0.0, 0.0, 0.17295417162235013, 0.11961275526091575, 0.0, 0.0, 0.0, 0.0, 0.2182733003317142], [0.0, 0.0, 1.0, 0.0, 0.0, 0.26221366904523047, 0.0, 0.13369530491501744, 0.0, 0.0, 0.0, 0.0, 0.0, 0.0, 0.0, 0.0, 0.0, 0.0, 0.0, 0.0, 0.21122739367131463, 0.0, 0.0, 0.0, 0.0, 0.0, 0.0, 0.0, 0.0, 0.0, 0.0700459412805079, 0.0, 0.2830910161639668, 0.0, 0.0, 0.08688633530636702, 0.0, 0.0, 0.0, 0.0, 0.07859668989433231, 0.0, 0.0, 0.0, 0.11299539631320876, 0.0, 0.0, 0.0, 0.20185101424514237, 0.0], [0.0, 0.0, 0.0, 0.9999999999999999, 0.0, 0.07169706267705331, 0.0, 0.14649602444930124, 0.0, 0.0, 0.0, 0.0, 0.0, 0.0, 0.13351520395571137, 0.0, 0.15251643067741028, 0.12856888688508944, 0.0, 0.1590256924552599, 0.0, 0.0, 0.0, 0.0, 0.0, 0.0, 0.13256911317926368, 0.0, 0.0, 0.0, 0.0, 0.0, 0.0, 0.0, 0.0, 0.0, 0.12727215281285642, 0.0, 0.09187196560853374, 0.0, 0.08678519902854974, 0.3822278231691908, 0.0, 0.0, 0.06312270332561418, 0.0, 0.0, 0.0, 0.0, 0.0], [0.0, 0.0, 0.0, 0.0, 1.0, 0.13680917284256155, 0.0, 0.0, 0.0, 0.1740668117231096, 0.0, 0.0, 0.0, 0.0, 0.0, 0.0, 0.0, 0.0, 0.0, 0.0, 0.0, 0.0, 0.0, 0.0, 0.0, 0.0, 0.0, 0.0, 0.11765313913759655, 0.0, 0.0, 0.0, 0.0, 0.0, 0.0, 0.03756970692888878, 0.0, 0.08158370165397562, 0.1794092968313824, 0.0, 0.0, 0.1676476193256964, 0.0, 0.0, 0.0, 0.0, 0.0, 0.0, 0.0, 0.0], [0.10906998243030204, 0.0, 0.26221366904523047, 0.07169706267705331, 0.13680917284256155, 0.9999999999999999, 0.0, 0.0, 0.19598463631027674, 0.0, 0.0, 0.24361489128643163, 0.0, 0.0, 0.0, 0.0, 0.0, 0.1365582998693192, 0.0, 0.07217120676156757, 0.1432667712240923, 0.0, 0.0, 0.0, 0.0, 0.41690440291438996, 0.06016432143598462, 0.1205668917200052, 0.1733460373834606, 0.0, 0.09501850749743497, 0.0, 0.17068947798146625, 0.0, 0.0, 0.32659179723660164, 0.05776038270187498, 0.12020258448226949, 0.0, 0.0, 0.0926949131446496, 0.0, 0.0, 0.0, 0.1359433745924421, 0.0, 0.0, 0.0, 0.13690716235513084, 0.0], [0.0, 0.0905805600689624, 0.0, 0.0, 0.0, 0.0, 1.0000000000000002, 0.0, 0.0, 0.12793709665997324, 0.0, 0.0, 0.0, 0.0, 0.0, 0.0, 0.0, 0.09019528787106591, 0.34307132595399664, 0.0, 0.0, 0.0, 0.0, 0.0, 0.0, 0.0, 0.0, 0.0, 0.0, 0.1850533984050531, 0.1985015526325104, 0.0, 0.0, 0.0, 0.18643993128199607, 0.2177185724507045, 0.08928558642018679, 0.0, 0.0, 0.0, 0.15999294671538603, 0.0, 0.0, 0.0, 0.0, 0.0, 0.0, 0.0, 0.0, 0.2223926552232638], [0.0, 0.082938427950574, 0.13369530491501744, 0.14649602444930124, 0.0, 0.0, 0.0, 1.0, 0.08646375127653161, 0.0, 0.0, 0.0, 0.0, 0.07673014934780276, 0.6119383973791083, 0.0, 0.22122360115527057, 0.14666506723573383, 0.08491669844849097, 0.0825151239845685, 0.12102021196874384, 0.0, 0.06500598309336059, 0.21458184013075157, 0.0, 0.0, 0.0, 0.0, 0.0, 0.0, 0.0, 0.0, 0.1095565814868187, 0.0, 0.0, 0.0, 0.0, 0.0, 0.2504945684584111, 0.0, 0.0, 0.0, 0.0, 0.1814478740710176, 0.05091715816276409, 0.0, 0.0, 0.0, 0.0, 0.06012967763496381], [0.0, 0.0, 0.0, 0.0, 0.0, 0.19598463631027674, 0.0, 0.08646375127653161, 1.0000000000000002, 0.0, 0.0, 0.0, 0.0, 0.31002825996545236, 0.15760462346822518, 0.04145658303402229, 0.0, 0.0, 0.0, 0.18350209817418314, 0.38148188725250715, 0.0, 0.0, 0.0, 0.0, 0.0, 0.0, 0.0, 0.0, 0.0, 0.0, 0.0, 0.0, 0.0, 0.0, 0.16146034353738778, 0.0, 0.0, 0.15337856915852693, 0.0, 0.04180483763165233, 0.0, 0.0, 0.2555746951246692, 0.12662723062925266, 0.0, 0.27586713098410987, 0.0, 0.21472529918619426, 0.0], [0.0, 0.13374146138006912, 0.0, 0.0, 0.1740668117231096, 0.0, 0.12793709665997324, 0.0, 0.0, 1.0, 0.0, 0.0, 0.15570414855383813, 0.0, 0.0, 0.0, 0.15407743464288734, 0.1331726101084877, 0.0, 0.0, 0.0, 0.15181337720171492, 0.0, 0.0, 0.39123553890246493, 0.0, 0.0, 0.0, 0.4194684951932712, 0.0, 0.0, 0.0, 0.06163472538282052, 0.0, 0.0, 0.18069565679530628, 0.13182944330351856, 0.12666852762589004, 0.22412032859990233, 0.0, 0.0, 0.2094274945382545, 0.0, 0.0, 0.02864515319888092, 0.18184324824806294, 0.0, 0.0, 0.0, 0.0], [0.0, 0.0, 0.0, 0.0, 0.0, 0.0, 0.0, 0.0, 0.0, 0.0, 1.0, 0.0, 0.0, 0.0, 0.0, 0.0, 0.0, 0.0, 0.0, 0.3246497784901566, 0.0, 0.0, 0.2704964730314773, 0.0, 0.3522067590788135, 0.0, 0.0, 0.0, 0.0, 0.20156696958597242, 0.0, 0.0, 0.0, 0.24092300056722543, 0.0, 0.0, 0.0, 0.0, 0.0, 0.0, 0.0, 0.0, 0.0, 0.0, 0.05824661741249778, 0.0, 0.0, 0.0, 0.0, 0.24610861198442985], [0.8263291752603971, 0.0, 0.0, 0.0, 0.0, 0.24361489128643163, 0.0, 0.0, 0.0, 0.0, 0.0, 0.9999999999999999, 0.0, 0.0, 0.0, 0.0, 0.0, 0.3595334903917886, 0.0, 0.0, 0.0, 0.0, 0.0, 0.0, 0.0, 0.7957497117902782, 0.0, 0.0, 0.0, 0.0, 0.0, 0.0, 0.0, 0.0, 0.0, 0.0, 0.0, 0.0, 0.0, 0.0, 0.0, 0.0, 0.0, 0.0, 0.15112402435758454, 0.0, 0.0, 0.0, 0.0, 0.0], [0.0, 0.0, 0.0, 0.0, 0.0, 0.0, 0.0, 0.0, 0.0, 0.15570414855383813, 0.0, 0.0, 0.9999999999999998, 0.0, 0.0, 0.0, 0.13320875902644788, 0.0, 0.0, 0.0, 0.0, 0.13125135181232736, 0.0, 0.0, 0.2373957656229782, 0.0, 0.0, 0.0, 0.0, 0.0, 0.0, 0.15993127588808448, 0.1896061570640956, 0.0, 0.3567580710445312, 0.05043091718592439, 0.0, 0.3568682980340806, 0.0, 0.0, 0.0, 0.0, 0.0, 0.0, 0.18397167618803828, 0.5123142403844536, 0.0, 0.21003920761975703, 0.0, 0.0], [0.0, 0.13221865817216438, 0.0, 0.0, 0.0, 0.0, 0.0, 0.07673014934780276, 0.31002825996545236, 0.0, 0.0, 0.0, 0.0, 1.0, 0.0, 0.05943646440958809, 0.0, 0.0, 0.13537237445542982, 0.0, 0.16107642761572483, 0.0, 0.0, 0.0, 0.0, 0.0, 0.0, 0.0, 0.0, 0.0, 0.0, 0.0, 0.0, 0.0, 0.0, 0.0, 0.0, 0.0, 0.10994972571066514, 0.0, 0.05993575838132054, 0.0, 0.0, 0.26792138326084447, 0.03393437738669291, 0.0, 0.19775588956591048, 0.0, 0.30785249697121786, 0.0], [0.0, 0.0, 0.0, 0.13351520395571137, 0.0, 0.0, 0.0, 0.6119383973791083, 0.15760462346822518, 0.0, 0.0, 0.0, 0.0, 0.0, 1.0, 0.0, 0.13185820393760708, 0.0, 0.0, 0.1504071342501612, 0.22059353957911895, 0.0, 0.0, 0.0, 0.0, 0.0, 0.0, 0.0, 0.0, 0.0, 0.0, 0.0, 0.0, 0.0, 0.0, 0.0, 0.0, 0.0, 0.29312222200793897, 0.0, 0.0, 0.0, 0.0, 0.14778716502230066, 0.0, 0.0, 0.0, 0.0, 0.0, 0.0], [0.0, 0.0, 0.0, 0.0, 0.0, 0.0, 0.0, 0.0, 0.04145658303402229, 0.0, 0.0, 0.0, 0.0, 0.05943646440958809, 0.0, 1.0, 0.0, 0.0, 0.0, 0.0, 0.058025292590317766, 0.0, 0.0, 0.0, 0.0, 0.0, 0.0, 0.0, 0.0, 0.0, 0.0, 0.0, 0.0, 0.0, 0.0, 0.0, 0.0, 0.0, 0.0, 0.0, 0.021590930269422, 0.0, 0.0, 0.03887418238935726, 0.21980066819992325, 0.0, 0.0, 0.0, 0.11089910222016222, 0.20368299777302637], [0.0, 0.0, 0.0, 0.15251643067741028, 0.0, 0.0, 0.0, 0.22122360115527057, 0.0, 0.15407743464288734, 0.0, 0.0, 0.13320875902644788, 0.0, 0.13185820393760708, 0.0, 1.0, 0.0, 0.0, 0.0, 0.0, 0.12988010768166514, 0.1353549429255208, 0.13436999857735274, 0.0, 0.0, 0.0, 0.0, 0.0, 0.0, 0.2917730297823504, 0.0, 0.3397712350537091, 0.21488045487566368, 0.0, 0.04990404185671642, 0.0, 0.10836806552342956, 0.2723024711531347, 0.0, 0.0, 0.0, 0.0, 0.0, 0.08054578064954833, 0.15557140680864442, 0.0, 0.0, 0.0, 0.12520153833719586], [0.4350971757453567, 0.09428734842664593, 0.0, 0.12856888688508944, 0.0, 0.1365582998693192, 0.09019528787106591, 0.14666506723573383, 0.0, 0.1331726101084877, 0.0, 0.3595334903917886, 0.0, 0.0, 0.0, 0.0, 0.0, 1.0000000000000002, 0.0, 0.1294191333930075, 0.0, 0.0, 0.0, 0.25745915213837256, 0.0, 0.2860986713582186, 0.10788809957338662, 0.0, 0.0, 0.0, 0.0, 0.0, 0.0, 0.0, 0.3021550321736318, 0.1955339771854536, 0.19651668030507688, 0.0, 0.0, 0.0, 0.0706279914660613, 0.0, 0.0, 0.0, 0.08529966033003555, 0.0, 0.0, 0.0, 0.0, 0.0], [0.0, 0.14632542775822582, 0.0, 0.0, 0.0, 0.0, 0.34307132595399664, 0.08491669844849097, 0.0, 0.0, 0.0, 0.0, 0.0, 0.13537237445542982, 0.0, 0.0, 0.0, 0.0, 1.0000000000000002, 0.0, 0.0, 0.2527064730465529, 0.0, 0.0, 0.0, 0.0, 0.0, 0.0, 0.3040711103955541, 0.0, 0.0, 0.0, 0.1254299810005308, 0.0, 0.0, 0.0, 0.0, 0.0, 0.0, 0.0, 0.0, 0.0, 0.0, 0.1770795227251714, 0.0, 0.0, 0.0, 0.3067687236806775, 0.0, 0.0], [0.0, 0.0, 0.0, 0.1590256924552599, 0.0, 0.07217120676156757, 0.0, 0.0825151239845685, 0.18350209817418314, 0.0, 0.3246497784901566, 0.0, 0.0, 0.0, 0.1504071342501612, 0.0, 0.0, 0.1294191333930075, 0.0, 0.9999999999999999, 0.25684130621078594, 0.0, 0.0, 0.0, 0.34115918463041783, 0.0, 0.1334458138202143, 0.0, 0.0, 0.0, 0.0, 0.0, 0.137493676217318, 0.0, 0.0, 0.0, 0.12811382381200775, 0.0, 0.0, 0.0, 0.08735912335970576, 0.0, 0.0, 0.17207144224594376, 0.06390111085365835, 0.0, 0.37238994772511996, 0.0, 0.0, 0.0], [0.0, 0.0, 0.21122739367131463, 0.0, 0.0, 0.1432667712240923, 0.0, 0.12102021196874384, 0.38148188725250715, 0.0, 0.0, 0.0, 0.0, 0.16107642761572483, 0.22059353957911895, 0.058025292590317766, 0.0, 0.0, 0.0, 0.25684130621078594, 1.0, 0.0, 0.0, 0.0, 0.0, 0.0, 0.0, 0.0, 0.0, 0.0, 0.0, 0.0, 0.0, 0.0, 0.0, 0.0, 0.0, 0.0, 0.0, 0.0, 0.23192897521899156, 0.0, 0.0, 0.3577187355532842, 0.0, 0.0, 0.0, 0.0, 0.74590867977438, 0.0], [0.0, 0.0, 0.0, 0.0, 0.0, 0.0, 0.0, 0.0, 0.0, 0.15181337720171492, 0.0, 0.0, 0.13125135181232736, 0.0, 0.0, 0.0, 0.12988010768166514, 0.0, 0.2527064730465529, 0.0, 0.0, 1.0000000000000002, 0.0, 0.0, 0.0, 0.0, 0.0, 0.0, 0.3535924222196483, 0.0, 0.0, 0.0, 0.28668482486454117, 0.0, 0.0, 0.04917073773874386, 0.0, 0.1067756744915926, 0.0, 0.0, 0.0, 0.0, 0.0, 0.0, 0.024146531194859783, 0.15328539651755194, 0.0, 0.0, 0.0, 0.0], [0.0, 0.0, 0.0, 0.0, 0.0, 0.0, 0.0, 0.06500598309336059, 0.0, 0.0, 0.2704964730314773, 0.0, 0.0, 0.0, 0.0, 0.0, 0.1353549429255208, 0.0, 0.0, 0.0, 0.0, 0.0, 1.0, 0.11411296232004386, 0.0, 0.0, 0.0, 0.0, 0.0, 0.0, 0.0, 0.0, 0.05414527283477807, 0.1944393412277984, 0.0, 0.0, 0.0, 0.0, 0.08153432785022768, 0.0, 0.0, 0.4419214226085562, 0.3392122097813838, 0.0, 0.025164379750440717, 0.0, 0.0, 0.0, 0.0, 0.10632669924796717], [0.0, 0.0, 0.0, 0.0, 0.0, 0.0, 0.0, 0.21458184013075157, 0.0, 0.0, 0.0, 0.0, 0.0, 0.0, 0.0, 0.0, 0.13436999857735274, 0.25745915213837256, 0.0, 0.0, 0.0, 0.0, 0.11411296232004386, 0.9999999999999998, 0.0, 0.0, 0.0, 0.0, 0.0, 0.0, 0.0, 0.0, 0.05375127111377718, 0.0, 0.0, 0.0, 0.0, 0.0, 0.08094102276906819, 0.0, 0.0, 0.0, 0.0, 0.0, 0.024981264800409006, 0.0, 0.0, 0.0, 0.0, 0.10555298622929095], [0.0, 0.0, 0.0, 0.0, 0.0, 0.0, 0.0, 0.0, 0.0, 0.39123553890246493, 0.3522067590788135, 0.0, 0.2373957656229782, 0.0, 0.0, 0.0, 0.0, 0.0, 0.0, 0.34115918463041783, 0.0, 0.0, 0.0, 0.0, 1.0, 0.0, 0.0, 0.0, 0.3968265240437673, 0.0, 0.0, 0.17500119055403313, 0.0, 0.0, 0.0, 0.0, 0.0, 0.0, 0.0, 0.0, 0.0, 0.0, 0.0, 0.0, 0.043674096921601985, 0.0, 0.0, 0.22983066440490882, 0.0, 0.0], [0.6575512030573594, 0.0, 0.0, 0.0, 0.0, 0.41690440291438996, 0.0, 0.0, 0.0, 0.0, 0.0, 0.7957497117902782, 0.0, 0.0, 0.0, 0.0, 0.0, 0.2860986713582186, 0.0, 0.0, 0.0, 0.0, 0.0, 0.0, 0.0, 1.0000000000000002, 0.0, 0.0, 0.0, 0.0, 0.0, 0.0, 0.0, 0.0, 0.0, 0.0, 0.0, 0.0, 0.0, 0.0, 0.0, 0.0, 0.0, 0.0, 0.1202568988271349, 0.0, 0.0, 0.0, 0.0, 0.0], [0.0, 0.23609871860663728, 0.0, 0.13256911317926368, 0.0, 0.06016432143598462, 0.0, 0.0, 0.0, 0.0, 0.0, 0.0, 0.0, 0.0, 0.0, 0.0, 0.0, 0.10788809957338662, 0.0, 0.1334458138202143, 0.0, 0.0, 0.0, 0.0, 0.0, 0.0, 1.0, 0.0, 0.0, 0.0, 0.0, 0.0, 0.0, 0.0, 0.0, 0.0, 0.4069318129150148, 0.0, 0.0, 0.0, 0.07282547450734925, 0.0, 0.0, 0.0, 0.06840249579758077, 0.0, 0.0, 0.3842562557903868, 0.0, 0.2241072619725752], [0.0, 0.0, 0.0, 0.0, 0.0, 0.1205668917200052, 0.0, 0.0, 0.0, 0.0, 0.0, 0.0, 0.0, 0.0, 0.0, 0.0, 0.0, 0.0, 0.0, 0.0, 0.0, 0.0, 0.0, 0.0, 0.0, 0.0, 0.0, 1.0, 0.0, 0.0, 0.0, 0.0, 0.0, 0.0, 0.0, 0.0, 0.0, 0.0, 0.0, 0.0, 0.0, 0.0, 0.0, 0.0, 0.0, 0.0, 0.0, 0.0, 0.0, 0.0], [0.0, 0.0, 0.0, 0.0, 0.11765313913759655, 0.1733460373834606, 0.0, 0.0, 0.0, 0.4194684951932712, 0.0, 0.0, 0.0, 0.0, 0.0, 0.0, 0.0, 0.0, 0.3040711103955541, 0.0, 0.0, 0.3535924222196483, 0.0, 0.0, 0.3968265240437673, 0.0, 0.0, 0.0, 1.0000000000000002, 0.0, 0.0, 0.0, 0.0, 0.0, 0.0, 0.04760323950847502, 0.0, 0.1033718068967923, 0.0, 0.0, 0.0, 0.0, 0.0, 0.0, 0.0, 0.0, 0.0, 0.0, 0.0, 0.0], [0.0, 0.0, 0.0, 0.0, 0.0, 0.0, 0.1850533984050531, 0.0, 0.0, 0.0, 0.20156696958597242, 0.0, 0.0, 0.0, 0.0, 0.0, 0.0, 0.0, 0.0, 0.0, 0.0, 0.0, 0.0, 0.0, 0.0, 0.0, 0.0, 0.0, 0.0, 1.0, 0.0, 0.0, 0.0, 0.0, 0.0, 0.0, 0.0, 0.0, 0.0, 0.0, 0.1300245220004125, 0.0, 0.0, 0.0, 0.12860184779851, 0.0, 0.0, 0.0, 0.0, 0.15047376551676733], [0.0, 0.0, 0.0700459412805079, 0.0, 0.0, 0.09501850749743497, 0.1985015526325104, 0.0, 0.0, 0.0, 0.0, 0.0, 0.0, 0.0, 0.0, 0.0, 0.2917730297823504, 0.0, 0.0, 0.0, 0.0, 0.0, 0.0, 0.0, 0.0, 0.0, 0.0, 0.0, 0.0, 0.0, 1.0, 0.0, 0.2769240863690604, 0.0, 0.0, 0.0, 0.0, 0.0, 0.11669484836879673, 0.0, 0.0, 0.0, 0.0, 0.0, 0.16429417731297927, 0.0, 0.2098876863745733, 0.0, 0.0, 0.19696804812432567], [0.0, 0.0, 0.0, 0.0, 0.0, 0.0, 0.0, 0.0, 0.0, 0.0, 0.0, 0.0, 0.15993127588808448, 0.0, 0.0, 0.0, 0.0, 0.0, 0.0, 0.0, 0.0, 0.0, 0.0, 0.0, 0.17500119055403313, 0.0, 0.0, 0.0, 0.0, 0.0, 0.0, 0.9999999999999999, 0.0, 0.0, 0.0, 0.0, 0.0, 0.0, 0.0, 0.0, 0.0, 0.0, 0.0, 0.0, 0.12810565648993955, 0.0, 0.0, 0.15483473894331923, 0.0, 0.0], [0.0, 0.0, 0.2830910161639668, 0.0, 0.0, 0.17068947798146625, 0.0, 0.1095565814868187, 0.0, 0.06163472538282052, 0.0, 0.0, 0.1896061570640956, 0.0, 0.0, 0.0, 0.3397712350537091, 0.0, 0.1254299810005308, 0.137493676217318, 0.0, 0.28668482486454117, 0.05414527283477807, 0.05375127111377718, 0.0, 0.0, 0.0, 0.0, 0.0, 0.0, 0.2769240863690604, 0.0, 1.0, 0.085957413926923, 0.1412209368932221, 0.11493546055209766, 0.0, 0.13818738241788064, 0.13921003520099445, 0.0, 0.0, 0.0, 0.0, 0.0, 0.20205373351315375, 0.19837952612807214, 0.2658959835938714, 0.14482858656146633, 0.0, 0.05008366378117116], [0.0, 0.0, 0.0, 0.0, 0.0, 0.0, 0.0, 0.0, 0.0, 0.0, 0.24092300056722543, 0.0, 0.0, 0.0, 0.0, 0.0, 0.21488045487566368, 0.0, 0.0, 0.0, 0.0, 0.0, 0.1944393412277984, 0.0, 0.0, 0.0, 0.0, 0.0, 0.0, 0.0, 0.0, 0.0, 0.085957413926923, 1.0, 0.0, 0.0, 0.0, 0.0, 0.12943844589464967, 0.0, 0.0, 0.0, 0.0, 0.0, 0.03994928630285805, 0.0, 0.0, 0.0, 0.0, 0.0], [0.0, 0.0, 0.0, 0.0, 0.0, 0.0, 0.18643993128199607, 0.0, 0.0, 0.0, 0.0, 0.0, 0.3567580710445312, 0.0, 0.0, 0.0, 0.0, 0.3021550321736318, 0.0, 0.0, 0.0, 0.0, 0.0, 0.0, 0.0, 0.0, 0.0, 0.0, 0.0, 0.0, 0.0, 0.0, 0.1412209368932221, 0.0, 1.0000000000000002, 0.31713449389111303, 0.0, 0.0, 0.0, 0.0, 0.0, 0.0, 0.0, 0.0, 0.13380242096352998, 0.0, 0.0, 0.0, 0.0, 0.0], [0.0, 0.08663487294111041, 0.08688633530636702, 0.0, 0.03756970692888878, 0.32659179723660164, 0.2177185724507045, 0.0, 0.16146034353738778, 0.18069565679530628, 0.0, 0.0, 0.05043091718592439, 0.0, 0.0, 0.0, 0.04990404185671642, 0.1955339771854536, 0.0, 0.0, 0.0, 0.04917073773874386, 0.0, 0.0, 0.0, 0.0, 0.0, 0.0, 0.04760323950847502, 0.0, 0.0, 0.0, 0.11493546055209766, 0.0, 0.31713449389111303, 1.0, 0.08539630831489982, 0.36783795278437204, 0.17042673750476348, 0.0, 0.0, 0.0, 0.0, 0.0, 0.1061743323961875, 0.18774764858407886, 0.0, 0.0, 0.0, 0.0], [0.0, 0.09333637482605299, 0.0, 0.12727215281285642, 0.0, 0.05776038270187498, 0.08928558642018679, 0.0, 0.0, 0.13182944330351856, 0.0, 0.0, 0.0, 0.0, 0.0, 0.0, 0.0, 0.19651668030507688, 0.0, 0.12811382381200775, 0.0, 0.0, 0.0, 0.0, 0.0, 0.0, 0.4069318129150148, 0.0, 0.0, 0.0, 0.0, 0.0, 0.0, 0.0, 0.0, 0.08539630831489982, 1.0, 0.0, 0.0, 0.0, 0.06991564398288459, 0.0, 0.0, 0.0, 0.18357211723841407, 0.0, 0.0, 0.0, 0.0, 0.0], [0.0, 0.0, 0.0, 0.0, 0.08158370165397562, 0.12020258448226949, 0.0, 0.0, 0.0, 0.12666852762589004, 0.0, 0.0, 0.3568682980340806, 0.0, 0.0, 0.0, 0.10836806552342956, 0.0, 0.0, 0.0, 0.0, 0.1067756744915926, 0.0, 0.0, 0.0, 0.0, 0.0, 0.0, 0.1033718068967923, 0.0, 0.0, 0.0, 0.13818738241788064, 0.0, 0.0, 0.36783795278437204, 0.0, 1.0, 0.0, 0.0, 0.0, 0.0, 0.0, 0.0, 0.10973003319680301, 0.6965808675672912, 0.0, 0.0, 0.0, 0.0], [0.0, 0.0, 0.0, 0.09187196560853374, 0.1794092968313824, 0.0, 0.0, 0.2504945684584111, 0.15337856915852693, 0.22412032859990233, 0.0, 0.0, 0.0, 0.10994972571066514, 0.29312222200793897, 0.0, 0.2723024711531347, 0.0, 0.0, 0.0, 0.0, 0.0, 0.08153432785022768, 0.08094102276906819, 0.0, 0.0, 0.0, 0.0, 0.0, 0.0, 0.11669484836879673, 0.0, 0.13921003520099445, 0.12943844589464967, 0.0, 0.17042673750476348, 0.0, 0.0, 1.0000000000000002, 0.0, 0.0, 0.21585527511145935, 0.0, 0.0, 0.09139749953622082, 0.0, 0.3359083393689203, 0.0, 0.0, 0.07541817870482102], [0.0, 0.0, 0.0, 0.0, 0.0, 0.0, 0.0, 0.0, 0.0, 0.0, 0.0, 0.0, 0.0, 0.0, 0.0, 0.0, 0.0, 0.0, 0.0, 0.0, 0.0, 0.0, 0.0, 0.0, 0.0, 0.0, 0.0, 0.0, 0.0, 0.0, 0.0, 0.0, 0.0, 0.0, 0.0, 0.0, 0.0, 0.0, 0.0, 0.9999999999999999, 0.0, 0.0, 0.5722084831890251, 0.0, 0.0, 0.0, 0.0, 0.0, 0.0, 0.0], [0.0, 0.0, 0.07859668989433231, 0.08678519902854974, 0.0, 0.0926949131446496, 0.15999294671538603, 0.0, 0.04180483763165233, 0.0, 0.0, 0.0, 0.0, 0.05993575838132054, 0.0, 0.021590930269422, 0.0, 0.0706279914660613, 0.0, 0.08735912335970576, 0.23192897521899156, 0.0, 0.0, 0.0, 0.0, 0.0, 0.07282547450734925, 0.0, 0.0, 0.1300245220004125, 0.0, 0.0, 0.0, 0.0, 0.0, 0.0, 0.06991564398288459, 0.0, 0.0, 0.0, 1.0000000000000002, 0.0, 0.0, 0.34525160231546476, 0.19506670359389242, 0.0, 0.0, 0.0, 0.27754900619066514, 0.0], [0.0, 0.0, 0.0, 0.3822278231691908, 0.1676476193256964, 0.0, 0.0, 0.0, 0.0, 0.2094274945382545, 0.0, 0.0, 0.0, 0.0, 0.0, 0.0, 0.0, 0.0, 0.0, 0.0, 0.0, 0.0, 0.4419214226085562, 0.0, 0.0, 0.0, 0.0, 0.0, 0.0, 0.0, 0.0, 0.0, 0.0, 0.0, 0.0, 0.0, 0.0, 0.0, 0.21585527511145935, 0.0, 0.0, 1.0, 0.0, 0.0, 0.035089796057359644, 0.0, 0.0, 0.0, 0.0, 0.0], [0.0, 0.0, 0.0, 0.0, 0.0, 0.0, 0.0, 0.0, 0.0, 0.0, 0.0, 0.0, 0.0, 0.0, 0.0, 0.0, 0.0, 0.0, 0.0, 0.0, 0.0, 0.0, 0.3392122097813838, 0.0, 0.0, 0.0, 0.0, 0.0, 0.0, 0.0, 0.0, 0.0, 0.0, 0.0, 0.0, 0.0, 0.0, 0.0, 0.0, 0.5722084831890251, 0.0, 0.0, 1.0, 0.0, 0.0, 0.0, 0.0, 0.0, 0.0, 0.0], [0.0, 0.17295417162235013, 0.0, 0.0, 0.0, 0.0, 0.0, 0.1814478740710176, 0.2555746951246692, 0.0, 0.0, 0.0, 0.0, 0.26792138326084447, 0.14778716502230066, 0.03887418238935726, 0.0, 0.0, 0.1770795227251714, 0.17207144224594376, 0.3577187355532842, 0.0, 0.0, 0.0, 0.0, 0.0, 0.0, 0.0, 0.0, 0.0, 0.0, 0.0, 0.0, 0.0, 0.0, 0.0, 0.0, 0.0, 0.0, 0.0, 0.34525160231546476, 0.0, 0.0, 1.0, 0.0, 0.0, 0.0, 0.0, 0.2013496972802376, 0.0], [0.10773911360949916, 0.11961275526091575, 0.11299539631320876, 0.06312270332561418, 0.0, 0.1359433745924421, 0.0, 0.05091715816276409, 0.12662723062925266, 0.02864515319888092, 0.05824661741249778, 0.15112402435758454, 0.18397167618803828, 0.03393437738669291, 0.0, 0.21980066819992325, 0.08054578064954833, 0.08529966033003555, 0.0, 0.06390111085365835, 0.0, 0.024146531194859783, 0.025164379750440717, 0.024981264800409006, 0.043674096921601985, 0.1202568988271349, 0.06840249579758077, 0.0, 0.0, 0.12860184779851, 0.16429417731297927, 0.12810565648993955, 0.20205373351315375, 0.03994928630285805, 0.13380242096352998, 0.1061743323961875, 0.18357211723841407, 0.10973003319680301, 0.09139749953622082, 0.0, 0.19506670359389242, 0.035089796057359644, 0.0, 0.0, 1.0, 0.15752662512827748, 0.17159730342889662, 0.03864126509101409, 0.0, 0.13540816708716788], [0.0, 0.0, 0.0, 0.0, 0.0, 0.0, 0.0, 0.0, 0.0, 0.18184324824806294, 0.0, 0.0, 0.5123142403844536, 0.0, 0.0, 0.0, 0.15557140680864442, 0.0, 0.0, 0.0, 0.0, 0.15328539651755194, 0.0, 0.0, 0.0, 0.0, 0.0, 0.0, 0.0, 0.0, 0.0, 0.0, 0.19837952612807214, 0.0, 0.0, 0.18774764858407886, 0.0, 0.6965808675672912, 0.0, 0.0, 0.0, 0.0, 0.0, 0.0, 0.15752662512827748, 0.9999999999999998, 0.0, 0.0, 0.0, 0.0], [0.0, 0.0, 0.0, 0.0, 0.0, 0.0, 0.0, 0.0, 0.27586713098410987, 0.0, 0.0, 0.0, 0.0, 0.19775588956591048, 0.0, 0.0, 0.0, 0.0, 0.0, 0.37238994772511996, 0.0, 0.0, 0.0, 0.0, 0.0, 0.0, 0.0, 0.0, 0.0, 0.0, 0.2098876863745733, 0.0, 0.2658959835938714, 0.0, 0.0, 0.0, 0.0, 0.0, 0.3359083393689203, 0.0, 0.0, 0.0, 0.0, 0.0, 0.17159730342889662, 0.0, 1.0, 0.0, 0.0, 0.0], [0.0, 0.0, 0.0, 0.0, 0.0, 0.0, 0.0, 0.0, 0.0, 0.0, 0.0, 0.0, 0.21003920761975703, 0.0, 0.0, 0.0, 0.0, 0.0, 0.3067687236806775, 0.0, 0.0, 0.0, 0.0, 0.0, 0.22983066440490882, 0.0, 0.3842562557903868, 0.0, 0.0, 0.0, 0.0, 0.15483473894331923, 0.14482858656146633, 0.0, 0.0, 0.0, 0.0, 0.0, 0.0, 0.0, 0.0, 0.0, 0.0, 0.0, 0.03864126509101409, 0.0, 0.0, 0.9999999999999999, 0.0, 0.0], [0.0, 0.0, 0.20185101424514237, 0.0, 0.0, 0.13690716235513084, 0.0, 0.0, 0.21472529918619426, 0.0, 0.0, 0.0, 0.0, 0.30785249697121786, 0.0, 0.11089910222016222, 0.0, 0.0, 0.0, 0.0, 0.74590867977438, 0.0, 0.0, 0.0, 0.0, 0.0, 0.0, 0.0, 0.0, 0.0, 0.0, 0.0, 0.0, 0.0, 0.0, 0.0, 0.0, 0.0, 0.0, 0.0, 0.27754900619066514, 0.0, 0.0, 0.2013496972802376, 0.0, 0.0, 0.0, 0.0, 1.0, 0.0], [0.0, 0.2182733003317142, 0.0, 0.0, 0.0, 0.0, 0.2223926552232638, 0.06012967763496381, 0.0, 0.0, 0.24610861198442985, 0.0, 0.0, 0.0, 0.0, 0.20368299777302637, 0.12520153833719586, 0.0, 0.0, 0.0, 0.0, 0.0, 0.10632669924796717, 0.10555298622929095, 0.0, 0.0, 0.2241072619725752, 0.0, 0.0, 0.15047376551676733, 0.19696804812432567, 0.0, 0.05008366378117116, 0.0, 0.0, 0.0, 0.0, 0.0, 0.07541817870482102, 0.0, 0.0, 0.0, 0.0, 0.0, 0.13540816708716788, 0.0, 0.0, 0.0, 0.0, 1.0000000000000002]]}],                        {\"height\": 800, \"template\": {\"data\": {\"bar\": [{\"error_x\": {\"color\": \"#2a3f5f\"}, \"error_y\": {\"color\": \"#2a3f5f\"}, \"marker\": {\"line\": {\"color\": \"#E5ECF6\", \"width\": 0.5}}, \"type\": \"bar\"}], \"barpolar\": [{\"marker\": {\"line\": {\"color\": \"#E5ECF6\", \"width\": 0.5}}, \"type\": \"barpolar\"}], \"carpet\": [{\"aaxis\": {\"endlinecolor\": \"#2a3f5f\", \"gridcolor\": \"white\", \"linecolor\": \"white\", \"minorgridcolor\": \"white\", \"startlinecolor\": \"#2a3f5f\"}, \"baxis\": {\"endlinecolor\": \"#2a3f5f\", \"gridcolor\": \"white\", \"linecolor\": \"white\", \"minorgridcolor\": \"white\", \"startlinecolor\": \"#2a3f5f\"}, \"type\": \"carpet\"}], \"choropleth\": [{\"colorbar\": {\"outlinewidth\": 0, \"ticks\": \"\"}, \"type\": \"choropleth\"}], \"contour\": [{\"colorbar\": {\"outlinewidth\": 0, \"ticks\": \"\"}, \"colorscale\": [[0.0, \"#0d0887\"], [0.1111111111111111, \"#46039f\"], [0.2222222222222222, \"#7201a8\"], [0.3333333333333333, \"#9c179e\"], [0.4444444444444444, \"#bd3786\"], [0.5555555555555556, \"#d8576b\"], [0.6666666666666666, \"#ed7953\"], [0.7777777777777778, \"#fb9f3a\"], [0.8888888888888888, \"#fdca26\"], [1.0, \"#f0f921\"]], \"type\": \"contour\"}], \"contourcarpet\": [{\"colorbar\": {\"outlinewidth\": 0, \"ticks\": \"\"}, \"type\": \"contourcarpet\"}], \"heatmap\": [{\"colorbar\": {\"outlinewidth\": 0, \"ticks\": \"\"}, \"colorscale\": [[0.0, \"#0d0887\"], [0.1111111111111111, \"#46039f\"], [0.2222222222222222, \"#7201a8\"], [0.3333333333333333, \"#9c179e\"], [0.4444444444444444, \"#bd3786\"], [0.5555555555555556, \"#d8576b\"], [0.6666666666666666, \"#ed7953\"], [0.7777777777777778, \"#fb9f3a\"], [0.8888888888888888, \"#fdca26\"], [1.0, \"#f0f921\"]], \"type\": \"heatmap\"}], \"heatmapgl\": [{\"colorbar\": {\"outlinewidth\": 0, \"ticks\": \"\"}, \"colorscale\": [[0.0, \"#0d0887\"], [0.1111111111111111, \"#46039f\"], [0.2222222222222222, \"#7201a8\"], [0.3333333333333333, \"#9c179e\"], [0.4444444444444444, \"#bd3786\"], [0.5555555555555556, \"#d8576b\"], [0.6666666666666666, \"#ed7953\"], [0.7777777777777778, \"#fb9f3a\"], [0.8888888888888888, \"#fdca26\"], [1.0, \"#f0f921\"]], \"type\": \"heatmapgl\"}], \"histogram\": [{\"marker\": {\"colorbar\": {\"outlinewidth\": 0, \"ticks\": \"\"}}, \"type\": \"histogram\"}], \"histogram2d\": [{\"colorbar\": {\"outlinewidth\": 0, \"ticks\": \"\"}, \"colorscale\": [[0.0, \"#0d0887\"], [0.1111111111111111, \"#46039f\"], [0.2222222222222222, \"#7201a8\"], [0.3333333333333333, \"#9c179e\"], [0.4444444444444444, \"#bd3786\"], [0.5555555555555556, \"#d8576b\"], [0.6666666666666666, \"#ed7953\"], [0.7777777777777778, \"#fb9f3a\"], [0.8888888888888888, \"#fdca26\"], [1.0, \"#f0f921\"]], \"type\": \"histogram2d\"}], \"histogram2dcontour\": [{\"colorbar\": {\"outlinewidth\": 0, \"ticks\": \"\"}, \"colorscale\": [[0.0, \"#0d0887\"], [0.1111111111111111, \"#46039f\"], [0.2222222222222222, \"#7201a8\"], [0.3333333333333333, \"#9c179e\"], [0.4444444444444444, \"#bd3786\"], [0.5555555555555556, \"#d8576b\"], [0.6666666666666666, \"#ed7953\"], [0.7777777777777778, \"#fb9f3a\"], [0.8888888888888888, \"#fdca26\"], [1.0, \"#f0f921\"]], \"type\": \"histogram2dcontour\"}], \"mesh3d\": [{\"colorbar\": {\"outlinewidth\": 0, \"ticks\": \"\"}, \"type\": \"mesh3d\"}], \"parcoords\": [{\"line\": {\"colorbar\": {\"outlinewidth\": 0, \"ticks\": \"\"}}, \"type\": \"parcoords\"}], \"pie\": [{\"automargin\": true, \"type\": \"pie\"}], \"scatter\": [{\"marker\": {\"colorbar\": {\"outlinewidth\": 0, \"ticks\": \"\"}}, \"type\": \"scatter\"}], \"scatter3d\": [{\"line\": {\"colorbar\": {\"outlinewidth\": 0, \"ticks\": \"\"}}, \"marker\": {\"colorbar\": {\"outlinewidth\": 0, \"ticks\": \"\"}}, \"type\": \"scatter3d\"}], \"scattercarpet\": [{\"marker\": {\"colorbar\": {\"outlinewidth\": 0, \"ticks\": \"\"}}, \"type\": \"scattercarpet\"}], \"scattergeo\": [{\"marker\": {\"colorbar\": {\"outlinewidth\": 0, \"ticks\": \"\"}}, \"type\": \"scattergeo\"}], \"scattergl\": [{\"marker\": {\"colorbar\": {\"outlinewidth\": 0, \"ticks\": \"\"}}, \"type\": \"scattergl\"}], \"scattermapbox\": [{\"marker\": {\"colorbar\": {\"outlinewidth\": 0, \"ticks\": \"\"}}, \"type\": \"scattermapbox\"}], \"scatterpolar\": [{\"marker\": {\"colorbar\": {\"outlinewidth\": 0, \"ticks\": \"\"}}, \"type\": \"scatterpolar\"}], \"scatterpolargl\": [{\"marker\": {\"colorbar\": {\"outlinewidth\": 0, \"ticks\": \"\"}}, \"type\": \"scatterpolargl\"}], \"scatterternary\": [{\"marker\": {\"colorbar\": {\"outlinewidth\": 0, \"ticks\": \"\"}}, \"type\": \"scatterternary\"}], \"surface\": [{\"colorbar\": {\"outlinewidth\": 0, \"ticks\": \"\"}, \"colorscale\": [[0.0, \"#0d0887\"], [0.1111111111111111, \"#46039f\"], [0.2222222222222222, \"#7201a8\"], [0.3333333333333333, \"#9c179e\"], [0.4444444444444444, \"#bd3786\"], [0.5555555555555556, \"#d8576b\"], [0.6666666666666666, \"#ed7953\"], [0.7777777777777778, \"#fb9f3a\"], [0.8888888888888888, \"#fdca26\"], [1.0, \"#f0f921\"]], \"type\": \"surface\"}], \"table\": [{\"cells\": {\"fill\": {\"color\": \"#EBF0F8\"}, \"line\": {\"color\": \"white\"}}, \"header\": {\"fill\": {\"color\": \"#C8D4E3\"}, \"line\": {\"color\": \"white\"}}, \"type\": \"table\"}]}, \"layout\": {\"annotationdefaults\": {\"arrowcolor\": \"#2a3f5f\", \"arrowhead\": 0, \"arrowwidth\": 1}, \"coloraxis\": {\"colorbar\": {\"outlinewidth\": 0, \"ticks\": \"\"}}, \"colorscale\": {\"diverging\": [[0, \"#8e0152\"], [0.1, \"#c51b7d\"], [0.2, \"#de77ae\"], [0.3, \"#f1b6da\"], [0.4, \"#fde0ef\"], [0.5, \"#f7f7f7\"], [0.6, \"#e6f5d0\"], [0.7, \"#b8e186\"], [0.8, \"#7fbc41\"], [0.9, \"#4d9221\"], [1, \"#276419\"]], \"sequential\": [[0.0, \"#0d0887\"], [0.1111111111111111, \"#46039f\"], [0.2222222222222222, \"#7201a8\"], [0.3333333333333333, \"#9c179e\"], [0.4444444444444444, \"#bd3786\"], [0.5555555555555556, \"#d8576b\"], [0.6666666666666666, \"#ed7953\"], [0.7777777777777778, \"#fb9f3a\"], [0.8888888888888888, \"#fdca26\"], [1.0, \"#f0f921\"]], \"sequentialminus\": [[0.0, \"#0d0887\"], [0.1111111111111111, \"#46039f\"], [0.2222222222222222, \"#7201a8\"], [0.3333333333333333, \"#9c179e\"], [0.4444444444444444, \"#bd3786\"], [0.5555555555555556, \"#d8576b\"], [0.6666666666666666, \"#ed7953\"], [0.7777777777777778, \"#fb9f3a\"], [0.8888888888888888, \"#fdca26\"], [1.0, \"#f0f921\"]]}, \"colorway\": [\"#636efa\", \"#EF553B\", \"#00cc96\", \"#ab63fa\", \"#FFA15A\", \"#19d3f3\", \"#FF6692\", \"#B6E880\", \"#FF97FF\", \"#FECB52\"], \"font\": {\"color\": \"#2a3f5f\"}, \"geo\": {\"bgcolor\": \"white\", \"lakecolor\": \"white\", \"landcolor\": \"#E5ECF6\", \"showlakes\": true, \"showland\": true, \"subunitcolor\": \"white\"}, \"hoverlabel\": {\"align\": \"left\"}, \"hovermode\": \"closest\", \"mapbox\": {\"style\": \"light\"}, \"paper_bgcolor\": \"white\", \"plot_bgcolor\": \"#E5ECF6\", \"polar\": {\"angularaxis\": {\"gridcolor\": \"white\", \"linecolor\": \"white\", \"ticks\": \"\"}, \"bgcolor\": \"#E5ECF6\", \"radialaxis\": {\"gridcolor\": \"white\", \"linecolor\": \"white\", \"ticks\": \"\"}}, \"scene\": {\"xaxis\": {\"backgroundcolor\": \"#E5ECF6\", \"gridcolor\": \"white\", \"gridwidth\": 2, \"linecolor\": \"white\", \"showbackground\": true, \"ticks\": \"\", \"zerolinecolor\": \"white\"}, \"yaxis\": {\"backgroundcolor\": \"#E5ECF6\", \"gridcolor\": \"white\", \"gridwidth\": 2, \"linecolor\": \"white\", \"showbackground\": true, \"ticks\": \"\", \"zerolinecolor\": \"white\"}, \"zaxis\": {\"backgroundcolor\": \"#E5ECF6\", \"gridcolor\": \"white\", \"gridwidth\": 2, \"linecolor\": \"white\", \"showbackground\": true, \"ticks\": \"\", \"zerolinecolor\": \"white\"}}, \"shapedefaults\": {\"line\": {\"color\": \"#2a3f5f\"}}, \"ternary\": {\"aaxis\": {\"gridcolor\": \"white\", \"linecolor\": \"white\", \"ticks\": \"\"}, \"baxis\": {\"gridcolor\": \"white\", \"linecolor\": \"white\", \"ticks\": \"\"}, \"bgcolor\": \"#E5ECF6\", \"caxis\": {\"gridcolor\": \"white\", \"linecolor\": \"white\", \"ticks\": \"\"}}, \"title\": {\"x\": 0.05}, \"xaxis\": {\"automargin\": true, \"gridcolor\": \"white\", \"linecolor\": \"white\", \"ticks\": \"\", \"title\": {\"standoff\": 15}, \"zerolinecolor\": \"white\", \"zerolinewidth\": 2}, \"yaxis\": {\"automargin\": true, \"gridcolor\": \"white\", \"linecolor\": \"white\", \"ticks\": \"\", \"title\": {\"standoff\": 15}, \"zerolinecolor\": \"white\", \"zerolinewidth\": 2}}}, \"title\": {\"text\": \"Mapa de calor entre palabras sobre Transmilenio \"}, \"width\": 800},                        {\"responsive\": true}                    ).then(function(){\n",
       "                            \n",
       "var gd = document.getElementById('d07fc1e4-0d1d-4c46-9b02-3cba81f15913');\n",
       "var x = new MutationObserver(function (mutations, observer) {{\n",
       "        var display = window.getComputedStyle(gd).display;\n",
       "        if (!display || display === 'none') {{\n",
       "            console.log([gd, 'removed!']);\n",
       "            Plotly.purge(gd);\n",
       "            observer.disconnect();\n",
       "        }}\n",
       "}});\n",
       "\n",
       "// Listen for the removal of the full notebook cells\n",
       "var notebookContainer = gd.closest('#notebook-container');\n",
       "if (notebookContainer) {{\n",
       "    x.observe(notebookContainer, {childList: true});\n",
       "}}\n",
       "\n",
       "// Listen for the clearing of the current output cell\n",
       "var outputEl = gd.closest('.output');\n",
       "if (outputEl) {{\n",
       "    x.observe(outputEl, {childList: true});\n",
       "}}\n",
       "\n",
       "                        })                };                });            </script>        </div>"
      ]
     },
     "metadata": {},
     "output_type": "display_data"
    }
   ],
   "source": [
    "from sklearn.metrics.pairwise import cosine_similarity\n",
    "from sklearn.feature_extraction.text import TfidfVectorizer\n",
    "\n",
    "#Vectorización de palabras \n",
    "tfidf_vect = TfidfVectorizer(preprocessor=pre_procesado, ngram_range=(1,1), max_features=50)\n",
    "tfidf = tfidf_vect.fit_transform(data.palabras.values)\n",
    "\n",
    "#Cálculo de Distancias del Coseno\n",
    "voc = [k for k,v in sorted(tfidf_vect.vocabulary_.items(), key=lambda kv: kv[1])]\n",
    "cos = pd.DataFrame(tfidf.toarray())\n",
    "cos = cosine_similarity(cos.T.values)\n",
    "cos = pd.DataFrame(cos)\n",
    "cos.columns = voc\n",
    "cos.index = voc\n",
    "cos\n",
    "\n",
    "#Creación de la Gráfica#\n",
    "traza = go.Heatmap(z=cos.values.tolist(),\n",
    "                   x=cos.index.values,\n",
    "                   y=cos.columns.values,\n",
    "                   colorscale='Reds')\n",
    "\n",
    "layout = go.Layout(title='Mapa de calor entre palabras sobre Transmilenio ',\n",
    "                   width=800, height=800)\n",
    "fig = go.Figure(data=[traza],layout=layout)\n",
    "iplot(fig)\n"
   ]
  }
 ],
 "metadata": {
  "kernelspec": {
   "display_name": "Python 3",
   "language": "python",
   "name": "python3"
  },
  "language_info": {
   "codemirror_mode": {
    "name": "ipython",
    "version": 3
   },
   "file_extension": ".py",
   "mimetype": "text/x-python",
   "name": "python",
   "nbconvert_exporter": "python",
   "pygments_lexer": "ipython3",
   "version": "3.7.4"
  }
 },
 "nbformat": 4,
 "nbformat_minor": 2
}
