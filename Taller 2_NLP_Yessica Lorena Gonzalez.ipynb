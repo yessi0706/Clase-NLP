{
 "cells": [
  {
   "cell_type": "markdown",
   "metadata": {},
   "source": [
    "<img src='https://encrypted-tbn0.gstatic.com/images?q=tbn%3AANd9GcQ-VfNtOyJbsaxu43Kztf_cv1mgBG6ZIQZEVw&usqp=CAU'>\n",
    "\n",
    "# Procesamiento de Lenguage Natural\n",
    "\n",
    "## Taller #2: Adquisición de textos\n",
    "`Fecha de entrega: Agosto 29, 2020. (Antes del inicio de la próxima clase).`"
   ]
  },
  {
   "cell_type": "markdown",
   "metadata": {},
   "source": [
    "# Punto 1:\n",
    "\n",
    "- Descomprimir el archivo `.zip` de los poemas\n",
    "- Leer cada uno de sus archivos\n",
    "- Responder: ¿Cuál archivo tiene el mayor número de palabras?"
   ]
  },
  {
   "cell_type": "code",
   "execution_count": 49,
   "metadata": {},
   "outputs": [],
   "source": [
    "import pandas as pd\n",
    "import os\n",
    "from zipfile import ZipFile"
   ]
  },
  {
   "cell_type": "code",
   "execution_count": 50,
   "metadata": {},
   "outputs": [],
   "source": [
    "poemas = \"C:/Users/jlo46/OneDrive/Documentos/ESPECIALIZACION/SEMESTRE 2/Fundamentos NLP/TALLER 2/poemas.zip\""
   ]
  },
  {
   "cell_type": "code",
   "execution_count": 51,
   "metadata": {},
   "outputs": [],
   "source": [
    "with ZipFile(poemas) as archivo:\n",
    "    archivo.extractall(\"C:/Users/jlo46/OneDrive/Documentos/ESPECIALIZACION/SEMESTRE 2/Fundamentos NLP/TALLER 2/\")"
   ]
  },
  {
   "cell_type": "code",
   "execution_count": 52,
   "metadata": {},
   "outputs": [
    {
     "name": "stdout",
     "output_type": "stream",
     "text": [
      "('C:/Users/jlo46/OneDrive/Documentos/ESPECIALIZACION/SEMESTRE 2/Fundamentos NLP/TALLER 2/poemas', [], ['A un general (Julio Corta╠üzar).txt', 'Aqui╠ü (Octavio Paz).txt', 'Si╠ündrome (Mario Benedetti).txt'])\n"
     ]
    }
   ],
   "source": [
    "for file in os.walk('C:/Users/jlo46/OneDrive/Documentos/ESPECIALIZACION/SEMESTRE 2/Fundamentos NLP/TALLER 2/poemas'):\n",
    "    print(file)"
   ]
  },
  {
   "cell_type": "code",
   "execution_count": 53,
   "metadata": {},
   "outputs": [
    {
     "name": "stdout",
     "output_type": "stream",
     "text": [
      "RegiÃ³n de manos sucias de pinceles sin pelo\n",
      "\n",
      "de niÃ±os boca abajo de cepillos de dientes\n",
      "\n",
      "Zona donde la rata se ennoblece\n",
      "\n",
      "y hay banderas innÃºmeras y cantan himnos\n",
      "\n",
      "y alguien te prende, hijo de puta,\n",
      "\n",
      "una medalla sobre el pecho\n",
      "\n",
      "Y te pudres lo mismo.\n"
     ]
    }
   ],
   "source": [
    "with open (\"C:/Users/jlo46/OneDrive/Documentos/ESPECIALIZACION/SEMESTRE 2/Fundamentos NLP/TALLER 2/poemas/A un general (Julio Corta╠üzar).txt\") as archivo1:\n",
    "    cortazar = archivo1.read()\n",
    "print(cortazar)"
   ]
  },
  {
   "cell_type": "code",
   "execution_count": 54,
   "metadata": {
    "scrolled": false
   },
   "outputs": [
    {
     "name": "stdout",
     "output_type": "stream",
     "text": [
      "Mis pasos en esta calle\n",
      "\n",
      "Resuenan\n",
      "\n",
      "En otra calle\n",
      "\n",
      "Donde\n",
      "\n",
      "Oigo mis pasos\n",
      "\n",
      "Pasar en esta calle\n",
      "\n",
      "Donde\n",
      "\n",
      "SÃ³lo es real la niebla.\n"
     ]
    }
   ],
   "source": [
    "with open (\"C:/Users/jlo46/OneDrive/Documentos/ESPECIALIZACION/SEMESTRE 2/Fundamentos NLP/TALLER 2/poemas/Aqui╠ü (Octavio Paz).txt\") as archivo2:\n",
    "    paz = archivo2.read()\n",
    "print(paz)"
   ]
  },
  {
   "cell_type": "code",
   "execution_count": 55,
   "metadata": {
    "scrolled": true
   },
   "outputs": [
    {
     "name": "stdout",
     "output_type": "stream",
     "text": [
      "TodavÃ­a tengo casi todos mis dientes\n",
      "\n",
      "casi todos mis cabellos y poquÃ­simas canas\n",
      "\n",
      "puedo hacer y deshacer el amor\n",
      "\n",
      "trepar una escalera de dos en dos\n",
      "\n",
      "y correr cuarenta metros detrÃ¡s del Ã³mnibus\n",
      "\n",
      "o sea que no deberÃ­a sentirme viejo\n",
      "\n",
      "pero el grave problema es que antes\n",
      "\n",
      "no me fijaba en estos detalles.\n"
     ]
    }
   ],
   "source": [
    "with open (\"C:/Users/jlo46/OneDrive/Documentos/ESPECIALIZACION/SEMESTRE 2/Fundamentos NLP/TALLER 2/poemas/Si╠ündrome (Mario Benedetti).txt\") as archivo3:\n",
    "    benedetti = archivo3.read()\n",
    "print(benedetti)"
   ]
  },
  {
   "cell_type": "code",
   "execution_count": 56,
   "metadata": {},
   "outputs": [
    {
     "data": {
      "text/plain": [
       "46"
      ]
     },
     "execution_count": 56,
     "metadata": {},
     "output_type": "execute_result"
    }
   ],
   "source": [
    "#Conteo de Palabras#\n",
    "cortazar_words = cortazar.split()\n",
    "len(cortazar_words)"
   ]
  },
  {
   "cell_type": "code",
   "execution_count": 57,
   "metadata": {},
   "outputs": [
    {
     "data": {
      "text/plain": [
       "23"
      ]
     },
     "execution_count": 57,
     "metadata": {},
     "output_type": "execute_result"
    }
   ],
   "source": [
    "paz_words = paz.split()\n",
    "len(paz_words)"
   ]
  },
  {
   "cell_type": "code",
   "execution_count": 58,
   "metadata": {},
   "outputs": [
    {
     "data": {
      "text/plain": [
       "53"
      ]
     },
     "execution_count": 58,
     "metadata": {},
     "output_type": "execute_result"
    }
   ],
   "source": [
    "benedetti_words = benedetti.split()\n",
    "len(benedetti_words)"
   ]
  },
  {
   "cell_type": "markdown",
   "metadata": {},
   "source": [
    "El poema que contiene más palabras es el poema de Benedetti, con un total de 53 palabras. "
   ]
  },
  {
   "cell_type": "markdown",
   "metadata": {},
   "source": [
    "# Punto 2:\n",
    "\n",
    "- Hacer Web Scraping de 10 biografías en Wikipedia (en búcle)\n",
    "- Obtener el **encabezado** de cada biografía\n",
    "- Obtener todos los **contenidos** y **etiquetas de título** asociados a los **links** del primer párrafo"
   ]
  },
  {
   "cell_type": "markdown",
   "metadata": {},
   "source": [
    "<img src='img/carlsagan.png'>"
   ]
  },
  {
   "cell_type": "code",
   "execution_count": 3,
   "metadata": {},
   "outputs": [],
   "source": [
    "import bs4 as bs\n",
    "import urllib.request"
   ]
  },
  {
   "cell_type": "code",
   "execution_count": 4,
   "metadata": {},
   "outputs": [],
   "source": [
    "link_1 = \"https://es.wikipedia.org/wiki/Margaret_Thatcher\"\n",
    "link_2 = \"https://es.wikipedia.org/wiki/Policarpa_Salavarrieta\"\n",
    "link_3 = \"https://es.wikipedia.org/wiki/Marie_Curie\" \n",
    "link_4 = \"https://es.wikipedia.org/wiki/Albert_Einstein\"\n",
    "link_5 = \"https://es.wikipedia.org/wiki/Michael_jackson\"\n",
    "link_6 = \"https://es.wikipedia.org/wiki/Tarja_Turunen\"\n",
    "link_7 = \"https://es.wikipedia.org/wiki/Jon_Bon_Jovi\"\n",
    "link_8 = \"https://es.wikipedia.org/wiki/Simone_Simons\"\n",
    "link_9 = \"https://es.wikipedia.org/wiki/Mario_Benedetti\"\n",
    "link_10 = \"https://es.wikipedia.org/wiki/Julio_Cort%C3%A1zar\"\n"
   ]
  },
  {
   "cell_type": "markdown",
   "metadata": {},
   "source": [
    "# Biografía 1 : Margaret Thatcher"
   ]
  },
  {
   "cell_type": "code",
   "execution_count": 5,
   "metadata": {},
   "outputs": [
    {
     "name": "stdout",
     "output_type": "stream",
     "text": [
      "['Margaret Thatcher']\n"
     ]
    }
   ],
   "source": [
    "request = urllib.request.urlopen(link_1)\n",
    "fuente1 = request.read()\n",
    "request.close\n",
    "margaret_thatcher= bs.BeautifulSoup(fuente1,'html.parser')\n",
    "for etiqueta1 in margaret_thatcher.find_all('h1'):\n",
    "    print(etiqueta1.contents)"
   ]
  },
  {
   "cell_type": "code",
   "execution_count": 29,
   "metadata": {
    "scrolled": true
   },
   "outputs": [
    {
     "name": "stdout",
     "output_type": "stream",
     "text": [
      "['[ˈmɑːgɹət ˈθæʧə]']\n",
      "['de soltera']\n",
      "['Grantham']\n",
      "['13 de octubre']\n",
      "['1925']\n",
      "['Londres']\n",
      "['8 de abril']\n",
      "['2013']\n",
      "[<span class=\"corchete-llamada\">[</span>, '2', <span class=\"corchete-llamada\">]</span>]\n",
      "['política']\n",
      "['británica']\n",
      "['primera ministra del Reino Unido']\n",
      "['siglo XX']\n",
      "['Dama de Hierro']\n",
      "['thatcherismo']\n",
      "[<span class=\"corchete-llamada\">[</span>, '3', <span class=\"corchete-llamada\">]</span>]\n"
     ]
    }
   ],
   "source": [
    "parrafo_1 = margaret_thatcher.p\n",
    "for etiquetasp1 in parrafo_1.find_all('a'):\n",
    "    print(etiquetasp1.contents)"
   ]
  },
  {
   "cell_type": "markdown",
   "metadata": {},
   "source": [
    "# Biografía 2 : Policarpa Salavarrieta"
   ]
  },
  {
   "cell_type": "code",
   "execution_count": 12,
   "metadata": {},
   "outputs": [
    {
     "name": "stdout",
     "output_type": "stream",
     "text": [
      "['Policarpa Salavarrieta']\n"
     ]
    }
   ],
   "source": [
    "request = urllib.request.urlopen(link_2)\n",
    "fuente2 = request.read()\n",
    "request.close\n",
    "pola= bs.BeautifulSoup(fuente2,'html.parser')\n",
    "for etiqueta2 in pola.find_all('h1'):\n",
    "    print(etiqueta2.contents)"
   ]
  },
  {
   "cell_type": "code",
   "execution_count": 30,
   "metadata": {
    "scrolled": true
   },
   "outputs": [
    {
     "name": "stdout",
     "output_type": "stream",
     "text": [
      "['San Miguel de Guaduas']\n",
      "['Santafé']\n",
      "['Reconquista española']\n",
      "[<span class=\"corchete-llamada\">[</span>, '1', <span class=\"corchete-llamada\">]</span>]\n",
      "['independencia']\n",
      "['colombiana']\n",
      "['Plaza Mayor']\n"
     ]
    }
   ],
   "source": [
    "parrafo_1 = pola.p\n",
    "for etiquetasp2 in parrafo_1.find_all('a'):\n",
    "    print(etiquetasp2.contents)"
   ]
  },
  {
   "cell_type": "markdown",
   "metadata": {},
   "source": [
    "# Biografía 3 : Marie Curie"
   ]
  },
  {
   "cell_type": "code",
   "execution_count": 14,
   "metadata": {},
   "outputs": [
    {
     "name": "stdout",
     "output_type": "stream",
     "text": [
      "['Marie Curie']\n"
     ]
    }
   ],
   "source": [
    "request = urllib.request.urlopen(link_3)\n",
    "fuente3 = request.read()\n",
    "request.close\n",
    "marie_curie= bs.BeautifulSoup(fuente3,'html.parser')\n",
    "for etiqueta3 in marie_curie.find_all('h1'):\n",
    "    print(etiqueta3.contents)"
   ]
  },
  {
   "cell_type": "code",
   "execution_count": 31,
   "metadata": {
    "scrolled": true
   },
   "outputs": [
    {
     "name": "stdout",
     "output_type": "stream",
     "text": [
      "[<span class=\"corchete-llamada\">[</span>, 'A', <span class=\"corchete-llamada\">]</span>]\n",
      "[<span class=\"corchete-llamada\">[</span>, 'B', <span class=\"corchete-llamada\">]</span>]\n",
      "[<span class=\"corchete-llamada\">[</span>, 'C', <span class=\"corchete-llamada\">]</span>]\n",
      "[<span class=\"corchete-llamada\">[</span>, 'B', <span class=\"corchete-llamada\">]</span>]\n",
      "['Varsovia']\n",
      "['7 de noviembre']\n",
      "['1867']\n",
      "['Passy']\n",
      "['4 de julio']\n",
      "['1934']\n",
      "['científica']\n",
      "['polaca']\n",
      "['nacionalizada']\n",
      "['francesa']\n",
      "['radiactividad']\n",
      "['premios Nobel']\n",
      "['Física']\n",
      "['Química']\n",
      "[<span class=\"corchete-llamada\">[</span>, 'D', <span class=\"corchete-llamada\">]</span>]\n",
      "['Universidad de París']\n",
      "['Panteón de París']\n",
      "[<span class=\"corchete-llamada\">[</span>, 'E', <span class=\"corchete-llamada\">]</span>]\n"
     ]
    }
   ],
   "source": [
    "parrafo_1 = marie_curie.p\n",
    "for etiquetasp3 in parrafo_1.find_all('a'):\n",
    "    print(etiquetasp3.contents)"
   ]
  },
  {
   "cell_type": "markdown",
   "metadata": {},
   "source": [
    "# Biografía 4 : Albert Einstein"
   ]
  },
  {
   "cell_type": "code",
   "execution_count": 16,
   "metadata": {},
   "outputs": [
    {
     "name": "stdout",
     "output_type": "stream",
     "text": [
      "['Albert Einstein']\n"
     ]
    }
   ],
   "source": [
    "request = urllib.request.urlopen(link_4)\n",
    "fuente4 = request.read()\n",
    "request.close\n",
    "albert_einstein= bs.BeautifulSoup(fuente4,'html.parser')\n",
    "for etiqueta4 in albert_einstein.find_all('h1'):\n",
    "    print(etiqueta4.contents)"
   ]
  },
  {
   "cell_type": "code",
   "execution_count": 33,
   "metadata": {
    "scrolled": true
   },
   "outputs": [
    {
     "name": "stdout",
     "output_type": "stream",
     "text": [
      "['/ˈalbɛɐ̯t ˈʔaɪnʃtaɪn/']\n",
      "['Ulm']\n",
      "['Imperio alemán']\n",
      "['14 de marzo']\n",
      "['1879']\n",
      "['Princeton']\n",
      "['Estados Unidos']\n",
      "['18 de abril']\n",
      "['1955']\n",
      "['físico']\n",
      "['alemán']\n",
      "['judío']\n",
      "['suizo']\n",
      "['austriaco']\n",
      "['estadounidense']\n",
      "['científico']\n",
      "['siglo XX']\n",
      "[<span class=\"corchete-llamada\">[</span>, '1', <span class=\"corchete-llamada\">]</span>]\n",
      "[<span class=\"corchete-llamada\">[</span>, '2', <span class=\"corchete-llamada\">]</span>]\n"
     ]
    }
   ],
   "source": [
    "parrafo_1 = albert_einstein.p\n",
    "for etiquetasp4 in parrafo_1.find_all('a'):\n",
    "    print(etiquetasp4.contents)"
   ]
  },
  {
   "cell_type": "markdown",
   "metadata": {},
   "source": [
    "# Biografía 5 : Michael Jackson"
   ]
  },
  {
   "cell_type": "code",
   "execution_count": 18,
   "metadata": {},
   "outputs": [
    {
     "name": "stdout",
     "output_type": "stream",
     "text": [
      "['Michael Jackson']\n"
     ]
    }
   ],
   "source": [
    "request = urllib.request.urlopen(link_5)\n",
    "fuente5 = request.read()\n",
    "request.close\n",
    "michael_jackson= bs.BeautifulSoup(fuente5,'html.parser')\n",
    "for etiqueta5 in michael_jackson.find_all('h1'):\n",
    "    print(etiqueta5.contents)"
   ]
  },
  {
   "cell_type": "code",
   "execution_count": 34,
   "metadata": {
    "scrolled": true
   },
   "outputs": [
    {
     "name": "stdout",
     "output_type": "stream",
     "text": [
      "[<span class=\"corchete-llamada\">[</span>, '1', <span class=\"corchete-llamada\">]</span>]\n",
      "['Gary']\n",
      "['Indiana']\n",
      "['Los Ángeles']\n",
      "['California']\n",
      "['cantante']\n",
      "['compositor']\n",
      "['productor discográfico']\n",
      "['bailarín']\n",
      "['actor']\n",
      "['filántropo']\n",
      "['estadounidense']\n",
      "[<span class=\"corchete-llamada\">[</span>, '2', <span class=\"corchete-llamada\">]</span>]\n",
      "[<span class=\"corchete-llamada\">[</span>, '3', <span class=\"corchete-llamada\">]</span>]\n",
      "[<span class=\"corchete-llamada\">[</span>, '4', <span class=\"corchete-llamada\">]</span>]\n",
      "[<span class=\"corchete-llamada\">[</span>, '5', <span class=\"corchete-llamada\">]</span>]\n",
      "['cultura popular']\n",
      "[<span class=\"corchete-llamada\">[</span>, '6', <span class=\"corchete-llamada\">]</span>]\n",
      "['rhythm and blues']\n",
      "['soul']\n",
      "['funk']\n",
      "['rock']\n",
      "['disco']\n",
      "['dance']\n",
      "[<span class=\"corchete-llamada\">[</span>, '6', <span class=\"corchete-llamada\">]</span>]\n"
     ]
    }
   ],
   "source": [
    "parrafo_1 = michael_jackson.p\n",
    "for etiquetasp5 in parrafo_1.find_all('a'):\n",
    "    print(etiquetasp5.contents)"
   ]
  },
  {
   "cell_type": "markdown",
   "metadata": {},
   "source": [
    "# Biografía 6 : Tarja Turunen"
   ]
  },
  {
   "cell_type": "code",
   "execution_count": 36,
   "metadata": {
    "scrolled": true
   },
   "outputs": [
    {
     "name": "stdout",
     "output_type": "stream",
     "text": [
      "['Tarja Turunen']\n"
     ]
    }
   ],
   "source": [
    "request = urllib.request.urlopen(link_6)\n",
    "fuente6 = request.read()\n",
    "request.close\n",
    "tarja_turunen= bs.BeautifulSoup(fuente6,'html.parser')\n",
    "for etiqueta6 in tarja_turunen.find_all('h1'):\n",
    "    print(etiqueta6.contents)"
   ]
  },
  {
   "cell_type": "code",
   "execution_count": 37,
   "metadata": {
    "scrolled": true
   },
   "outputs": [
    {
     "name": "stdout",
     "output_type": "stream",
     "text": [
      "['Kitee']\n",
      "['17 de agosto']\n",
      "['1977']\n",
      "[<span class=\"corchete-llamada\">[</span>, '3', <span class=\"corchete-llamada\">]</span>]\n",
      "['finlandesa']\n",
      "['Nightwish']\n",
      "['Tuomas Holopainen']\n",
      "['Emppu Vuorinen']\n",
      "[<span class=\"corchete-llamada\">[</span>, '4', <span class=\"corchete-llamada\">]</span>]\n",
      "[<span class=\"corchete-llamada\">[</span>, '5', <span class=\"corchete-llamada\">]</span>]\n",
      "['Henkäys Ikuisuudesta']\n"
     ]
    }
   ],
   "source": [
    "parrafo_1 = tarja_turunen.p\n",
    "for etiquetasp6 in parrafo_1.find_all('a'):\n",
    "    print(etiquetasp6.contents)"
   ]
  },
  {
   "cell_type": "markdown",
   "metadata": {},
   "source": [
    "# Biografía 7 : Jon Bon Jovi"
   ]
  },
  {
   "cell_type": "code",
   "execution_count": 38,
   "metadata": {},
   "outputs": [
    {
     "name": "stdout",
     "output_type": "stream",
     "text": [
      "['Jon Bon Jovi']\n"
     ]
    }
   ],
   "source": [
    "request = urllib.request.urlopen(link_7)\n",
    "fuente7 = request.read()\n",
    "request.close\n",
    "bon_jovi= bs.BeautifulSoup(fuente7,'html.parser')\n",
    "for etiqueta7 in bon_jovi.find_all('h1'):\n",
    "    print(etiqueta7.contents)"
   ]
  },
  {
   "cell_type": "code",
   "execution_count": 39,
   "metadata": {
    "scrolled": true
   },
   "outputs": [
    {
     "name": "stdout",
     "output_type": "stream",
     "text": [
      "['Perth Amboy']\n",
      "['Nueva Jersey']\n",
      "['2 de marzo']\n",
      "['1962']\n",
      "['músico']\n",
      "['actor']\n",
      "['compositor']\n",
      "['filántropo']\n",
      "['productor discográfico']\n",
      "['estadounidense']\n",
      "['rock']\n",
      "['Bon Jovi']\n",
      "[<span class=\"corchete-llamada\">[</span>, '1', <span class=\"corchete-llamada\">]</span>]\n",
      "[<span class=\"corchete-llamada\">[</span>, '2', <span class=\"corchete-llamada\">]</span>]\n"
     ]
    }
   ],
   "source": [
    "parrafo_1 = bon_jovi.p\n",
    "for etiquetasp7 in parrafo_1.find_all('a'):\n",
    "    print(etiquetasp7.contents)"
   ]
  },
  {
   "cell_type": "markdown",
   "metadata": {},
   "source": [
    "# Biografía 8 : Simonne Simmons"
   ]
  },
  {
   "cell_type": "code",
   "execution_count": 40,
   "metadata": {},
   "outputs": [
    {
     "name": "stdout",
     "output_type": "stream",
     "text": [
      "['Simone Simons']\n"
     ]
    }
   ],
   "source": [
    "request = urllib.request.urlopen(link_8)\n",
    "fuente8 = request.read()\n",
    "request.close\n",
    "simone_simons= bs.BeautifulSoup(fuente8,'html.parser')\n",
    "for etiqueta8 in simone_simons.find_all('h1'):\n",
    "    print(etiqueta8.contents)"
   ]
  },
  {
   "cell_type": "code",
   "execution_count": 59,
   "metadata": {
    "scrolled": true
   },
   "outputs": [
    {
     "name": "stdout",
     "output_type": "stream",
     "text": [
      "['Heerlen']\n",
      "['Limburgo']\n",
      "['Países Bajos']\n",
      "['17 de enero']\n",
      "['1985']\n",
      "['influencer']\n",
      "['neerlandesa']\n"
     ]
    }
   ],
   "source": [
    "parrafo_1 = simone_simons.p\n",
    "for etiquetasp8 in parrafo_1.find_all('a'):\n",
    "    print(etiquetasp8.contents)"
   ]
  },
  {
   "cell_type": "markdown",
   "metadata": {},
   "source": [
    "# Biografía 9 : Mario Benedetti"
   ]
  },
  {
   "cell_type": "code",
   "execution_count": 60,
   "metadata": {},
   "outputs": [
    {
     "name": "stdout",
     "output_type": "stream",
     "text": [
      "['Mario Benedetti']\n"
     ]
    }
   ],
   "source": [
    "request = urllib.request.urlopen(link_9)\n",
    "fuente9 = request.read()\n",
    "request.close\n",
    "mario_benedetti= bs.BeautifulSoup(fuente9,'html.parser')\n",
    "for etiqueta9 in mario_benedetti.find_all('h1'):\n",
    "    print(etiqueta9.contents)"
   ]
  },
  {
   "cell_type": "code",
   "execution_count": 61,
   "metadata": {
    "scrolled": true
   },
   "outputs": [
    {
     "name": "stdout",
     "output_type": "stream",
     "text": [
      "['Paso de los Toros']\n",
      "['Montevideo']\n",
      "[<span class=\"corchete-llamada\">[</span>, '1', <span class=\"corchete-llamada\">]</span>]\n",
      "['poeta']\n",
      "['dramaturgo']\n",
      "['periodista']\n",
      "['uruguayo']\n",
      "['Generación del 45']\n",
      "['Idea Vilariño']\n",
      "['Juan Carlos Onetti']\n",
      "['Fundación Mario Benedetti']\n",
      "['derechos humanos']\n",
      "['detenidos desaparecidos']\n",
      "['Uruguay']\n"
     ]
    }
   ],
   "source": [
    "parrafo_1 = mario_benedetti.p\n",
    "for etiquetasp9 in parrafo_1.find_all('a'):\n",
    "    print(etiquetasp9.contents)"
   ]
  },
  {
   "cell_type": "markdown",
   "metadata": {},
   "source": [
    "# Biografía 10 : Julio Cortazar"
   ]
  },
  {
   "cell_type": "code",
   "execution_count": 62,
   "metadata": {},
   "outputs": [
    {
     "name": "stdout",
     "output_type": "stream",
     "text": [
      "['Julio Cortázar']\n"
     ]
    }
   ],
   "source": [
    "request = urllib.request.urlopen(link_10)\n",
    "fuente10 = request.read()\n",
    "request.close\n",
    "julio_cortazar= bs.BeautifulSoup(fuente10,'html.parser')\n",
    "for etiqueta10 in julio_cortazar.find_all('h1'):\n",
    "    print(etiqueta10.contents)"
   ]
  },
  {
   "cell_type": "code",
   "execution_count": 64,
   "metadata": {},
   "outputs": [
    {
     "name": "stdout",
     "output_type": "stream",
     "text": [
      "['Ixelles']\n",
      "['26 de agosto']\n",
      "['1914']\n",
      "['París']\n",
      "['12 de febrero']\n",
      "['1984']\n",
      "['escritor']\n",
      "['profesor']\n",
      "['traductor']\n",
      "['argentino']\n",
      "['Unesco']\n",
      "[<span class=\"corchete-llamada\">[</span>, '2', <span class=\"corchete-llamada\">]</span>]\n",
      "['francesa']\n",
      "['régimen militar']\n",
      "[<span class=\"corchete-llamada\">[</span>, '3', <span class=\"corchete-llamada\">]</span>]\n",
      "[<span class=\"corchete-llamada\">[</span>, '4', <span class=\"corchete-llamada\">]</span>]\n",
      "[<span class=\"corchete-llamada\">[</span>, '5', <span class=\"corchete-llamada\">]</span>]\n"
     ]
    }
   ],
   "source": [
    "parrafo_1 = julio_cortazar.p\n",
    "for etiquetasp10 in parrafo_1.find_all('a'):\n",
    "    print(etiquetasp10.contents)"
   ]
  }
 ],
 "metadata": {
  "kernelspec": {
   "display_name": "Python 3",
   "language": "python",
   "name": "python3"
  },
  "language_info": {
   "codemirror_mode": {
    "name": "ipython",
    "version": 3
   },
   "file_extension": ".py",
   "mimetype": "text/x-python",
   "name": "python",
   "nbconvert_exporter": "python",
   "pygments_lexer": "ipython3",
   "version": "3.7.4"
  }
 },
 "nbformat": 4,
 "nbformat_minor": 2
}
